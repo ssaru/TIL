{
 "cells": [
  {
   "cell_type": "code",
   "execution_count": 1,
   "metadata": {},
   "outputs": [
    {
     "name": "stdout",
     "output_type": "stream",
     "text": [
      "1.12.0\n"
     ]
    }
   ],
   "source": [
    "from __future__ import print_function\n",
    "import numpy as np\n",
    "import tensorflow as tf\n",
    "import tensorflow.keras as keras\n",
    "import tensorflow.contrib.eager as tfe\n",
    "import matplotlib.pyplot as plt\n",
    "from tqdm import tqdm_notebook, tqdm, trange\n",
    "tfe.enable_eager_execution()\n",
    "print(tf.__version__)"
   ]
  },
  {
   "cell_type": "code",
   "execution_count": 2,
   "metadata": {},
   "outputs": [],
   "source": [
    "tf.set_random_seed(2)"
   ]
  },
  {
   "cell_type": "code",
   "execution_count": 3,
   "metadata": {},
   "outputs": [
    {
     "name": "stdout",
     "output_type": "stream",
     "text": [
      "Downloading data from https://storage.googleapis.com/tensorflow/tf-keras-datasets/mnist.npz\n",
      "11493376/11490434 [==============================] - 1s 0us/step\n"
     ]
    }
   ],
   "source": [
    "(x_train, y_train), (x_test , y_test) = tf.keras.datasets.mnist.load_data()\n",
    "x_train = (x_train/255).astype(np.float32)\n",
    "x_test = (x_test/255).astype(np.float32)\n",
    "\n",
    "val_range = int(len(x_test) * 0.8)\n",
    "\n",
    "x_val = x_test[:val_range, :]\n",
    "y_val = y_test[:val_range]\n",
    "\n",
    "x_test = x_test[val_range:, :]\n",
    "y_test = y_test[val_range:]\n",
    "\n",
    "x_train = x_train.reshape((-1, 28, 28, 1))\n",
    "x_val = x_val.reshape((-1, 28, 28, 1))\n",
    "x_test = x_test.reshape((-1, 28, 28, 1))"
   ]
  },
  {
   "cell_type": "code",
   "execution_count": 4,
   "metadata": {},
   "outputs": [],
   "source": [
    "# Loss function\n",
    "def loss_fn(model, x, y):\n",
    "    logits = model(x)\n",
    "    y = tf.dtypes.cast(y, tf.int32)\n",
    "    return tf.losses.sparse_softmax_cross_entropy(labels=y, logits=logits)"
   ]
  },
  {
   "cell_type": "code",
   "execution_count": 5,
   "metadata": {},
   "outputs": [],
   "source": [
    "# Hyper Parameters\n",
    "epoch = 100\n",
    "batch_size = 100\n",
    "learning_rate = 0.005\n",
    "total_step = int(x_train.shape[0] / batch_size)\n",
    "\n",
    "# creating optimizer\n",
    "opt = tf.train.GradientDescentOptimizer(learning_rate=learning_rate)"
   ]
  },
  {
   "cell_type": "code",
   "execution_count": 6,
   "metadata": {},
   "outputs": [
    {
     "name": "stdout",
     "output_type": "stream",
     "text": [
      "<BatchDataset shapes: ((?, 28, 28, 1), (?,)), types: (tf.float32, tf.uint8)>\n",
      "<BatchDataset shapes: ((?, 28, 28, 1), (?,)), types: (tf.float32, tf.uint8)>\n",
      "<BatchDataset shapes: ((?, 28, 28, 1), (?,)), types: (tf.float32, tf.uint8)>\n"
     ]
    }
   ],
   "source": [
    "# train\n",
    "train_dataset = tf.data.Dataset.from_tensor_slices((x_train, y_train))\n",
    "train_dataset = train_dataset.shuffle(buffer_size=10000)\n",
    "train_dataset = train_dataset.batch(batch_size=batch_size)\n",
    "print(train_dataset)\n",
    "\n",
    "# validation\n",
    "val_dataset = tf.data.Dataset.from_tensor_slices((x_val, y_val))\n",
    "val_dataset = val_dataset.shuffle(buffer_size=10000)\n",
    "val_dataset = val_dataset.batch(batch_size=batch_size)\n",
    "print(val_dataset)\n",
    "\n",
    "# test\n",
    "test_dataset = tf.data.Dataset.from_tensor_slices((x_test, y_test))\n",
    "test_dataset = test_dataset.shuffle(buffer_size=10000)\n",
    "test_dataset = test_dataset.batch(batch_size=batch_size)\n",
    "print(test_dataset)"
   ]
  },
  {
   "cell_type": "markdown",
   "metadata": {},
   "source": [
    "# Batch Normalization + L2 Norm CNN"
   ]
  },
  {
   "cell_type": "code",
   "execution_count": 7,
   "metadata": {},
   "outputs": [],
   "source": [
    "class BathNormL2NormCNN(keras.Model):\n",
    "    def __init__(self, num_classes=10):\n",
    "        super(BathNormL2NormCNN, self).__init__()\n",
    "        self._layer1 = keras.layers.Conv2D(32, (3, 3), padding='same', strides=(1, 1), activation='linear',\n",
    "                                           kernel_initializer='he_normal', kernel_regularizer=keras.regularizers.l2(0.01))\n",
    "        self._layer2 = keras.layers.BatchNormalization()\n",
    "        self._layer3 = keras.layers.Activation('relu')\n",
    "        \n",
    "        self._layer4 = keras.layers.MaxPool2D()\n",
    "        \n",
    "        self._layer5 = keras.layers.Conv2D(64, (3, 3), padding='same', strides=(1, 1), activation='linear',\n",
    "                                           kernel_initializer='he_normal', kernel_regularizer=keras.regularizers.l2(0.01))\n",
    "        self._layer6 = keras.layers.BatchNormalization()\n",
    "        self._layer7 = keras.layers.Activation('relu')\n",
    "        \n",
    "        self._layer8 = keras.layers.MaxPool2D()\n",
    "        \n",
    "        self._layer9 = keras.layers.Conv2D(128, (3, 3), padding='same', strides=(1, 1), activation='linear',\n",
    "                                           kernel_initializer='he_normal', kernel_regularizer=keras.regularizers.l2(0.01))\n",
    "        self._layer10 = keras.layers.BatchNormalization()\n",
    "        self._layer11 = keras.layers.Activation('relu')\n",
    "        \n",
    "        self._layer12 = keras.layers.MaxPool2D()\n",
    "        \n",
    "        self._layer13 = keras.layers.Flatten()\n",
    "        self._layer14 = keras.layers.Dense(100, activation='tanh')\n",
    "        self._layer15 = keras.layers.Dense(10, activation='softmax')\n",
    "        \n",
    "        self.train_loss_hist = []\n",
    "        self.val_loss_hist = []\n",
    "\n",
    "    def call(self, inputs):\n",
    "        out = self._layer1(inputs)\n",
    "        out = self._layer2(out)\n",
    "        out = self._layer3(out)\n",
    "        out = self._layer4(out)\n",
    "        out = self._layer5(out)\n",
    "        out = self._layer6(out)\n",
    "        out = self._layer7(out)\n",
    "        out = self._layer8(out)\n",
    "        out = self._layer9(out)\n",
    "        out = self._layer10(out)\n",
    "        out = self._layer11(out)\n",
    "        out = self._layer12(out)\n",
    "        out = self._layer13(out)\n",
    "        out = self._layer14(out)\n",
    "        out = self._layer15(out)\n",
    "        return out"
   ]
  },
  {
   "cell_type": "code",
   "execution_count": 8,
   "metadata": {},
   "outputs": [],
   "source": [
    "bathNormL2NormCNN = BathNormL2NormCNN()"
   ]
  },
  {
   "cell_type": "code",
   "execution_count": 9,
   "metadata": {},
   "outputs": [
    {
     "data": {
      "application/vnd.jupyter.widget-view+json": {
       "model_id": "3f1dcac05bee4993b88f7d6bb5ffac87",
       "version_major": 2,
       "version_minor": 0
      },
      "text/plain": [
       "HBox(children=(IntProgress(value=0), HTML(value='')))"
      ]
     },
     "metadata": {},
     "output_type": "display_data"
    },
    {
     "name": "stdout",
     "output_type": "stream",
     "text": [
      "epoch :   9, train_loss : 1.52, val_loss : 1.52\n",
      "epoch :  19, train_loss : 1.50, val_loss : 1.50\n",
      "epoch :  29, train_loss : 1.49, val_loss : 1.49\n",
      "epoch :  39, train_loss : 1.48, val_loss : 1.49\n",
      "epoch :  49, train_loss : 1.48, val_loss : 1.49\n",
      "epoch :  59, train_loss : 1.48, val_loss : 1.48\n",
      "epoch :  69, train_loss : 1.48, val_loss : 1.48\n",
      "epoch :  79, train_loss : 1.47, val_loss : 1.48\n",
      "epoch :  89, train_loss : 1.47, val_loss : 1.48\n",
      "epoch :  99, train_loss : 1.47, val_loss : 1.48\n",
      "\n"
     ]
    }
   ],
   "source": [
    "# training\n",
    "total_bar_length = tqdm_notebook(range(epoch))\n",
    "\n",
    "device = '\\cpu:0' if tfe.num_gpus() == 0 else 'gpu:0'\n",
    "with tf.device(device):\n",
    "    for i in total_bar_length:\n",
    "\n",
    "        avg_train_loss = 0\n",
    "        avg_val_loss = 0\n",
    "        train_step = 0\n",
    "        val_step = 0\n",
    "\n",
    "        # training\n",
    "        with tf.contrib.summary.always_record_summaries():\n",
    "            for x, y in train_dataset:\n",
    "                with tf.GradientTape() as tape:\n",
    "                    train_loss = loss_fn(bathNormL2NormCNN, x, y)\n",
    "                grads = tape.gradient(target=train_loss, sources=bathNormL2NormCNN.variables)\n",
    "                opt.apply_gradients(grads_and_vars=zip(grads, bathNormL2NormCNN.variables))                \n",
    "                avg_train_loss += train_loss\n",
    "                train_step += 1\n",
    "            else:\n",
    "                avg_train_loss /= train_step\n",
    "                bathNormL2NormCNN.train_loss_hist.append(avg_train_loss)\n",
    "\n",
    "            # validation\n",
    "            for _x, _y in val_dataset:\n",
    "                val_loss = loss_fn(bathNormL2NormCNN, _x, _y)                \n",
    "                avg_val_loss += val_loss\n",
    "                val_step += 1\n",
    "            else:\n",
    "                avg_val_loss /= val_step\n",
    "                bathNormL2NormCNN.val_loss_hist.append(avg_val_loss)\n",
    "\n",
    "        if (i + 1) % 10 == 0:\n",
    "            print(\"epoch : {:3}, train_loss : {:.2f}, val_loss : {:.2f}\".format(i, avg_train_loss, avg_val_loss))"
   ]
  },
  {
   "cell_type": "code",
   "execution_count": 10,
   "metadata": {},
   "outputs": [
    {
     "data": {
      "image/png": "[encoded data removed]",
      "text/plain": [
       "<Figure size 432x288 with 1 Axes>"
      ]
     },
     "metadata": {
      "needs_background": "light"
     },
     "output_type": "display_data"
    }
   ],
   "source": [
    "plt.plot(bathNormL2NormCNN.train_loss_hist, label=\"train\")\n",
    "plt.plot(bathNormL2NormCNN.val_loss_hist, label=\"validation\")\n",
    "plt.legend()\n",
    "plt.show()"
   ]
  },
  {
   "cell_type": "code",
   "execution_count": 11,
   "metadata": {},
   "outputs": [
    {
     "name": "stdout",
     "output_type": "stream",
     "text": [
      "acc : 99.35%\n"
     ]
    }
   ],
   "source": [
    "scores = list()\n",
    "yhat = list()\n",
    "for __x, __y in test_dataset:\n",
    "    out = bathNormL2NormCNN.call(__x)\n",
    "    score = np.argmax(out, axis=1)\n",
    "    \n",
    "    scores.extend(score.tolist())\n",
    "    yhat.extend(__y.numpy().tolist())\n",
    "\n",
    "scores = np.asarray(scores)\n",
    "yhat = np.asarray(yhat)Q\n",
    "\n",
    "print(\"acc : {:.2%}\".format(np.mean(yhat == scores)))"
   ]
  },
  {
   "cell_type": "markdown",
   "metadata": {},
   "source": [
    "# Pure CNN"
   ]
  },
  {
   "cell_type": "code",
   "execution_count": 12,
   "metadata": {},
   "outputs": [],
   "source": [
    "class PureCNN(keras.Model):\n",
    "    def __init__(self, num_classes=10):\n",
    "        super(PureCNN, self).__init__()\n",
    "        self._layer1 = keras.layers.Conv2D(32, (3, 3), padding='same', strides=(1, 1), activation='linear',\n",
    "                                           kernel_initializer='he_normal')        \n",
    "        self._layer2 = keras.layers.Activation('relu')        \n",
    "        self._layer3 = keras.layers.MaxPool2D()\n",
    "        \n",
    "        self._layer4 = keras.layers.Conv2D(64, (3, 3), padding='same', strides=(1, 1), activation='linear',\n",
    "                                           kernel_initializer='he_normal')        \n",
    "        self._layer5 = keras.layers.Activation('relu')        \n",
    "        self._layer6 = keras.layers.MaxPool2D()\n",
    "        \n",
    "        self._layer7 = keras.layers.Conv2D(128, (3, 3), padding='same', strides=(1, 1), activation='linear',\n",
    "                                           kernel_initializer='he_normal')        \n",
    "        self._layer8 = keras.layers.Activation('relu')    \n",
    "        self._layer9 = keras.layers.MaxPool2D()\n",
    "        \n",
    "        self._layer10 = keras.layers.Flatten()\n",
    "        self._layer11 = keras.layers.Dense(100, activation='tanh')\n",
    "        self._layer12 = keras.layers.Dense(10, activation='softmax')\n",
    "        \n",
    "        self.train_loss_hist = []\n",
    "        self.val_loss_hist = []\n",
    "\n",
    "    def call(self, inputs):\n",
    "        out = self._layer1(inputs)\n",
    "        out = self._layer2(out)\n",
    "        out = self._layer3(out)\n",
    "        out = self._layer4(out)\n",
    "        out = self._layer5(out)\n",
    "        out = self._layer6(out)\n",
    "        out = self._layer7(out)\n",
    "        out = self._layer8(out)\n",
    "        out = self._layer9(out)\n",
    "        out = self._layer10(out)\n",
    "        out = self._layer11(out)        \n",
    "        out = self._layer12(out)\n",
    "        return out"
   ]
  },
  {
   "cell_type": "code",
   "execution_count": 13,
   "metadata": {},
   "outputs": [],
   "source": [
    "pureCNN = PureCNN()"
   ]
  },
  {
   "cell_type": "code",
   "execution_count": 14,
   "metadata": {},
   "outputs": [
    {
     "data": {
      "application/vnd.jupyter.widget-view+json": {
       "model_id": "54abe17fe31c48ff9db2e80239679285",
       "version_major": 2,
       "version_minor": 0
      },
      "text/plain": [
       "HBox(children=(IntProgress(value=0), HTML(value='')))"
      ]
     },
     "metadata": {},
     "output_type": "display_data"
    },
    {
     "name": "stdout",
     "output_type": "stream",
     "text": [
      "epoch :   9, train_loss : 1.52, val_loss : 1.52\n",
      "epoch :  19, train_loss : 1.50, val_loss : 1.50\n",
      "epoch :  29, train_loss : 1.49, val_loss : 1.49\n",
      "epoch :  39, train_loss : 1.48, val_loss : 1.49\n",
      "epoch :  49, train_loss : 1.48, val_loss : 1.49\n",
      "epoch :  59, train_loss : 1.48, val_loss : 1.48\n",
      "epoch :  69, train_loss : 1.48, val_loss : 1.48\n",
      "epoch :  79, train_loss : 1.48, val_loss : 1.48\n",
      "epoch :  89, train_loss : 1.47, val_loss : 1.48\n",
      "epoch :  99, train_loss : 1.47, val_loss : 1.48\n",
      "\n"
     ]
    }
   ],
   "source": [
    "# training\n",
    "total_bar_length = tqdm_notebook(range(epoch))\n",
    "\n",
    "device = '\\cpu:0' if tfe.num_gpus() == 0 else 'gpu:0'\n",
    "with tf.device(device):\n",
    "    for i in total_bar_length:\n",
    "\n",
    "        avg_train_loss = 0\n",
    "        avg_val_loss = 0\n",
    "        train_step = 0\n",
    "        val_step = 0\n",
    "\n",
    "        # training\n",
    "        with tf.contrib.summary.always_record_summaries():\n",
    "            for x, y in train_dataset:\n",
    "                with tf.GradientTape() as tape:\n",
    "                    train_loss = loss_fn(pureCNN, x, y)\n",
    "                grads = tape.gradient(target=train_loss, sources=pureCNN.variables)\n",
    "                opt.apply_gradients(grads_and_vars=zip(grads, pureCNN.variables))                \n",
    "                avg_train_loss += train_loss\n",
    "                train_step += 1\n",
    "            else:\n",
    "                avg_train_loss /= train_step\n",
    "                pureCNN.train_loss_hist.append(avg_train_loss)\n",
    "\n",
    "            # validation\n",
    "            for _x, _y in val_dataset:\n",
    "                val_loss = loss_fn(pureCNN, _x, _y)                \n",
    "                avg_val_loss += val_loss\n",
    "                val_step += 1\n",
    "            else:\n",
    "                avg_val_loss /= val_step\n",
    "                pureCNN.val_loss_hist.append(avg_val_loss)\n",
    "\n",
    "        if (i + 1) % 10 == 0:\n",
    "            print(\"epoch : {:3}, train_loss : {:.2f}, val_loss : {:.2f}\".format(i, avg_train_loss, avg_val_loss))"
   ]
  },
  {
   "cell_type": "code",
   "execution_count": 15,
   "metadata": {},
   "outputs": [
    {
     "data": {
      "image/png": "[encoded data removed]",
      "text/plain": [
       "<Figure size 432x288 with 1 Axes>"
      ]
     },
     "metadata": {
      "needs_background": "light"
     },
     "output_type": "display_data"
    }
   ],
   "source": [
    "plt.plot(pureCNN.train_loss_hist, label=\"train\")\n",
    "plt.plot(pureCNN.val_loss_hist, label=\"validation\")\n",
    "plt.legend()\n",
    "plt.show()"
   ]
  },
  {
   "cell_type": "code",
   "execution_count": 16,
   "metadata": {},
   "outputs": [
    {
     "name": "stdout",
     "output_type": "stream",
     "text": [
      "acc : 99.25%\n"
     ]
    }
   ],
   "source": [
    "scores = list()\n",
    "yhat = list()\n",
    "for __x, __y in test_dataset:\n",
    "    out = pureCNN.call(__x)\n",
    "    score = np.argmax(out, axis=1)\n",
    "    \n",
    "    scores.extend(score.tolist())\n",
    "    yhat.extend(__y.numpy().tolist())\n",
    "\n",
    "scores = np.asarray(scores)\n",
    "yhat = np.asarray(yhat)\n",
    "\n",
    "print(\"acc : {:.2%}\".format(np.mean(yhat == scores)))"
   ]
  },
  {
   "cell_type": "markdown",
   "metadata": {},
   "source": [
    "# L2 Norm CNN"
   ]
  },
  {
   "cell_type": "code",
   "execution_count": 17,
   "metadata": {},
   "outputs": [],
   "source": [
    "class L2NormCNN(keras.Model):\n",
    "    def __init__(self, num_classes=10):\n",
    "        super(L2NormCNN, self).__init__()\n",
    "        self._layer1 = keras.layers.Conv2D(32, (3, 3), padding='same', strides=(1, 1), activation='linear',\n",
    "                                           kernel_initializer='he_normal', kernel_regularizer=keras.regularizers.l2(0.01))        \n",
    "        self._layer2 = keras.layers.Activation('relu')        \n",
    "        self._layer3 = keras.layers.MaxPool2D()\n",
    "        \n",
    "        self._layer4 = keras.layers.Conv2D(64, (3, 3), padding='same', strides=(1, 1), activation='linear',\n",
    "                                           kernel_initializer='he_normal', kernel_regularizer=keras.regularizers.l2(0.01))        \n",
    "        self._layer5 = keras.layers.Activation('relu')        \n",
    "        self._layer6 = keras.layers.MaxPool2D()\n",
    "        \n",
    "        self._layer7 = keras.layers.Conv2D(128, (3, 3), padding='same', strides=(1, 1), activation='linear',\n",
    "                                           kernel_initializer='he_normal', kernel_regularizer=keras.regularizers.l2(0.01))        \n",
    "        self._layer8 = keras.layers.Activation('relu')        \n",
    "        self._layer9 = keras.layers.MaxPool2D()\n",
    "        \n",
    "        self._layer10 = keras.layers.Flatten()\n",
    "        self._layer11 = keras.layers.Dense(100, activation='tanh')\n",
    "        self._layer12 = keras.layers.Dense(10, activation='softmax')\n",
    "        \n",
    "        self.train_loss_hist = []\n",
    "        self.val_loss_hist = []\n",
    "\n",
    "    def call(self, inputs):\n",
    "        out = self._layer1(inputs)\n",
    "        out = self._layer2(out)\n",
    "        out = self._layer3(out)\n",
    "        out = self._layer4(out)\n",
    "        out = self._layer5(out)\n",
    "        out = self._layer6(out)\n",
    "        out = self._layer7(out)\n",
    "        out = self._layer8(out)\n",
    "        out = self._layer9(out)\n",
    "        out = self._layer10(out)\n",
    "        out = self._layer11(out)        \n",
    "        out = self._layer12(out)\n",
    "        return out"
   ]
  },
  {
   "cell_type": "code",
   "execution_count": 18,
   "metadata": {},
   "outputs": [],
   "source": [
    "l2NormCNN = L2NormCNN()"
   ]
  },
  {
   "cell_type": "code",
   "execution_count": 19,
   "metadata": {},
   "outputs": [
    {
     "data": {
      "application/vnd.jupyter.widget-view+json": {
       "model_id": "b003c8dcbab34ffebb8a4c38567bbff2",
       "version_major": 2,
       "version_minor": 0
      },
      "text/plain": [
       "HBox(children=(IntProgress(value=0), HTML(value='')))"
      ]
     },
     "metadata": {},
     "output_type": "display_data"
    },
    {
     "name": "stdout",
     "output_type": "stream",
     "text": [
      "epoch :   9, train_loss : 1.53, val_loss : 1.53\n",
      "epoch :  19, train_loss : 1.50, val_loss : 1.50\n",
      "epoch :  29, train_loss : 1.49, val_loss : 1.49\n",
      "epoch :  39, train_loss : 1.49, val_loss : 1.49\n",
      "epoch :  49, train_loss : 1.48, val_loss : 1.48\n",
      "epoch :  59, train_loss : 1.48, val_loss : 1.48\n",
      "epoch :  69, train_loss : 1.48, val_loss : 1.48\n",
      "epoch :  79, train_loss : 1.48, val_loss : 1.48\n",
      "epoch :  89, train_loss : 1.47, val_loss : 1.48\n",
      "epoch :  99, train_loss : 1.47, val_loss : 1.48\n",
      "\n"
     ]
    }
   ],
   "source": [
    "# training\n",
    "total_bar_length = tqdm_notebook(range(epoch))\n",
    "\n",
    "device = '\\cpu:0' if tfe.num_gpus() == 0 else 'gpu:0'\n",
    "with tf.device(device):\n",
    "    for i in total_bar_length:\n",
    "\n",
    "        avg_train_loss = 0\n",
    "        avg_val_loss = 0\n",
    "        train_step = 0\n",
    "        val_step = 0\n",
    "\n",
    "        # training\n",
    "        with tf.contrib.summary.always_record_summaries():\n",
    "            for x, y in train_dataset:\n",
    "                with tf.GradientTape() as tape:\n",
    "                    train_loss = loss_fn(l2NormCNN, x, y)\n",
    "                grads = tape.gradient(target=train_loss, sources=l2NormCNN.variables)\n",
    "                opt.apply_gradients(grads_and_vars=zip(grads, l2NormCNN.variables))                \n",
    "                avg_train_loss += train_loss\n",
    "                train_step += 1\n",
    "            else:\n",
    "                avg_train_loss /= train_step\n",
    "                l2NormCNN.train_loss_hist.append(avg_train_loss)\n",
    "\n",
    "            # validation\n",
    "            for _x, _y in val_dataset:\n",
    "                val_loss = loss_fn(l2NormCNN, _x, _y)                \n",
    "                avg_val_loss += val_loss\n",
    "                val_step += 1\n",
    "            else:\n",
    "                avg_val_loss /= val_step\n",
    "                l2NormCNN.val_loss_hist.append(avg_val_loss)\n",
    "\n",
    "        if (i + 1) % 10 == 0:\n",
    "            print(\"epoch : {:3}, train_loss : {:.2f}, val_loss : {:.2f}\".format(i, avg_train_loss, avg_val_loss))"
   ]
  },
  {
   "cell_type": "code",
   "execution_count": 20,
   "metadata": {},
   "outputs": [
    {
     "data": {
      "image/png": "[encoded data removed]",
      "text/plain": [
       "<Figure size 432x288 with 1 Axes>"
      ]
     },
     "metadata": {
      "needs_background": "light"
     },
     "output_type": "display_data"
    }
   ],
   "source": [
    "plt.plot(l2NormCNN.train_loss_hist, label=\"train\")\n",
    "plt.plot(l2NormCNN.val_loss_hist, label=\"validation\")\n",
    "plt.legend()\n",
    "plt.show()"
   ]
  },
  {
   "cell_type": "code",
   "execution_count": 21,
   "metadata": {},
   "outputs": [
    {
     "name": "stdout",
     "output_type": "stream",
     "text": [
      "acc : 98.90%\n"
     ]
    }
   ],
   "source": [
    "scores = list()\n",
    "yhat = list()\n",
    "for __x, __y in test_dataset:\n",
    "    out = l2NormCNN.call(__x)\n",
    "    score = np.argmax(out, axis=1)\n",
    "    \n",
    "    scores.extend(score.tolist())\n",
    "    yhat.extend(__y.numpy().tolist())\n",
    "\n",
    "scores = np.asarray(scores)\n",
    "yhat = np.asarray(yhat)\n",
    "\n",
    "print(\"acc : {:.2%}\".format(np.mean(yhat == scores)))"
   ]
  },
  {
   "cell_type": "markdown",
   "metadata": {},
   "source": [
    "# Batch Normalization CNN"
   ]
  },
  {
   "cell_type": "code",
   "execution_count": 22,
   "metadata": {},
   "outputs": [],
   "source": [
    "class BatchNormCNN(keras.Model):\n",
    "    def __init__(self, num_classes=10):\n",
    "        super(BatchNormCNN, self).__init__()\n",
    "        self._layer1 = keras.layers.Conv2D(32, (3, 3), padding='same', strides=(1, 1), activation='linear',\n",
    "                                           kernel_initializer='he_normal')\n",
    "        self._layer2 = keras.layers.BatchNormalization()\n",
    "        self._layer3 = keras.layers.Activation('relu')        \n",
    "        self._layer4 = keras.layers.MaxPool2D()\n",
    "        \n",
    "        self._layer5 = keras.layers.Conv2D(64, (3, 3), padding='same', strides=(1, 1), activation='linear',\n",
    "                                           kernel_initializer='he_normal')\n",
    "        self._layer6 = keras.layers.BatchNormalization()\n",
    "        self._layer7 = keras.layers.Activation('relu')        \n",
    "        self._layer8 = keras.layers.MaxPool2D()\n",
    "        \n",
    "        self._layer9 = keras.layers.Conv2D(128, (3, 3), padding='same', strides=(1, 1), activation='linear',\n",
    "                                           kernel_initializer='he_normal')\n",
    "        self._layer10 = keras.layers.BatchNormalization()\n",
    "        self._layer11 = keras.layers.Activation('relu')        \n",
    "        self._layer12 = keras.layers.MaxPool2D()\n",
    "        \n",
    "        self._layer13 = keras.layers.Flatten()\n",
    "        self._layer14 = keras.layers.Dense(100, activation='tanh')\n",
    "        self._layer15 = keras.layers.Dense(10, activation='softmax')\n",
    "        \n",
    "        self.train_loss_hist = []\n",
    "        self.val_loss_hist = []\n",
    "\n",
    "    def call(self, inputs):\n",
    "        out = self._layer1(inputs)\n",
    "        out = self._layer2(out)\n",
    "        out = self._layer3(out)\n",
    "        out = self._layer4(out)\n",
    "        out = self._layer5(out)\n",
    "        out = self._layer6(out)\n",
    "        out = self._layer7(out)\n",
    "        out = self._layer8(out)\n",
    "        out = self._layer9(out)\n",
    "        out = self._layer10(out)\n",
    "        out = self._layer11(out)\n",
    "        out = self._layer12(out)\n",
    "        out = self._layer13(out)\n",
    "        out = self._layer14(out)\n",
    "        out = self._layer15(out)\n",
    "        return out"
   ]
  },
  {
   "cell_type": "code",
   "execution_count": 23,
   "metadata": {},
   "outputs": [],
   "source": [
    "batchNormCNN = BatchNormCNN()"
   ]
  },
  {
   "cell_type": "code",
   "execution_count": 24,
   "metadata": {},
   "outputs": [
    {
     "data": {
      "application/vnd.jupyter.widget-view+json": {
       "model_id": "e6fead5969ac4af6aa7f263448ac7be6",
       "version_major": 2,
       "version_minor": 0
      },
      "text/plain": [
       "HBox(children=(IntProgress(value=0), HTML(value='')))"
      ]
     },
     "metadata": {},
     "output_type": "display_data"
    },
    {
     "name": "stdout",
     "output_type": "stream",
     "text": [
      "epoch :   9, train_loss : 1.52, val_loss : 1.52\n",
      "epoch :  19, train_loss : 1.50, val_loss : 1.50\n",
      "epoch :  29, train_loss : 1.49, val_loss : 1.49\n",
      "epoch :  39, train_loss : 1.48, val_loss : 1.49\n",
      "epoch :  49, train_loss : 1.48, val_loss : 1.48\n",
      "epoch :  59, train_loss : 1.48, val_loss : 1.48\n",
      "epoch :  69, train_loss : 1.48, val_loss : 1.48\n",
      "epoch :  79, train_loss : 1.47, val_loss : 1.48\n",
      "epoch :  89, train_loss : 1.47, val_loss : 1.48\n",
      "epoch :  99, train_loss : 1.47, val_loss : 1.48\n",
      "\n"
     ]
    }
   ],
   "source": [
    "# training\n",
    "total_bar_length = tqdm_notebook(range(epoch))\n",
    "\n",
    "device = '\\cpu:0' if tfe.num_gpus() == 0 else 'gpu:0'\n",
    "with tf.device(device):\n",
    "    for i in total_bar_length:\n",
    "\n",
    "        avg_train_loss = 0\n",
    "        avg_val_loss = 0\n",
    "        train_step = 0\n",
    "        val_step = 0\n",
    "\n",
    "        # training\n",
    "        with tf.contrib.summary.always_record_summaries():\n",
    "            for x, y in train_dataset:\n",
    "                with tf.GradientTape() as tape:\n",
    "                    train_loss = loss_fn(batchNormCNN, x, y)\n",
    "                grads = tape.gradient(target=train_loss, sources=batchNormCNN.variables)\n",
    "                opt.apply_gradients(grads_and_vars=zip(grads, batchNormCNN.variables))                \n",
    "                avg_train_loss += train_loss\n",
    "                train_step += 1\n",
    "            else:\n",
    "                avg_train_loss /= train_step\n",
    "                batchNormCNN.train_loss_hist.append(avg_train_loss)\n",
    "\n",
    "            # validation\n",
    "            for _x, _y in val_dataset:\n",
    "                val_loss = loss_fn(batchNormCNN, _x, _y)                \n",
    "                avg_val_loss += val_loss\n",
    "                val_step += 1\n",
    "            else:\n",
    "                avg_val_loss /= val_step\n",
    "                batchNormCNN.val_loss_hist.append(avg_val_loss)\n",
    "\n",
    "        if (i + 1) % 10 == 0:\n",
    "            print(\"epoch : {:3}, train_loss : {:.2f}, val_loss : {:.2f}\".format(i, avg_train_loss, avg_val_loss))"
   ]
  },
  {
   "cell_type": "code",
   "execution_count": 25,
   "metadata": {},
   "outputs": [
    {
     "data": {
      "image/png": "[encoded data removed]",
      "text/plain": [
       "<Figure size 432x288 with 1 Axes>"
      ]
     },
     "metadata": {
      "needs_background": "light"
     },
     "output_type": "display_data"
    }
   ],
   "source": [
    "plt.plot(batchNormCNN.train_loss_hist, label=\"train\")\n",
    "plt.plot(batchNormCNN.val_loss_hist, label=\"validation\")\n",
    "plt.legend()\n",
    "plt.show()"
   ]
  },
  {
   "cell_type": "code",
   "execution_count": 26,
   "metadata": {},
   "outputs": [
    {
     "name": "stdout",
     "output_type": "stream",
     "text": [
      "acc : 99.40%\n"
     ]
    }
   ],
   "source": [
    "scores = list()\n",
    "yhat = list()\n",
    "for __x, __y in test_dataset:\n",
    "    out = batchNormCNN.call(__x)\n",
    "    score = np.argmax(out, axis=1)\n",
    "    \n",
    "    scores.extend(score.tolist())\n",
    "    yhat.extend(__y.numpy().tolist())\n",
    "\n",
    "scores = np.asarray(scores)\n",
    "yhat = np.asarray(yhat)\n",
    "\n",
    "print(\"acc : {:.2%}\".format(np.mean(yhat == scores)))"
   ]
  },
  {
   "cell_type": "markdown",
   "metadata": {},
   "source": [
    "# Batch Normalization + L2 Norm CNN"
   ]
  },
  {
   "cell_type": "code",
   "execution_count": 28,
   "metadata": {},
   "outputs": [
    {
     "data": {
      "image/png": "[encoded data removed]",
      "text/plain": [
       "<Figure size 432x288 with 1 Axes>"
      ]
     },
     "metadata": {
      "needs_background": "light"
     },
     "output_type": "display_data"
    }
   ],
   "source": [
    "plt.plot(bathNormL2NormCNN.train_loss_hist, label=\"train\")\n",
    "plt.plot(bathNormL2NormCNN.val_loss_hist, label=\"validation\")\n",
    "plt.legend()\n",
    "plt.show()"
   ]
  },
  {
   "cell_type": "code",
   "execution_count": 31,
   "metadata": {},
   "outputs": [
    {
     "name": "stdout",
     "output_type": "stream",
     "text": [
      "acc : 99.35%\n"
     ]
    }
   ],
   "source": [
    "scores = list()\n",
    "yhat = list()\n",
    "for __x, __y in test_dataset:\n",
    "    out = bathNormL2NormCNN.call(__x)\n",
    "    score = np.argmax(out, axis=1)\n",
    "    \n",
    "    scores.extend(score.tolist())\n",
    "    yhat.extend(__y.numpy().tolist())\n",
    "\n",
    "scores = np.asarray(scores)\n",
    "yhat = np.asarray(yhat)\n",
    "\n",
    "print(\"acc : {:.2%}\".format(np.mean(yhat == scores)))"
   ]
  },
  {
   "cell_type": "code",
   "execution_count": 53,
   "metadata": {},
   "outputs": [
    {
     "name": "stdout",
     "output_type": "stream",
     "text": [
      "<tf.Variable 'bath_norm_l2_norm_cnn/batch_normalization/gamma:0' shape=(32,) dtype=float32, numpy=\n",
      "array([ 1.01601386,  1.14143002,  0.99628872,  1.27449   ,  1.00171113,\n",
      "        1.47389853,  1.13910401,  1.36294842,  1.07814348,  1.03184509,\n",
      "        1.0809176 ,  1.22293437,  1.04192936,  1.10699534,  1.00090849,\n",
      "        1.01065683,  1.07155108,  1.00258553,  1.00808787,  1.02066529,\n",
      "        0.99842399,  1.05130005,  0.99456841,  1.05583096,  1.04242384,\n",
      "        1.00880158,  1.15672314,  1.0164423 ,  1.05168521,  1.05439186,\n",
      "        1.40194738,  1.0263921 ], dtype=float32)>\n",
      "<tf.Variable 'bath_norm_l2_norm_cnn/batch_normalization/beta:0' shape=(32,) dtype=float32, numpy=\n",
      "array([  4.89750710e-05,   1.47651695e-02,  -4.26575728e-02,\n",
      "        -7.42603806e-05,  -1.35642595e-05,   2.31725193e-04,\n",
      "        -7.00390228e-05,   1.37685493e-04,   1.33578507e-02,\n",
      "         5.77017665e-03,  -6.58538338e-05,  -1.22230282e-04,\n",
      "        -7.30222138e-03,   1.19097950e-03,   2.52568349e-02,\n",
      "        -2.25144177e-05,  -1.13237468e-06,   1.57409981e-02,\n",
      "         5.41201234e-03,   2.05914639e-02,  -2.89962278e-03,\n",
      "        -1.15239585e-03,   5.93254017e-03,   2.91408924e-03,\n",
      "         1.80891659e-02,   3.71617191e-02,   1.34499627e-03,\n",
      "         9.38493386e-03,   2.45832209e-03,   6.41669659e-03,\n",
      "         3.00371670e-04,   3.37513350e-02], dtype=float32)>\n"
     ]
    }
   ],
   "source": [
    "comparision1 = BathNormL2NormCNN()\n",
    "print(bathNormL2NormCNN.variables[2])\n",
    "print(bathNormL2NormCNN.variables[3])"
   ]
  },
  {
   "cell_type": "markdown",
   "metadata": {},
   "source": [
    "# L2 Norm CNN"
   ]
  },
  {
   "cell_type": "code",
   "execution_count": 34,
   "metadata": {
    "scrolled": true
   },
   "outputs": [
    {
     "data": {
      "image/png": "[encoded data removed]",
      "text/plain": [
       "<Figure size 432x288 with 1 Axes>"
      ]
     },
     "metadata": {
      "needs_background": "light"
     },
     "output_type": "display_data"
    }
   ],
   "source": [
    "plt.plot(l2NormCNN.train_loss_hist, label=\"train\")\n",
    "plt.plot(l2NormCNN.val_loss_hist, label=\"validation\")\n",
    "plt.legend()\n",
    "plt.show()"
   ]
  },
  {
   "cell_type": "code",
   "execution_count": 35,
   "metadata": {},
   "outputs": [
    {
     "name": "stdout",
     "output_type": "stream",
     "text": [
      "acc : 98.90%\n"
     ]
    }
   ],
   "source": [
    "scores = list()\n",
    "yhat = list()\n",
    "for __x, __y in test_dataset:\n",
    "    out = l2NormCNN.call(__x)\n",
    "    score = np.argmax(out, axis=1)\n",
    "    \n",
    "    scores.extend(score.tolist())\n",
    "    yhat.extend(__y.numpy().tolist())\n",
    "\n",
    "scores = np.asarray(scores)\n",
    "yhat = np.asarray(yhat)\n",
    "\n",
    "print(\"acc : {:.2%}\".format(np.mean(yhat == scores)))"
   ]
  },
  {
   "cell_type": "markdown",
   "metadata": {},
   "source": [
    "# Pure CNN"
   ]
  },
  {
   "cell_type": "code",
   "execution_count": 32,
   "metadata": {},
   "outputs": [
    {
     "data": {
      "image/png": "[encoded data removed]",
      "text/plain": [
       "<Figure size 432x288 with 1 Axes>"
      ]
     },
     "metadata": {
      "needs_background": "light"
     },
     "output_type": "display_data"
    }
   ],
   "source": [
    "plt.plot(pureCNN.train_loss_hist, label=\"train\")\n",
    "plt.plot(pureCNN.val_loss_hist, label=\"validation\")\n",
    "plt.legend()\n",
    "plt.show()"
   ]
  },
  {
   "cell_type": "code",
   "execution_count": 33,
   "metadata": {},
   "outputs": [
    {
     "name": "stdout",
     "output_type": "stream",
     "text": [
      "acc : 99.25%\n"
     ]
    }
   ],
   "source": [
    "scores = list()\n",
    "yhat = list()\n",
    "for __x, __y in test_dataset:\n",
    "    out = pureCNN.call(__x)\n",
    "    score = np.argmax(out, axis=1)\n",
    "    \n",
    "    scores.extend(score.tolist())\n",
    "    yhat.extend(__y.numpy().tolist())\n",
    "\n",
    "scores = np.asarray(scores)\n",
    "yhat = np.asarray(yhat)\n",
    "\n",
    "print(\"acc : {:.2%}\".format(np.mean(yhat == scores)))"
   ]
  },
  {
   "cell_type": "markdown",
   "metadata": {},
   "source": [
    "# Batch Normalization CNN"
   ]
  },
  {
   "cell_type": "code",
   "execution_count": 36,
   "metadata": {},
   "outputs": [
    {
     "data": {
      "image/png": "[encoded data removed]",
      "text/plain": [
       "<Figure size 432x288 with 1 Axes>"
      ]
     },
     "metadata": {
      "needs_background": "light"
     },
     "output_type": "display_data"
    }
   ],
   "source": [
    "plt.plot(batchNormCNN.train_loss_hist, label=\"train\")\n",
    "plt.plot(batchNormCNN.val_loss_hist, label=\"validation\")\n",
    "plt.legend()\n",
    "plt.show()"
   ]
  },
  {
   "cell_type": "code",
   "execution_count": 37,
   "metadata": {},
   "outputs": [
    {
     "name": "stdout",
     "output_type": "stream",
     "text": [
      "acc : 99.40%\n"
     ]
    }
   ],
   "source": [
    "scores = list()\n",
    "yhat = list()\n",
    "for __x, __y in test_dataset:\n",
    "    out = batchNormCNN.call(__x)\n",
    "    score = np.argmax(out, axis=1)\n",
    "    \n",
    "    scores.extend(score.tolist())\n",
    "    yhat.extend(__y.numpy().tolist())\n",
    "\n",
    "scores = np.asarray(scores)\n",
    "yhat = np.asarray(yhat)\n",
    "\n",
    "print(\"acc : {:.2%}\".format(np.mean(yhat == scores)))"
   ]
  },
  {
   "cell_type": "code",
   "execution_count": null,
   "metadata": {},
   "outputs": [],
   "source": []
  }
 ],
 "metadata": {
  "kernelspec": {
   "display_name": "Python 3",
   "language": "python",
   "name": "python3"
  },
  "language_info": {
   "codemirror_mode": {
    "name": "ipython",
    "version": 3
   },
   "file_extension": ".py",
   "mimetype": "text/x-python",
   "name": "python",
   "nbconvert_exporter": "python",
   "pygments_lexer": "ipython3",
   "version": "3.5.2"
  }
 },
 "nbformat": 4,
 "nbformat_minor": 2
}
