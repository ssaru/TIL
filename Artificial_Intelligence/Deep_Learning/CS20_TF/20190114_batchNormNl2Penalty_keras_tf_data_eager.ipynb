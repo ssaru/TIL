{
 "cells": [
  {
   "cell_type": "code",
   "execution_count": null,
   "metadata": {},
   "outputs": [],
   "source": [
    "from __future__ import print_function\n",
    "import numpy as np\n",
    "import tensorflow as tf\n",
    "import matplotlib.pyplot as plt\n",
    "from tqdm import tqdm_notebook, tqdm, trange\n",
    "print(tf.__version__)"
   ]
  },
  {
   "cell_type": "code",
   "execution_count": 1,
   "metadata": {},
   "outputs": [
    {
     "ename": "NameError",
     "evalue": "name 'tf' is not defined",
     "output_type": "error",
     "traceback": [
      "\u001b[0;31m---------------------------------------------------------------------------\u001b[0m",
      "\u001b[0;31mNameError\u001b[0m                                 Traceback (most recent call last)",
      "\u001b[0;32m<ipython-input-1-848c81bdd101>\u001b[0m in \u001b[0;36m<module>\u001b[0;34m\u001b[0m\n\u001b[0;32m----> 1\u001b[0;31m \u001b[0mtf\u001b[0m\u001b[0;34m.\u001b[0m\u001b[0mset_random_seed\u001b[0m\u001b[0;34m(\u001b[0m\u001b[0;36m2\u001b[0m\u001b[0;34m)\u001b[0m\u001b[0;34m\u001b[0m\u001b[0;34m\u001b[0m\u001b[0m\n\u001b[0m",
      "\u001b[0;31mNameError\u001b[0m: name 'tf' is not defined"
     ]
    }
   ],
   "source": [
    "tf.set_random_seed(2)"
   ]
  },
  {
   "cell_type": "code",
   "execution_count": null,
   "metadata": {},
   "outputs": [],
   "source": [
    "(x_train, y_train), (x_test , y_test) = tf.keras.datasets.mnist.load_data()\n",
    "x_train = (x_train/255).astype(np.float32)\n",
    "x_test = (x_test/255).astype(np.float32)\n",
    "\n",
    "val_range = int(len(x_test) * 0.8)\n",
    "\n",
    "x_val = x_test[:val_range, :]\n",
    "y_val = y_test[:val_range]\n",
    "\n",
    "x_test = x_test[val_range:, :]\n",
    "y_test = y_test[val_range:]\n",
    "\n",
    "x_train = x_train.reshape((-1, 28, 28, 1))\n",
    "x_val = x_val.reshape((-1, 28, 28, 1))\n",
    "x_test = x_test.reshape((-1, 28, 28, 1))"
   ]
  },
  {
   "cell_type": "code",
   "execution_count": null,
   "metadata": {},
   "outputs": [],
   "source": [
    "class CNNClassifier(keras.Model):\n",
    "    def __init__(self, num_classes=10):\n",
    "        super(CNNClassifier, self).__init__()\n",
    "        self._layer1 = keras.layers.Conv2D(64, (5, 5), padding='same', strides=(2, 2), activation='relu',\n",
    "                                                kernel_initializer='he_normal')\n",
    "        self._layer2 = keras.layers.MaxPool2D()\n",
    "        self._layer3 = keras.layers.Conv2D(32, (5, 5), padding='same', strides=(2, 2), activation='relu',\n",
    "                                                kernel_initializer='he_normal')\n",
    "        \n",
    "        self._layer4 = keras.layers.GlobalAveragePooling2D()                \n",
    "        self._layer5 = keras.layers.Dense(10, activation='softmax')\n",
    "\n",
    "    def call(self, inputs):\n",
    "        out = self._layer1(inputs)\n",
    "        out = self._layer2(out)\n",
    "        out = self._layer3(out)\n",
    "        out = self._layer4(out)\n",
    "        out = self._layer5(out)\n",
    "        return out"
   ]
  },
  {
   "cell_type": "code",
   "execution_count": null,
   "metadata": {},
   "outputs": [],
   "source": [
    "# Loss function\n",
    "def loss_fn(model, x, y):\n",
    "    logits = model(x)\n",
    "    y = tf.dtypes.cast(y, tf.int32)\n",
    "    return tf.losses.sparse_softmax_cross_entropy(labels=y, logits=logits)"
   ]
  },
  {
   "cell_type": "code",
   "execution_count": null,
   "metadata": {},
   "outputs": [],
   "source": [
    "# Hyper Parameters\n",
    "epoch = 100\n",
    "batch_size = 100\n",
    "learning_rate = 0.005\n",
    "total_step = int(x_train.shape[0] / batch_size)"
   ]
  },
  {
   "cell_type": "code",
   "execution_count": null,
   "metadata": {},
   "outputs": [],
   "source": [
    "# train\n",
    "train_dataset = tf.data.Dataset.from_tensor_slices((x_train, y_train))\n",
    "train_dataset = train_dataset.shuffle(buffer_size=10000)\n",
    "train_dataset = train_dataset.batch(batch_size=batch_size)\n",
    "print(train_dataset)\n",
    "\n",
    "# validation\n",
    "val_dataset = tf.data.Dataset.from_tensor_slices((x_val, y_val))\n",
    "val_dataset = val_dataset.shuffle(buffer_size=10000)\n",
    "val_dataset = val_dataset.batch(batch_size=batch_size)\n",
    "print(val_dataset)\n",
    "\n",
    "# test\n",
    "test_dataset = tf.data.Dataset.from_tensor_slices((x_test, y_test))\n",
    "test_dataset = test_dataset.shuffle(buffer_size=10000)\n",
    "test_dataset = test_dataset.batch(batch_size=batch_size)\n",
    "print(test_dataset)"
   ]
  },
  {
   "cell_type": "code",
   "execution_count": null,
   "metadata": {},
   "outputs": [],
   "source": [
    "global_step = tf.train.get_or_create_global_step()\n",
    "\n",
    "# creating optimizer\n",
    "opt = tf.train.GradientDescentOptimizer(learning_rate=learning_rate)\n",
    "\n",
    "# create writer for tensorboard\n",
    "summary_writer = tf.contrib.summary.create_file_writer(logdir='./graphs/keras_eager/')"
   ]
  },
  {
   "cell_type": "code",
   "execution_count": null,
   "metadata": {},
   "outputs": [],
   "source": [
    "mnist = CNNClassifier()"
   ]
  },
  {
   "cell_type": "code",
   "execution_count": null,
   "metadata": {},
   "outputs": [],
   "source": [
    "# training\n",
    "train_loss_hist = []\n",
    "val_loss_hist = []\n",
    "\n",
    "total_bar_length = tqdm_notebook(range(epoch))\n",
    "\n",
    "device = '\\cpu:0' if tfe.num_gpus() == 0 else 'gpu:0'\n",
    "\n",
    "with tf.device(device):\n",
    "    for i in total_bar_length:\n",
    "\n",
    "        avg_train_loss = 0\n",
    "        avg_val_loss = 0\n",
    "        train_step = 0\n",
    "        val_step = 0\n",
    "\n",
    "        # training\n",
    "        with summary_writer.as_default(), tf.contrib.summary.always_record_summaries():\n",
    "            for x, y in train_dataset:\n",
    "                with tf.GradientTape() as tape:\n",
    "                    train_loss = loss_fn(mnist, x, y)\n",
    "                grads = tape.gradient(target=train_loss, sources=mnist.variables)\n",
    "                opt.apply_gradients(grads_and_vars=zip(grads, mnist.variables), global_step=global_step)\n",
    "                tf.contrib.summary.scalar(name='train_loss', tensor=train_loss)\n",
    "                avg_train_loss += train_loss\n",
    "                train_step += 1\n",
    "            else:\n",
    "                avg_train_loss /= train_step\n",
    "                train_loss_hist.append(avg_train_loss)\n",
    "\n",
    "            # validation\n",
    "            for _x, _y in val_dataset:\n",
    "                val_loss = loss_fn(mnist, _x, _y)\n",
    "                tf.contrib.summary.scalar(name='val_loss', tensor=val_loss)\n",
    "                avg_val_loss += val_loss\n",
    "                val_step += 1\n",
    "            else:\n",
    "                avg_val_loss /= val_step\n",
    "                val_loss_hist.append(avg_val_loss)\n",
    "\n",
    "        if (i + 1) % 10 == 0:\n",
    "            print(\"epoch : {:3}, train_loss : {:.2f}, val_loss : {:.2f}\".format(i, avg_train_loss, avg_val_loss))"
   ]
  },
  {
   "cell_type": "code",
   "execution_count": null,
   "metadata": {},
   "outputs": [],
   "source": [
    "plt.plot(train_loss_hist, label=\"train\")\n",
    "plt.plot(val_loss_hist, label=\"validation\")\n",
    "plt.legend()\n",
    "plt.show()"
   ]
  },
  {
   "cell_type": "code",
   "execution_count": null,
   "metadata": {},
   "outputs": [],
   "source": [
    "scores = list()\n",
    "yhat = list()\n",
    "for __x, __y in test_dataset:\n",
    "    out = mnist.call(__x)\n",
    "    score = np.argmax(out, axis=1)\n",
    "    \n",
    "    scores.extend(score.tolist())\n",
    "    yhat.extend(__y.numpy().tolist())\n",
    "\n",
    "scores = np.asarray(scores)\n",
    "yhat = np.asarray(yhat)\n",
    "\n",
    "print(\"acc : {:.2%}\".format(np.mean(yhat == scores)))"
   ]
  }
 ],
 "metadata": {
  "kernelspec": {
   "display_name": "Python 3",
   "language": "python",
   "name": "python3"
  },
  "language_info": {
   "codemirror_mode": {
    "name": "ipython",
    "version": 3
   },
   "file_extension": ".py",
   "mimetype": "text/x-python",
   "name": "python",
   "nbconvert_exporter": "python",
   "pygments_lexer": "ipython3",
   "version": "3.6.7"
  }
 },
 "nbformat": 4,
 "nbformat_minor": 2
}
