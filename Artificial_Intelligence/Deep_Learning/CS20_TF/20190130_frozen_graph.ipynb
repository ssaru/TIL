{
 "cells": [
  {
   "cell_type": "code",
   "execution_count": 1,
   "metadata": {},
   "outputs": [
    {
     "name": "stdout",
     "output_type": "stream",
     "text": [
      "1.11.0\n"
     ]
    }
   ],
   "source": [
    "from __future__ import print_function\n",
    "from tqdm import tqdm_notebook\n",
    "import numpy as np\n",
    "import tensorflow as tf\n",
    "import matplotlib.pyplot as plt\n",
    "%matplotlib inline\n",
    "print(tf.__version__)"
   ]
  },
  {
   "cell_type": "code",
   "execution_count": 2,
   "metadata": {},
   "outputs": [],
   "source": [
    "tf.set_random_seed(2)"
   ]
  },
  {
   "cell_type": "markdown",
   "metadata": {},
   "source": [
    "# Saving / Restoring  \n",
    "    \n",
    "    \n",
    "## Saver and Session Object  \n",
    "    \n",
    "데이터를 파일 시스템에 영구적으로 저장하려면 TF는 **Saver** Object와 **Session** Object가 필요하다.  \n",
    "     \n",
    "**Saver** Object의 Constructor는 아래와 같다.  \n",
    "\n",
    "```\n",
    "__init__(\n",
    "    var_list=None,\n",
    "    reshape=False,\n",
    "    sharded=False,\n",
    "    max_to_keep=5,\n",
    "    keep_checkpoint_every_n_hours=10000.0,\n",
    "    name=None,\n",
    "    restore_sequentially=False,\n",
    "    saver_def=None,\n",
    "    builder=None,\n",
    "    defer_build=False,\n",
    "    allow_empty=False,\n",
    "    write_version=tf.train.SaverDef.V2,\n",
    "    pad_step_number=False,\n",
    "    save_relative_paths=False,\n",
    "    filename=None\n",
    ")\n",
    "```  \n",
    "    \n",
    "- **var_list**는 파일시스템에 저장하는 변수의 리스트다\n",
    "- 모든 변수를 저장할 수 있고, 몇몇의 변수만 저장할 수 있으며, 사용자가 직접 정의한 이름의 딕셔너리를 전달할 수도 있다.  \n",
    "     \n",
    "**Session** Constructor는 아래와 같다.\n",
    "```\n",
    "__init__(\n",
    "    target='',\n",
    "    graph=None,\n",
    "    config=None\n",
    ")\n",
    "```  \n",
    "    \n",
    "- **target** : 분산 아키텍쳐 구조에서 어떤 계산을 처리할 때 사용한다. 특정 TF서버나 'target'을 정할 수 있다.\n",
    "- **graph** : **Session** Object가 처리하는 그래프를 의미한다. 기본 파라미터는 default graph가 된다.\n",
    "- **config** : **ConfigProto**를 입력으로 줄 수 있다. 자세한건 API document를 참조하자.\n",
    "    \n",
    "    \n",
    "**Saver**는 **Graph**의 metadata와 **Variable** 데이터의 saving과 loading(restoring이라고 불린다)을 처리한다.\n",
    "이를 위해서는 현재 Graph에서 평가될 수 있는 operation이 추가된다.  \n",
    "    \n",
    "     \n",
    "**Saver**는 기본적으로 **default Graphe**를 처리하며, 모든 변수를 포함한다. 이는 사용자가 원하면, 따로 설정할 수 있다.\n",
    "\n",
    "예제는 아래와 같다.\n",
    "```\n",
    "import tensorflow as tf\n",
    "\n",
    "import os\n",
    "dir = os.path.dirname(os.path.realpath(__file__))\n",
    "\n",
    "# Currently, we are in the default graph scope\n",
    "\n",
    "# Let's design some variables\n",
    "v1 = tf.Variable(1. , name=\"v1\")\n",
    "v2 = tf.Variable(2. , name=\"v2\")\n",
    "# Let's design an operation\n",
    "a = tf.add(v1, v2)\n",
    "\n",
    "# We can check easily that we are indeed in the default graph\n",
    "print(a.graph == tf.get_default_graph())\n",
    "# -> True\n",
    "\n",
    "# Let's create a Saver object\n",
    "# By default, the Saver handles every Variables related to the default graph\n",
    "all_saver = tf.train.Saver() \n",
    "# But you can precise which vars you want to save (as a list) and under which name (with a dict)\n",
    "v2_saver = tf.train.Saver({\"v2\": v2}) \n",
    "\n",
    "\n",
    "# By default the Session handles the default graph and all its included variables\n",
    "with tf.Session() as sess:\n",
    "  # Init v1 and v2   \n",
    "  sess.run(tf.global_variables_initializer())\n",
    "  # Now v1 holds the value 1.0 and v2 holds the value 2.0\n",
    "  # and we can save them\n",
    "  all_saver.save(sess, dir + '/data-all')\n",
    "  # or saves only v2\n",
    "v2_saver.save(sess, dir + '/data-v2')\n",
    "```\n",
    "     \n",
    "     \n",
    "**Saver** Object를 통해서 저장하게되면, 해당 폴더에는 3가지 파일이 저장되고, `checkpoint`file이 생긴다.  \n",
    "(자세한 내용은 따로 언급하겠다.)  \n",
    "    \n",
    "     \n",
    "단순하게, \n",
    "- **.data**파일에는 weight파일이.  \n",
    "- **.meta**파일에는 graph와 metadata파일이  \n",
    "저장된다고 이해하면 된다.  \n",
    "     \n",
    "     \n",
    "> **Saver**와 **Session**을 연결할 때, **Graph**가 **variables**을 포함하는지 확인해야한다.\n",
    "> 아래 예제를 확인하자\n",
    "    \n",
    "```\n",
    "import tensorflow as tf\n",
    "\n",
    "g = tf.Graph()\n",
    "with g.as_default():\n",
    "    v1 = tf.Variable(5., dtype=tf.float32)\n",
    "print(v1.graph == g)\n",
    "# -> True\n",
    "print(v1.graph == tf.get_default_graph())\n",
    "# -> False\n",
    "\n",
    "# The saver does not care in which part of the code it is constructed when given a list of variables\n",
    "saver = tf.train.Saver([v1])\n",
    "\n",
    "with tf.Session() as sess: \n",
    "    # The session handles the default graph which is NOT \"g\"\n",
    "    sess.run(tf.global_variables_initializer())\n",
    "\n",
    "    # This fails because \"v1\" is not in the default graph\n",
    "saver.save(sess, 'test')\n",
    "```\n",
    "    \n",
    "    "
   ]
  },
  {
   "cell_type": "code",
   "execution_count": 3,
   "metadata": {},
   "outputs": [],
   "source": [
    "(x_train, y_train), (x_test , y_test) = tf.keras.datasets.mnist.load_data()\n",
    "x_train = (x_train/255).astype(np.float32).reshape(-1, 784)\n",
    "x_test = (x_test/255).astype(np.float32).reshape(-1, 784)\n",
    "\n",
    "val_range = int(len(x_test) * 0.8)\n",
    "\n",
    "x_val = x_test[:val_range, :]\n",
    "y_val = y_test[:val_range]\n",
    "\n",
    "x_test = x_test[val_range:, :]\n",
    "y_test = y_test[val_range:]"
   ]
  },
  {
   "cell_type": "code",
   "execution_count": 4,
   "metadata": {},
   "outputs": [],
   "source": [
    "# Declare Input Node\n",
    "x = tf.placeholder(dtype=tf.float32)\n",
    "y = tf.placeholder(dtype=tf.int32)\n",
    "\n",
    "# Declare parameter\n",
    "layer1_weights = tf.Variable(initial_value=tf.truncated_normal([784, 500]) , dtype=tf.float32)\n",
    "layer2_weights = tf.Variable(initial_value=tf.truncated_normal([500, 200]) , dtype=tf.float32)\n",
    "layer3_weights = tf.Variable(initial_value=tf.truncated_normal([200, 10]) , dtype=tf.float32)\n",
    "\n",
    "# build graph\n",
    "feature1 = tf.matmul(x, layer1_weights)\n",
    "activation1 = tf.tanh(feature1)\n",
    "feature2 = tf.matmul(activation1, layer2_weights)\n",
    "activation2 = tf.tanh(feature2)\n",
    "score = tf.matmul(activation2, layer3_weights)\n",
    "\n",
    "prediction = tf.argmax(input = score, axis=1)\n",
    "\n",
    "loss = tf.losses.sparse_softmax_cross_entropy(labels=y, logits=score)"
   ]
  },
  {
   "cell_type": "code",
   "execution_count": 6,
   "metadata": {},
   "outputs": [
    {
     "data": {
      "application/vnd.jupyter.widget-view+json": {
       "model_id": "453631b7fcac4bdf82de31fca08b7362",
       "version_major": 2,
       "version_minor": 0
      },
      "text/html": [
       "<p>Failed to display Jupyter Widget of type <code>HBox</code>.</p>\n",
       "<p>\n",
       "  If you're reading this message in the Jupyter Notebook or JupyterLab Notebook, it may mean\n",
       "  that the widgets JavaScript is still loading. If this message persists, it\n",
       "  likely means that the widgets JavaScript library is either not installed or\n",
       "  not enabled. See the <a href=\"https://ipywidgets.readthedocs.io/en/stable/user_install.html\">Jupyter\n",
       "  Widgets Documentation</a> for setup instructions.\n",
       "</p>\n",
       "<p>\n",
       "  If you're reading this message in another frontend (for example, a static\n",
       "  rendering on GitHub or <a href=\"https://nbviewer.jupyter.org/\">NBViewer</a>),\n",
       "  it may mean that your frontend doesn't currently support widgets.\n",
       "</p>\n"
      ],
      "text/plain": [
       "HBox(children=(IntProgress(value=0), HTML(value='')))"
      ]
     },
     "metadata": {},
     "output_type": "display_data"
    },
    {
     "name": "stdout",
     "output_type": "stream",
     "text": [
      "\n",
      "train finished\n"
     ]
    }
   ],
   "source": [
    "opt = tf.train.GradientDescentOptimizer(learning_rate=0.01)\n",
    "optimizer = opt.minimize(loss)\n",
    "\n",
    "# TensorBoard\n",
    "softmaxLoss = tf.summary.scalar(name='softmax_loss', tensor=loss)\n",
    "train_writer = tf.summary.FileWriter('./graphs/low-level/train_mnist_dnn', graph=tf.get_default_graph())\n",
    "val_writer = tf.summary.FileWriter('./graphs/low-level/val_mnist_dnn', graph=tf.get_default_graph())\n",
    "\n",
    "saver = tf.train.Saver()\n",
    "\n",
    "# Hyper Parameter\n",
    "epoch = 100\n",
    "total_bar_length = tqdm_notebook(range(epoch))\n",
    "batch_size=1024\n",
    "total_step = int(x_train.shape[0] / batch_size)\n",
    "\n",
    "sess = tf.Session()\n",
    "sess.run(tf.global_variables_initializer())\n",
    "\n",
    "train_loss_hist = []\n",
    "val_loss_hist = []\n",
    "\n",
    "for i in total_bar_length:\n",
    "    avg_train_loss = 0   \n",
    "    avg_val_loss = 0 \n",
    "    \n",
    "    val_loss = 0\n",
    "    \n",
    "    train_loss_sum = 0    \n",
    "    val_loss_sum = 0\n",
    "    \n",
    "    for step in range(total_step):\n",
    "            batch_indices = np.random.choice(range(x_train.shape[0]), size=batch_size, replace=False)\n",
    "\n",
    "            batch_xs = x_train[batch_indices]\n",
    "            batch_ys = y_train[batch_indices]\n",
    "            \n",
    "            val_indices = np.random.choice(range(x_val.shape[0]), size=batch_size, replace=False)\n",
    "            \n",
    "            val_xs = x_val[val_indices]\n",
    "            val_ys = y_val[val_indices]\n",
    "\n",
    "            _, train_loss = sess.run([optimizer, loss], feed_dict={x:batch_xs, y:batch_ys})\n",
    "            \n",
    "            val_loss = sess.run(fetches = loss, feed_dict={x:val_xs, y:val_ys})\n",
    "            \n",
    "            avg_train_loss += train_loss / total_step\n",
    "            avg_val_loss += val_loss / total_step\n",
    "        \n",
    "    train_loss_hist.append(avg_train_loss)\n",
    "    val_loss_hist.append(val_loss)\n",
    "    \n",
    "    train_loss_sum = sess.run(softmaxLoss, feed_dict={x:batch_xs, y:batch_ys})\n",
    "    val_loss_sum = sess.run(fetches = softmaxLoss, feed_dict={x:val_xs, y:val_ys})\n",
    "\n",
    "    train_writer.add_summary(train_loss_sum, global_step = i)\n",
    "    val_writer.add_summary(val_loss_sum, global_step = i)\n",
    "        \n",
    "train_writer.close()\n",
    "val_writer.close()\n",
    "\n",
    "global_step = tf.train.get_global_step()\n",
    "saver.save(sess, './mnist', global_step=global_step)\n",
    "\n",
    "print(\"train finished\")"
   ]
  },
  {
   "cell_type": "code",
   "execution_count": 7,
   "metadata": {},
   "outputs": [
    {
     "data": {
      "image/png": "[encoded data removed]",
      "text/plain": [
       "<Figure size 432x288 with 1 Axes>"
      ]
     },
     "metadata": {},
     "output_type": "display_data"
    }
   ],
   "source": [
    "plt.plot(train_loss_hist, label=\"train\")\n",
    "plt.plot(val_loss_hist, label=\"validation\")\n",
    "plt.legend()\n",
    "plt.show()"
   ]
  },
  {
   "cell_type": "code",
   "execution_count": 8,
   "metadata": {},
   "outputs": [
    {
     "name": "stdout",
     "output_type": "stream",
     "text": [
      "acc : 82.65%\n"
     ]
    }
   ],
   "source": [
    "yhat = np.argmax(sess.run(score, feed_dict={x:x_test}), axis = 1)\n",
    "print(\"acc : {:.2%}\".format(np.mean(yhat == y_test)))"
   ]
  },
  {
   "cell_type": "markdown",
   "metadata": {},
   "source": [
    "## Restoring operations and other metadata"
   ]
  },
  {
   "cell_type": "code",
   "execution_count": null,
   "metadata": {},
   "outputs": [],
   "source": []
  },
  {
   "cell_type": "code",
   "execution_count": null,
   "metadata": {},
   "outputs": [],
   "source": []
  },
  {
   "cell_type": "code",
   "execution_count": null,
   "metadata": {},
   "outputs": [],
   "source": []
  },
  {
   "cell_type": "code",
   "execution_count": null,
   "metadata": {},
   "outputs": [],
   "source": []
  },
  {
   "cell_type": "code",
   "execution_count": null,
   "metadata": {},
   "outputs": [],
   "source": []
  },
  {
   "cell_type": "code",
   "execution_count": null,
   "metadata": {},
   "outputs": [],
   "source": []
  },
  {
   "cell_type": "code",
   "execution_count": null,
   "metadata": {},
   "outputs": [],
   "source": []
  },
  {
   "cell_type": "code",
   "execution_count": null,
   "metadata": {},
   "outputs": [],
   "source": []
  },
  {
   "cell_type": "code",
   "execution_count": null,
   "metadata": {},
   "outputs": [],
   "source": []
  },
  {
   "cell_type": "code",
   "execution_count": null,
   "metadata": {},
   "outputs": [],
   "source": []
  },
  {
   "cell_type": "code",
   "execution_count": null,
   "metadata": {},
   "outputs": [],
   "source": []
  },
  {
   "cell_type": "code",
   "execution_count": null,
   "metadata": {},
   "outputs": [],
   "source": []
  },
  {
   "cell_type": "code",
   "execution_count": null,
   "metadata": {},
   "outputs": [],
   "source": []
  },
  {
   "cell_type": "code",
   "execution_count": null,
   "metadata": {},
   "outputs": [],
   "source": []
  },
  {
   "cell_type": "code",
   "execution_count": null,
   "metadata": {},
   "outputs": [],
   "source": []
  },
  {
   "cell_type": "code",
   "execution_count": null,
   "metadata": {},
   "outputs": [],
   "source": []
  },
  {
   "cell_type": "code",
   "execution_count": null,
   "metadata": {},
   "outputs": [],
   "source": []
  },
  {
   "cell_type": "code",
   "execution_count": null,
   "metadata": {},
   "outputs": [],
   "source": []
  },
  {
   "cell_type": "code",
   "execution_count": null,
   "metadata": {},
   "outputs": [],
   "source": []
  },
  {
   "cell_type": "code",
   "execution_count": null,
   "metadata": {},
   "outputs": [],
   "source": []
  },
  {
   "cell_type": "code",
   "execution_count": null,
   "metadata": {},
   "outputs": [],
   "source": []
  }
 ],
 "metadata": {
  "kernelspec": {
   "display_name": "Python 3",
   "language": "python",
   "name": "python3"
  },
  "language_info": {
   "codemirror_mode": {
    "name": "ipython",
    "version": 3
   },
   "file_extension": ".py",
   "mimetype": "text/x-python",
   "name": "python",
   "nbconvert_exporter": "python",
   "pygments_lexer": "ipython3",
   "version": "3.6.3"
  }
 },
 "nbformat": 4,
 "nbformat_minor": 2
}
