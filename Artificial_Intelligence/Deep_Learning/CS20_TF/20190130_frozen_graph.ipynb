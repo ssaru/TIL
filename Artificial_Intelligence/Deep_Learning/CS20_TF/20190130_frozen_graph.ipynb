{
 "cells": [
  {
   "cell_type": "code",
   "execution_count": 1,
   "metadata": {},
   "outputs": [
    {
     "name": "stdout",
     "output_type": "stream",
     "text": [
      "1.11.0\n"
     ]
    }
   ],
   "source": [
    "from __future__ import print_function\n",
    "from tqdm import tqdm_notebook\n",
    "import numpy as np\n",
    "import tensorflow as tf\n",
    "from tensorflow.core.protobuf import saver_pb2\n",
    "import matplotlib.pyplot as plt\n",
    "%matplotlib inline\n",
    "print(tf.__version__)"
   ]
  },
  {
   "cell_type": "code",
   "execution_count": 2,
   "metadata": {},
   "outputs": [],
   "source": [
    "tf.set_random_seed(2)"
   ]
  },
  {
   "cell_type": "markdown",
   "metadata": {},
   "source": [
    "# Saving / Restoring  \n",
    "    \n",
    "    \n",
    "## Saver and Session Object  \n",
    "    \n",
    "데이터를 파일 시스템에 영구적으로 저장하려면 TF는 **Saver** Object와 **Session** Object가 필요하다.  \n",
    "     \n",
    "**Saver** Object의 Constructor는 아래와 같다.  \n",
    "\n",
    "```\n",
    "__init__(\n",
    "    var_list=None,\n",
    "    reshape=False,\n",
    "    sharded=False,\n",
    "    max_to_keep=5,\n",
    "    keep_checkpoint_every_n_hours=10000.0,\n",
    "    name=None,\n",
    "    restore_sequentially=False,\n",
    "    saver_def=None,\n",
    "    builder=None,\n",
    "    defer_build=False,\n",
    "    allow_empty=False,\n",
    "    write_version=tf.train.SaverDef.V2,\n",
    "    pad_step_number=False,\n",
    "    save_relative_paths=False,\n",
    "    filename=None\n",
    ")\n",
    "```  \n",
    "    \n",
    "- **var_list**는 파일시스템에 저장하는 변수의 리스트다\n",
    "- 모든 변수를 저장할 수 있고, 몇몇의 변수만 저장할 수 있으며, 사용자가 직접 정의한 이름의 딕셔너리를 전달할 수도 있다.  \n",
    "     \n",
    "-------------\n",
    "     \n",
    "**Session** Constructor는 아래와 같다.\n",
    "```\n",
    "__init__(\n",
    "    target='',\n",
    "    graph=None,\n",
    "    config=None\n",
    ")\n",
    "```  \n",
    "    \n",
    "- **target** : 분산 아키텍쳐 구조에서 어떤 계산을 처리할 때 사용한다. 특정 TF서버나 'target'을 정할 수 있다.\n",
    "- **graph** : **Session** Object가 처리하는 그래프를 의미한다. 기본 파라미터는 default graph가 된다.\n",
    "- **config** : **ConfigProto**를 입력으로 줄 수 있다. 자세한건 API document를 참조하자.\n",
    "    \n",
    "    \n",
    "**Saver**는 **Graph**의 metadata와 **Variable** 데이터의 saving과 loading(restoring이라고 불린다)을 처리한다.\n",
    "이를 위해서는 현재 Graph에서 평가될 수 있는 operation이 추가된다.  \n",
    "    \n",
    "     \n",
    "**Saver**는 기본적으로 **default Graphe**를 처리하며, 모든 변수를 포함한다. 이는 사용자가 원하면, 따로 설정할 수 있다.\n",
    "\n",
    "예제는 아래와 같다.\n",
    "```\n",
    "import tensorflow as tf\n",
    "\n",
    "import os\n",
    "dir = os.path.dirname(os.path.realpath(__file__))\n",
    "\n",
    "# Currently, we are in the default graph scope\n",
    "\n",
    "# Let's design some variables\n",
    "v1 = tf.Variable(1. , name=\"v1\")\n",
    "v2 = tf.Variable(2. , name=\"v2\")\n",
    "# Let's design an operation\n",
    "a = tf.add(v1, v2)\n",
    "\n",
    "# We can check easily that we are indeed in the default graph\n",
    "print(a.graph == tf.get_default_graph())\n",
    "# -> True\n",
    "\n",
    "# Let's create a Saver object\n",
    "# By default, the Saver handles every Variables related to the default graph\n",
    "all_saver = tf.train.Saver() \n",
    "# But you can precise which vars you want to save (as a list) and under which name (with a dict)\n",
    "v2_saver = tf.train.Saver({\"v2\": v2}) \n",
    "\n",
    "\n",
    "# By default the Session handles the default graph and all its included variables\n",
    "with tf.Session() as sess:\n",
    "  # Init v1 and v2   \n",
    "  sess.run(tf.global_variables_initializer())\n",
    "  # Now v1 holds the value 1.0 and v2 holds the value 2.0\n",
    "  # and we can save them\n",
    "  all_saver.save(sess, dir + '/data-all')\n",
    "  # or saves only v2\n",
    "v2_saver.save(sess, dir + '/data-v2')\n",
    "```\n",
    "     \n",
    "----\n",
    "     \n",
    "     \n",
    "**Saver** Object를 통해서 저장하게되면, 해당 폴더에는 3가지 파일이 저장되고, `checkpoint`file이 생긴다.  \n",
    "(자세한 내용은 따로 언급하겠다.)  \n",
    "    \n",
    "     \n",
    "단순하게, \n",
    "- **.data**파일에는 weight파일이.  \n",
    "- **.meta**파일에는 graph와 metadata파일이  \n",
    "저장된다고 이해하면 된다.  \n",
    "     \n",
    "     \n",
    "> **Saver**와 **Session**을 연결할 때, **Graph**가 **variables**을 포함하는지 확인해야한다.\n",
    "> 아래 예제를 확인하자\n",
    "    \n",
    "```\n",
    "import tensorflow as tf\n",
    "\n",
    "g = tf.Graph()\n",
    "with g.as_default():\n",
    "    v1 = tf.Variable(5., dtype=tf.float32)\n",
    "print(v1.graph == g)\n",
    "# -> True\n",
    "print(v1.graph == tf.get_default_graph())\n",
    "# -> False\n",
    "\n",
    "# The saver does not care in which part of the code it is constructed when given a list of variables\n",
    "saver = tf.train.Saver([v1])\n",
    "\n",
    "with tf.Session() as sess: \n",
    "    # The session handles the default graph which is NOT \"g\"\n",
    "    sess.run(tf.global_variables_initializer())\n",
    "\n",
    "    # This fails because \"v1\" is not in the default graph\n",
    "saver.save(sess, 'test')\n",
    "```\n",
    "    \n",
    "    "
   ]
  },
  {
   "cell_type": "code",
   "execution_count": 3,
   "metadata": {},
   "outputs": [],
   "source": [
    "(x_train, y_train), (x_test , y_test) = tf.keras.datasets.mnist.load_data()\n",
    "x_train = (x_train/255).astype(np.float32).reshape(-1, 784)\n",
    "x_test = (x_test/255).astype(np.float32).reshape(-1, 784)\n",
    "\n",
    "val_range = int(len(x_test) * 0.8)\n",
    "\n",
    "x_val = x_test[:val_range, :]\n",
    "y_val = y_test[:val_range]\n",
    "\n",
    "x_test = x_test[val_range:, :]\n",
    "y_test = y_test[val_range:]"
   ]
  },
  {
   "cell_type": "code",
   "execution_count": 4,
   "metadata": {},
   "outputs": [],
   "source": [
    "# Declare Input Node\n",
    "x = tf.placeholder(dtype=tf.float32, name=\"Input\")\n",
    "y = tf.placeholder(dtype=tf.int32, name=\"Label\")\n",
    "\n",
    "# Declare parameter\n",
    "layer1_weights = tf.Variable(initial_value=tf.truncated_normal([784, 500]) , dtype=tf.float32)\n",
    "layer2_weights = tf.Variable(initial_value=tf.truncated_normal([500, 200]) , dtype=tf.float32)\n",
    "layer3_weights = tf.Variable(initial_value=tf.truncated_normal([200, 10]) , dtype=tf.float32)\n",
    "\n",
    "# build graph\n",
    "feature1 = tf.matmul(x, layer1_weights)\n",
    "activation1 = tf.tanh(feature1)\n",
    "feature2 = tf.matmul(activation1, layer2_weights)\n",
    "activation2 = tf.tanh(feature2)\n",
    "score = tf.matmul(activation2, layer3_weights, name='score')\n",
    "\n",
    "prediction = tf.argmax(input = score, axis=1)\n",
    "\n",
    "tf.add_to_collection('input', x)\n",
    "tf.add_to_collection('label', y)\n",
    "tf.add_to_collection('score', score)\n",
    "\n",
    "loss = tf.losses.sparse_softmax_cross_entropy(labels=y, logits=score)"
   ]
  },
  {
   "cell_type": "code",
   "execution_count": 5,
   "metadata": {},
   "outputs": [
    {
     "data": {
      "application/vnd.jupyter.widget-view+json": {
       "model_id": "fb995610cd3d4e4e9e1689c4f1ed75d9",
       "version_major": 2,
       "version_minor": 0
      },
      "text/html": [
       "<p>Failed to display Jupyter Widget of type <code>HBox</code>.</p>\n",
       "<p>\n",
       "  If you're reading this message in the Jupyter Notebook or JupyterLab Notebook, it may mean\n",
       "  that the widgets JavaScript is still loading. If this message persists, it\n",
       "  likely means that the widgets JavaScript library is either not installed or\n",
       "  not enabled. See the <a href=\"https://ipywidgets.readthedocs.io/en/stable/user_install.html\">Jupyter\n",
       "  Widgets Documentation</a> for setup instructions.\n",
       "</p>\n",
       "<p>\n",
       "  If you're reading this message in another frontend (for example, a static\n",
       "  rendering on GitHub or <a href=\"https://nbviewer.jupyter.org/\">NBViewer</a>),\n",
       "  it may mean that your frontend doesn't currently support widgets.\n",
       "</p>\n"
      ],
      "text/plain": [
       "HBox(children=(IntProgress(value=0), HTML(value='')))"
      ]
     },
     "metadata": {},
     "output_type": "display_data"
    },
    {
     "name": "stdout",
     "output_type": "stream",
     "text": [
      "\n",
      "train finished\n"
     ]
    }
   ],
   "source": [
    "opt = tf.train.GradientDescentOptimizer(learning_rate=0.01)\n",
    "optimizer = opt.minimize(loss)\n",
    "\n",
    "# TensorBoard\n",
    "softmaxLoss = tf.summary.scalar(name='softmax_loss', tensor=loss)\n",
    "train_writer = tf.summary.FileWriter('./graphs/low-level/train_mnist_dnn', graph=tf.get_default_graph())\n",
    "val_writer = tf.summary.FileWriter('./graphs/low-level/val_mnist_dnn', graph=tf.get_default_graph())\n",
    "\n",
    "saver = tf.train.Saver(write_version = saver_pb2.SaverDef.V2)\n",
    "\n",
    "# Hyper Parameter\n",
    "epoch = 100\n",
    "total_bar_length = tqdm_notebook(range(epoch))\n",
    "batch_size=1024\n",
    "total_step = int(x_train.shape[0] / batch_size)\n",
    "\n",
    "sess = tf.Session()\n",
    "sess.run(tf.global_variables_initializer())\n",
    "\n",
    "train_loss_hist = []\n",
    "val_loss_hist = []\n",
    "\n",
    "for i in total_bar_length:\n",
    "    avg_train_loss = 0   \n",
    "    avg_val_loss = 0 \n",
    "    \n",
    "    val_loss = 0\n",
    "    \n",
    "    train_loss_sum = 0    \n",
    "    val_loss_sum = 0\n",
    "    \n",
    "    for step in range(total_step):\n",
    "            batch_indices = np.random.choice(range(x_train.shape[0]), size=batch_size, replace=False)\n",
    "\n",
    "            batch_xs = x_train[batch_indices]\n",
    "            batch_ys = y_train[batch_indices]\n",
    "            \n",
    "            val_indices = np.random.choice(range(x_val.shape[0]), size=batch_size, replace=False)\n",
    "            \n",
    "            val_xs = x_val[val_indices]\n",
    "            val_ys = y_val[val_indices]\n",
    "\n",
    "            _, train_loss = sess.run([optimizer, loss], feed_dict={x:batch_xs, y:batch_ys})\n",
    "            \n",
    "            val_loss = sess.run(fetches = loss, feed_dict={x:val_xs, y:val_ys})\n",
    "            \n",
    "            avg_train_loss += train_loss / total_step\n",
    "            avg_val_loss += val_loss / total_step\n",
    "        \n",
    "    train_loss_hist.append(avg_train_loss)\n",
    "    val_loss_hist.append(val_loss)\n",
    "    \n",
    "    train_loss_sum = sess.run(softmaxLoss, feed_dict={x:batch_xs, y:batch_ys})\n",
    "    val_loss_sum = sess.run(fetches = softmaxLoss, feed_dict={x:val_xs, y:val_ys})\n",
    "\n",
    "    train_writer.add_summary(train_loss_sum, global_step = i)\n",
    "    val_writer.add_summary(val_loss_sum, global_step = i)\n",
    "        \n",
    "train_writer.close()\n",
    "val_writer.close()\n",
    "\n",
    "global_step = tf.train.get_global_step()\n",
    "saver.save(sess, './weights/mnist.ckpt', global_step=global_step)\n",
    "\n",
    "print(\"train finished\")"
   ]
  },
  {
   "cell_type": "code",
   "execution_count": 6,
   "metadata": {},
   "outputs": [
    {
     "data": {
      "image/png": "[encoded data removed]",
      "text/plain": [
       "<Figure size 432x288 with 1 Axes>"
      ]
     },
     "metadata": {},
     "output_type": "display_data"
    }
   ],
   "source": [
    "plt.plot(train_loss_hist, label=\"train\")\n",
    "plt.plot(val_loss_hist, label=\"validation\")\n",
    "plt.legend()\n",
    "plt.show()"
   ]
  },
  {
   "cell_type": "code",
   "execution_count": 7,
   "metadata": {},
   "outputs": [
    {
     "name": "stdout",
     "output_type": "stream",
     "text": [
      "acc : 81.95%\n"
     ]
    }
   ],
   "source": [
    "yhat = np.argmax(sess.run(score, feed_dict={x:x_test}), axis = 1)\n",
    "print(\"acc : {:.2%}\".format(np.mean(yhat == y_test)))"
   ]
  },
  {
   "cell_type": "markdown",
   "metadata": {},
   "source": [
    "# <span style=\"color:red\">!!Kernel Restart!! </span>"
   ]
  },
  {
   "cell_type": "markdown",
   "metadata": {},
   "source": [
    "## Restoring operations and other metadata  \n",
    "    \n",
    "실제 가중치는 **Session** object안에서만 존재한다.  \n",
    "즉, `restore` 행위는 `Session`접근을 통해서 **Graph**에 복원할 수 있다는 이야기다.  \n",
    "    \n",
    "**Restore**의 간단한 예제는 아래와 같다.  \n",
    "    \n",
    "\n",
    "```\n",
    "with tf.Session() as sess:\n",
    "    # To initialize values with saved data\n",
    "    saver.restore(sess, 'results/model.ckpt.data-1000-00000-of-00001')\n",
    "print(sess.run(global_step_tensor)) # returns 1000\n",
    "```"
   ]
  },
  {
   "cell_type": "code",
   "execution_count": 1,
   "metadata": {},
   "outputs": [
    {
     "name": "stdout",
     "output_type": "stream",
     "text": [
      "1.11.0\n",
      "INFO:tensorflow:Restoring parameters from ./weights/mnist.ckpt\n",
      "acc : 81.95%\n"
     ]
    }
   ],
   "source": [
    "from __future__ import print_function\n",
    "from tqdm import tqdm_notebook\n",
    "import numpy as np\n",
    "import tensorflow as tf\n",
    "from tensorflow.core.protobuf import saver_pb2\n",
    "import matplotlib.pyplot as plt\n",
    "%matplotlib inline\n",
    "print(tf.__version__)\n",
    "\n",
    "tf.set_random_seed(2)\n",
    "\n",
    "(x_train, y_train), (x_test , y_test) = tf.keras.datasets.mnist.load_data()\n",
    "x_train = (x_train/255).astype(np.float32).reshape(-1, 784)\n",
    "x_test = (x_test/255).astype(np.float32).reshape(-1, 784)\n",
    "\n",
    "val_range = int(len(x_test) * 0.8)\n",
    "\n",
    "x_val = x_test[:val_range, :]\n",
    "y_val = y_test[:val_range]\n",
    "\n",
    "x_test = x_test[val_range:, :]\n",
    "y_test = y_test[val_range:]\n",
    "\n",
    "# Declare Input Node\n",
    "x = tf.placeholder(dtype=tf.float32, name=\"Input\")\n",
    "y = tf.placeholder(dtype=tf.int32, name=\"Label\")\n",
    "\n",
    "# Declare parameter\n",
    "layer1_weights = tf.Variable(initial_value=tf.truncated_normal([784, 500]) , dtype=tf.float32)\n",
    "layer2_weights = tf.Variable(initial_value=tf.truncated_normal([500, 200]) , dtype=tf.float32)\n",
    "layer3_weights = tf.Variable(initial_value=tf.truncated_normal([200, 10]) , dtype=tf.float32)\n",
    "\n",
    "# build graph\n",
    "feature1 = tf.matmul(x, layer1_weights)\n",
    "activation1 = tf.tanh(feature1)\n",
    "feature2 = tf.matmul(activation1, layer2_weights)\n",
    "activation2 = tf.tanh(feature2)\n",
    "score = tf.matmul(activation2, layer3_weights, name='score')\n",
    "\n",
    "prediction = tf.argmax(input = score, axis=1)\n",
    "\n",
    "tf.add_to_collection('input', x)\n",
    "tf.add_to_collection('label', y)\n",
    "tf.add_to_collection('score', score)\n",
    "\n",
    "loss = tf.losses.sparse_softmax_cross_entropy(labels=y, logits=score)\n",
    "\n",
    "opt = tf.train.GradientDescentOptimizer(learning_rate=0.01)\n",
    "optimizer = opt.minimize(loss)\n",
    "\n",
    "# TensorBoard\n",
    "softmaxLoss = tf.summary.scalar(name='softmax_loss', tensor=loss)\n",
    "train_writer = tf.summary.FileWriter('./graphs/low-level/train_mnist_dnn', graph=tf.get_default_graph())\n",
    "val_writer = tf.summary.FileWriter('./graphs/low-level/val_mnist_dnn', graph=tf.get_default_graph())\n",
    "\n",
    "sess = tf.Session()\n",
    "saver = tf.train.Saver(write_version = saver_pb2.SaverDef.V2)\n",
    "saver.restore(sess, './weights/mnist.ckpt')\n",
    "\n",
    "train_writer.close()\n",
    "val_writer.close()\n",
    "\n",
    "global_step = tf.train.get_global_step()\n",
    "\n",
    "\n",
    "yhat = np.argmax(sess.run(score, feed_dict={x:x_test}), axis = 1)\n",
    "print(\"acc : {:.2%}\".format(np.mean(yhat == y_test)))"
   ]
  },
  {
   "cell_type": "markdown",
   "metadata": {},
   "source": [
    "# <span style=\"color:red\">!!Kernel Restart!! </span>"
   ]
  },
  {
   "cell_type": "markdown",
   "metadata": {},
   "source": [
    "# 삽질기......\n",
    "\n",
    "![i am fasting](https://user-images.githubusercontent.com/13328380/52033706-37d4d680-2569-11e9-8fa9-014f3df5ac63.jpg)"
   ]
  },
  {
   "cell_type": "code",
   "execution_count": 1,
   "metadata": {},
   "outputs": [
    {
     "name": "stdout",
     "output_type": "stream",
     "text": [
      "1.11.0\n"
     ]
    }
   ],
   "source": [
    "from __future__ import print_function\n",
    "from tqdm import tqdm_notebook\n",
    "import numpy as np\n",
    "import tensorflow as tf\n",
    "from tensorflow.core.protobuf import saver_pb2\n",
    "import matplotlib.pyplot as plt\n",
    "%matplotlib inline\n",
    "print(tf.__version__)\n",
    "\n",
    "tf.set_random_seed(2)\n",
    "tf.reset_default_graph()\n",
    "\n",
    "(x_train, y_train), (x_test , y_test) = tf.keras.datasets.mnist.load_data()\n",
    "x_train = (x_train/255).astype(np.float32).reshape(-1, 784)\n",
    "x_test = (x_test/255).astype(np.float32).reshape(-1, 784)\n",
    "\n",
    "val_range = int(len(x_test) * 0.8)\n",
    "\n",
    "x_val = x_test[:val_range, :]\n",
    "y_val = y_test[:val_range]\n",
    "\n",
    "x_test = x_test[val_range:, :]\n",
    "y_test = y_test[val_range:]"
   ]
  },
  {
   "cell_type": "markdown",
   "metadata": {},
   "source": [
    "# Load Graph from `*.ckpt` file\n"
   ]
  },
  {
   "cell_type": "code",
   "execution_count": 2,
   "metadata": {},
   "outputs": [
    {
     "name": "stdout",
     "output_type": "stream",
     "text": [
      "[<tf.Operation 'Input' type=Placeholder>, <tf.Operation 'Label' type=Placeholder>, <tf.Operation 'truncated_normal/shape' type=Const>, <tf.Operation 'truncated_normal/mean' type=Const>, <tf.Operation 'truncated_normal/stddev' type=Const>, <tf.Operation 'truncated_normal/TruncatedNormal' type=TruncatedNormal>, <tf.Operation 'truncated_normal/mul' type=Mul>, <tf.Operation 'truncated_normal' type=Add>, <tf.Operation 'Variable' type=VariableV2>, <tf.Operation 'Variable/Assign' type=Assign>, <tf.Operation 'Variable/read' type=Identity>, <tf.Operation 'truncated_normal_1/shape' type=Const>, <tf.Operation 'truncated_normal_1/mean' type=Const>, <tf.Operation 'truncated_normal_1/stddev' type=Const>, <tf.Operation 'truncated_normal_1/TruncatedNormal' type=TruncatedNormal>, <tf.Operation 'truncated_normal_1/mul' type=Mul>, <tf.Operation 'truncated_normal_1' type=Add>, <tf.Operation 'Variable_1' type=VariableV2>, <tf.Operation 'Variable_1/Assign' type=Assign>, <tf.Operation 'Variable_1/read' type=Identity>, <tf.Operation 'truncated_normal_2/shape' type=Const>, <tf.Operation 'truncated_normal_2/mean' type=Const>, <tf.Operation 'truncated_normal_2/stddev' type=Const>, <tf.Operation 'truncated_normal_2/TruncatedNormal' type=TruncatedNormal>, <tf.Operation 'truncated_normal_2/mul' type=Mul>, <tf.Operation 'truncated_normal_2' type=Add>, <tf.Operation 'Variable_2' type=VariableV2>, <tf.Operation 'Variable_2/Assign' type=Assign>, <tf.Operation 'Variable_2/read' type=Identity>, <tf.Operation 'MatMul' type=MatMul>, <tf.Operation 'Tanh' type=Tanh>, <tf.Operation 'MatMul_1' type=MatMul>, <tf.Operation 'Tanh_1' type=Tanh>, <tf.Operation 'score' type=MatMul>, <tf.Operation 'ArgMax/dimension' type=Const>, <tf.Operation 'ArgMax' type=ArgMax>, <tf.Operation 'sparse_softmax_cross_entropy_loss/remove_squeezable_dimensions/Rank' type=Const>, <tf.Operation 'sparse_softmax_cross_entropy_loss/remove_squeezable_dimensions/Rank_1' type=Rank>, <tf.Operation 'sparse_softmax_cross_entropy_loss/remove_squeezable_dimensions/sub' type=Sub>, <tf.Operation 'sparse_softmax_cross_entropy_loss/remove_squeezable_dimensions/Equal/x' type=Const>, <tf.Operation 'sparse_softmax_cross_entropy_loss/remove_squeezable_dimensions/Equal' type=Equal>, <tf.Operation 'sparse_softmax_cross_entropy_loss/remove_squeezable_dimensions/cond/Switch' type=Switch>, <tf.Operation 'sparse_softmax_cross_entropy_loss/remove_squeezable_dimensions/cond/switch_t' type=Identity>, <tf.Operation 'sparse_softmax_cross_entropy_loss/remove_squeezable_dimensions/cond/switch_f' type=Identity>, <tf.Operation 'sparse_softmax_cross_entropy_loss/remove_squeezable_dimensions/cond/pred_id' type=Identity>, <tf.Operation 'sparse_softmax_cross_entropy_loss/remove_squeezable_dimensions/cond/Squeeze/Switch' type=Switch>, <tf.Operation 'sparse_softmax_cross_entropy_loss/remove_squeezable_dimensions/cond/Squeeze' type=Squeeze>, <tf.Operation 'sparse_softmax_cross_entropy_loss/remove_squeezable_dimensions/cond/Switch_1' type=Switch>, <tf.Operation 'sparse_softmax_cross_entropy_loss/remove_squeezable_dimensions/cond/Merge' type=Merge>, <tf.Operation 'sparse_softmax_cross_entropy_loss/Const' type=Const>, <tf.Operation 'sparse_softmax_cross_entropy_loss/Rank' type=Const>, <tf.Operation 'sparse_softmax_cross_entropy_loss/Rank_1' type=Rank>, <tf.Operation 'sparse_softmax_cross_entropy_loss/sub' type=Sub>, <tf.Operation 'sparse_softmax_cross_entropy_loss/xentropy/Shape' type=Shape>, <tf.Operation 'sparse_softmax_cross_entropy_loss/xentropy/xentropy' type=SparseSoftmaxCrossEntropyWithLogits>, <tf.Operation 'sparse_softmax_cross_entropy_loss/assert_broadcastable/weights/shape' type=Const>, <tf.Operation 'sparse_softmax_cross_entropy_loss/assert_broadcastable/weights/rank' type=Const>, <tf.Operation 'sparse_softmax_cross_entropy_loss/assert_broadcastable/values/shape' type=Shape>, <tf.Operation 'sparse_softmax_cross_entropy_loss/assert_broadcastable/values/rank' type=Const>, <tf.Operation 'sparse_softmax_cross_entropy_loss/assert_broadcastable/static_scalar_check_success' type=NoOp>, <tf.Operation 'sparse_softmax_cross_entropy_loss/Mul' type=Mul>, <tf.Operation 'sparse_softmax_cross_entropy_loss/Const_1' type=Const>, <tf.Operation 'sparse_softmax_cross_entropy_loss/Sum' type=Sum>, <tf.Operation 'sparse_softmax_cross_entropy_loss/num_present/Equal/y' type=Const>, <tf.Operation 'sparse_softmax_cross_entropy_loss/num_present/Equal' type=Equal>, <tf.Operation 'sparse_softmax_cross_entropy_loss/num_present/zeros_like' type=Const>, <tf.Operation 'sparse_softmax_cross_entropy_loss/num_present/ones_like/Shape' type=Const>, <tf.Operation 'sparse_softmax_cross_entropy_loss/num_present/ones_like/Const' type=Const>, <tf.Operation 'sparse_softmax_cross_entropy_loss/num_present/ones_like' type=Fill>, <tf.Operation 'sparse_softmax_cross_entropy_loss/num_present/Select' type=Select>, <tf.Operation 'sparse_softmax_cross_entropy_loss/num_present/broadcast_weights/assert_broadcastable/weights/shape' type=Const>, <tf.Operation 'sparse_softmax_cross_entropy_loss/num_present/broadcast_weights/assert_broadcastable/weights/rank' type=Const>, <tf.Operation 'sparse_softmax_cross_entropy_loss/num_present/broadcast_weights/assert_broadcastable/values/shape' type=Shape>, <tf.Operation 'sparse_softmax_cross_entropy_loss/num_present/broadcast_weights/assert_broadcastable/values/rank' type=Const>, <tf.Operation 'sparse_softmax_cross_entropy_loss/num_present/broadcast_weights/assert_broadcastable/static_scalar_check_success' type=NoOp>, <tf.Operation 'sparse_softmax_cross_entropy_loss/num_present/broadcast_weights/ones_like/Shape' type=Shape>, <tf.Operation 'sparse_softmax_cross_entropy_loss/num_present/broadcast_weights/ones_like/Const' type=Const>, <tf.Operation 'sparse_softmax_cross_entropy_loss/num_present/broadcast_weights/ones_like' type=Fill>, <tf.Operation 'sparse_softmax_cross_entropy_loss/num_present/broadcast_weights' type=Mul>, <tf.Operation 'sparse_softmax_cross_entropy_loss/num_present/Const' type=Const>, <tf.Operation 'sparse_softmax_cross_entropy_loss/num_present' type=Sum>, <tf.Operation 'sparse_softmax_cross_entropy_loss/Const_2' type=Const>, <tf.Operation 'sparse_softmax_cross_entropy_loss/Sum_1' type=Sum>, <tf.Operation 'sparse_softmax_cross_entropy_loss/Greater/y' type=Const>, <tf.Operation 'sparse_softmax_cross_entropy_loss/Greater' type=Greater>, <tf.Operation 'sparse_softmax_cross_entropy_loss/Equal/y' type=Const>, <tf.Operation 'sparse_softmax_cross_entropy_loss/Equal' type=Equal>, <tf.Operation 'sparse_softmax_cross_entropy_loss/ones_like/Shape' type=Const>, <tf.Operation 'sparse_softmax_cross_entropy_loss/ones_like/Const' type=Const>, <tf.Operation 'sparse_softmax_cross_entropy_loss/ones_like' type=Fill>, <tf.Operation 'sparse_softmax_cross_entropy_loss/Select' type=Select>, <tf.Operation 'sparse_softmax_cross_entropy_loss/div' type=RealDiv>, <tf.Operation 'sparse_softmax_cross_entropy_loss/zeros_like' type=Const>, <tf.Operation 'sparse_softmax_cross_entropy_loss/value' type=Select>, <tf.Operation 'gradients/Shape' type=Const>, <tf.Operation 'gradients/grad_ys_0' type=Const>, <tf.Operation 'gradients/Fill' type=Fill>, <tf.Operation 'gradients/sparse_softmax_cross_entropy_loss/value_grad/zeros_like' type=Const>, <tf.Operation 'gradients/sparse_softmax_cross_entropy_loss/value_grad/Select' type=Select>, <tf.Operation 'gradients/sparse_softmax_cross_entropy_loss/value_grad/Select_1' type=Select>, <tf.Operation 'gradients/sparse_softmax_cross_entropy_loss/value_grad/tuple/group_deps' type=NoOp>, <tf.Operation 'gradients/sparse_softmax_cross_entropy_loss/value_grad/tuple/control_dependency' type=Identity>, <tf.Operation 'gradients/sparse_softmax_cross_entropy_loss/value_grad/tuple/control_dependency_1' type=Identity>, <tf.Operation 'gradients/sparse_softmax_cross_entropy_loss/div_grad/Shape' type=Const>, <tf.Operation 'gradients/sparse_softmax_cross_entropy_loss/div_grad/Shape_1' type=Const>, <tf.Operation 'gradients/sparse_softmax_cross_entropy_loss/div_grad/BroadcastGradientArgs' type=BroadcastGradientArgs>, <tf.Operation 'gradients/sparse_softmax_cross_entropy_loss/div_grad/RealDiv' type=RealDiv>, <tf.Operation 'gradients/sparse_softmax_cross_entropy_loss/div_grad/Sum' type=Sum>, <tf.Operation 'gradients/sparse_softmax_cross_entropy_loss/div_grad/Reshape' type=Reshape>, <tf.Operation 'gradients/sparse_softmax_cross_entropy_loss/div_grad/Neg' type=Neg>, <tf.Operation 'gradients/sparse_softmax_cross_entropy_loss/div_grad/RealDiv_1' type=RealDiv>, <tf.Operation 'gradients/sparse_softmax_cross_entropy_loss/div_grad/RealDiv_2' type=RealDiv>, <tf.Operation 'gradients/sparse_softmax_cross_entropy_loss/div_grad/mul' type=Mul>, <tf.Operation 'gradients/sparse_softmax_cross_entropy_loss/div_grad/Sum_1' type=Sum>, <tf.Operation 'gradients/sparse_softmax_cross_entropy_loss/div_grad/Reshape_1' type=Reshape>, <tf.Operation 'gradients/sparse_softmax_cross_entropy_loss/div_grad/tuple/group_deps' type=NoOp>, <tf.Operation 'gradients/sparse_softmax_cross_entropy_loss/div_grad/tuple/control_dependency' type=Identity>, <tf.Operation 'gradients/sparse_softmax_cross_entropy_loss/div_grad/tuple/control_dependency_1' type=Identity>, <tf.Operation 'gradients/sparse_softmax_cross_entropy_loss/Sum_1_grad/Reshape/shape' type=Const>, <tf.Operation 'gradients/sparse_softmax_cross_entropy_loss/Sum_1_grad/Reshape' type=Reshape>, <tf.Operation 'gradients/sparse_softmax_cross_entropy_loss/Sum_1_grad/Const' type=Const>, <tf.Operation 'gradients/sparse_softmax_cross_entropy_loss/Sum_1_grad/Tile' type=Tile>, <tf.Operation 'gradients/sparse_softmax_cross_entropy_loss/Sum_grad/Reshape/shape' type=Const>, <tf.Operation 'gradients/sparse_softmax_cross_entropy_loss/Sum_grad/Reshape' type=Reshape>, <tf.Operation 'gradients/sparse_softmax_cross_entropy_loss/Sum_grad/Shape' type=Shape>, <tf.Operation 'gradients/sparse_softmax_cross_entropy_loss/Sum_grad/Tile' type=Tile>, <tf.Operation 'gradients/sparse_softmax_cross_entropy_loss/Mul_grad/Shape' type=Shape>, <tf.Operation 'gradients/sparse_softmax_cross_entropy_loss/Mul_grad/Shape_1' type=Const>, <tf.Operation 'gradients/sparse_softmax_cross_entropy_loss/Mul_grad/BroadcastGradientArgs' type=BroadcastGradientArgs>, <tf.Operation 'gradients/sparse_softmax_cross_entropy_loss/Mul_grad/Mul' type=Mul>, <tf.Operation 'gradients/sparse_softmax_cross_entropy_loss/Mul_grad/Sum' type=Sum>, <tf.Operation 'gradients/sparse_softmax_cross_entropy_loss/Mul_grad/Reshape' type=Reshape>, <tf.Operation 'gradients/sparse_softmax_cross_entropy_loss/Mul_grad/Mul_1' type=Mul>, <tf.Operation 'gradients/sparse_softmax_cross_entropy_loss/Mul_grad/Sum_1' type=Sum>, <tf.Operation 'gradients/sparse_softmax_cross_entropy_loss/Mul_grad/Reshape_1' type=Reshape>, <tf.Operation 'gradients/sparse_softmax_cross_entropy_loss/Mul_grad/tuple/group_deps' type=NoOp>, <tf.Operation 'gradients/sparse_softmax_cross_entropy_loss/Mul_grad/tuple/control_dependency' type=Identity>, <tf.Operation 'gradients/sparse_softmax_cross_entropy_loss/Mul_grad/tuple/control_dependency_1' type=Identity>, <tf.Operation 'gradients/zeros_like' type=ZerosLike>, <tf.Operation 'gradients/sparse_softmax_cross_entropy_loss/xentropy/xentropy_grad/PreventGradient' type=PreventGradient>, <tf.Operation 'gradients/sparse_softmax_cross_entropy_loss/xentropy/xentropy_grad/ExpandDims/dim' type=Const>, <tf.Operation 'gradients/sparse_softmax_cross_entropy_loss/xentropy/xentropy_grad/ExpandDims' type=ExpandDims>, <tf.Operation 'gradients/sparse_softmax_cross_entropy_loss/xentropy/xentropy_grad/mul' type=Mul>, <tf.Operation 'gradients/score_grad/MatMul' type=MatMul>, <tf.Operation 'gradients/score_grad/MatMul_1' type=MatMul>, <tf.Operation 'gradients/score_grad/tuple/group_deps' type=NoOp>, <tf.Operation 'gradients/score_grad/tuple/control_dependency' type=Identity>, <tf.Operation 'gradients/score_grad/tuple/control_dependency_1' type=Identity>, <tf.Operation 'gradients/Tanh_1_grad/TanhGrad' type=TanhGrad>, <tf.Operation 'gradients/MatMul_1_grad/MatMul' type=MatMul>, <tf.Operation 'gradients/MatMul_1_grad/MatMul_1' type=MatMul>, <tf.Operation 'gradients/MatMul_1_grad/tuple/group_deps' type=NoOp>, <tf.Operation 'gradients/MatMul_1_grad/tuple/control_dependency' type=Identity>, <tf.Operation 'gradients/MatMul_1_grad/tuple/control_dependency_1' type=Identity>, <tf.Operation 'gradients/Tanh_grad/TanhGrad' type=TanhGrad>, <tf.Operation 'gradients/MatMul_grad/MatMul' type=MatMul>, <tf.Operation 'gradients/MatMul_grad/MatMul_1' type=MatMul>, <tf.Operation 'gradients/MatMul_grad/tuple/group_deps' type=NoOp>, <tf.Operation 'gradients/MatMul_grad/tuple/control_dependency' type=Identity>, <tf.Operation 'gradients/MatMul_grad/tuple/control_dependency_1' type=Identity>, <tf.Operation 'GradientDescent/learning_rate' type=Const>, <tf.Operation 'GradientDescent/update_Variable/ApplyGradientDescent' type=ApplyGradientDescent>, <tf.Operation 'GradientDescent/update_Variable_1/ApplyGradientDescent' type=ApplyGradientDescent>, <tf.Operation 'GradientDescent/update_Variable_2/ApplyGradientDescent' type=ApplyGradientDescent>, <tf.Operation 'GradientDescent' type=NoOp>, <tf.Operation 'softmax_loss/tags' type=Const>, <tf.Operation 'softmax_loss' type=ScalarSummary>, <tf.Operation 'save/Const' type=Const>, <tf.Operation 'save/SaveV2/tensor_names' type=Const>, <tf.Operation 'save/SaveV2/shape_and_slices' type=Const>, <tf.Operation 'save/SaveV2' type=SaveV2>, <tf.Operation 'save/control_dependency' type=Identity>, <tf.Operation 'save/RestoreV2/tensor_names' type=Const>, <tf.Operation 'save/RestoreV2/shape_and_slices' type=Const>, <tf.Operation 'save/RestoreV2' type=RestoreV2>, <tf.Operation 'save/Assign' type=Assign>, <tf.Operation 'save/Assign_1' type=Assign>, <tf.Operation 'save/Assign_2' type=Assign>, <tf.Operation 'save/restore_all' type=NoOp>, <tf.Operation 'init' type=NoOp>]\n"
     ]
    }
   ],
   "source": [
    "saver = tf.train.import_meta_graph('./weights/mnist.ckpt.meta')\n",
    "graph = tf.get_default_graph()\n",
    "print(graph.get_operations())"
   ]
  },
  {
   "cell_type": "markdown",
   "metadata": {},
   "source": [
    "# Try inference only using `*ckpt` file"
   ]
  },
  {
   "cell_type": "code",
   "execution_count": 3,
   "metadata": {},
   "outputs": [
    {
     "name": "stdout",
     "output_type": "stream",
     "text": [
      "INFO:tensorflow:Restoring parameters from ./weights/mnist.ckpt\n"
     ]
    },
    {
     "ename": "NameError",
     "evalue": "name 'score' is not defined",
     "output_type": "error",
     "traceback": [
      "\u001b[0;31m---------------------------------------------------------------------------\u001b[0m",
      "\u001b[0;31mNameError\u001b[0m                                 Traceback (most recent call last)",
      "\u001b[0;32m<ipython-input-3-38c9d208cef6>\u001b[0m in \u001b[0;36m<module>\u001b[0;34m()\u001b[0m\n\u001b[1;32m      3\u001b[0m \u001b[0msaver\u001b[0m\u001b[0;34m.\u001b[0m\u001b[0mrestore\u001b[0m\u001b[0;34m(\u001b[0m\u001b[0msess\u001b[0m\u001b[0;34m,\u001b[0m \u001b[0;34m'./weights/mnist.ckpt'\u001b[0m\u001b[0;34m)\u001b[0m\u001b[0;34m\u001b[0m\u001b[0m\n\u001b[1;32m      4\u001b[0m \u001b[0;34m\u001b[0m\u001b[0m\n\u001b[0;32m----> 5\u001b[0;31m \u001b[0myhat\u001b[0m \u001b[0;34m=\u001b[0m \u001b[0mnp\u001b[0m\u001b[0;34m.\u001b[0m\u001b[0margmax\u001b[0m\u001b[0;34m(\u001b[0m\u001b[0msess\u001b[0m\u001b[0;34m.\u001b[0m\u001b[0mrun\u001b[0m\u001b[0;34m(\u001b[0m\u001b[0mscore\u001b[0m\u001b[0;34m,\u001b[0m \u001b[0mfeed_dict\u001b[0m\u001b[0;34m=\u001b[0m\u001b[0;34m{\u001b[0m\u001b[0mx\u001b[0m\u001b[0;34m:\u001b[0m\u001b[0mx_test\u001b[0m\u001b[0;34m}\u001b[0m\u001b[0;34m)\u001b[0m\u001b[0;34m,\u001b[0m \u001b[0maxis\u001b[0m \u001b[0;34m=\u001b[0m \u001b[0;36m1\u001b[0m\u001b[0;34m)\u001b[0m\u001b[0;34m\u001b[0m\u001b[0m\n\u001b[0m\u001b[1;32m      6\u001b[0m \u001b[0mprint\u001b[0m\u001b[0;34m(\u001b[0m\u001b[0;34m\"acc : {:.2%}\"\u001b[0m\u001b[0;34m.\u001b[0m\u001b[0mformat\u001b[0m\u001b[0;34m(\u001b[0m\u001b[0mnp\u001b[0m\u001b[0;34m.\u001b[0m\u001b[0mmean\u001b[0m\u001b[0;34m(\u001b[0m\u001b[0myhat\u001b[0m \u001b[0;34m==\u001b[0m \u001b[0my_test\u001b[0m\u001b[0;34m)\u001b[0m\u001b[0;34m)\u001b[0m\u001b[0;34m)\u001b[0m\u001b[0;34m\u001b[0m\u001b[0m\n",
      "\u001b[0;31mNameError\u001b[0m: name 'score' is not defined"
     ]
    }
   ],
   "source": [
    "sess = tf.Session()\n",
    "sess.run(tf.global_variables_initializer())\n",
    "saver.restore(sess, './weights/mnist.ckpt')\n",
    "\n",
    "yhat = np.argmax(sess.run(score, feed_dict={x:x_test}), axis = 1)\n",
    "print(\"acc : {:.2%}\".format(np.mean(yhat == y_test)))"
   ]
  },
  {
   "cell_type": "markdown",
   "metadata": {},
   "source": [
    "# ??????????"
   ]
  },
  {
   "cell_type": "code",
   "execution_count": 4,
   "metadata": {},
   "outputs": [
    {
     "name": "stdout",
     "output_type": "stream",
     "text": [
      "name: \"Input\"\n",
      "op: \"Placeholder\"\n",
      "attr {\n",
      "  key: \"dtype\"\n",
      "  value {\n",
      "    type: DT_FLOAT\n",
      "  }\n",
      "}\n",
      "attr {\n",
      "  key: \"shape\"\n",
      "  value {\n",
      "    shape {\n",
      "      unknown_rank: true\n",
      "    }\n",
      "  }\n",
      "}\n",
      "\n",
      "name: \"Label\"\n",
      "op: \"Placeholder\"\n",
      "attr {\n",
      "  key: \"dtype\"\n",
      "  value {\n",
      "    type: DT_INT32\n",
      "  }\n",
      "}\n",
      "attr {\n",
      "  key: \"shape\"\n",
      "  value {\n",
      "    shape {\n",
      "      unknown_rank: true\n",
      "    }\n",
      "  }\n",
      "}\n",
      "\n",
      "name: \"score\"\n",
      "op: \"MatMul\"\n",
      "input: \"Tanh_1\"\n",
      "input: \"Variable_2/read\"\n",
      "attr {\n",
      "  key: \"T\"\n",
      "  value {\n",
      "    type: DT_FLOAT\n",
      "  }\n",
      "}\n",
      "attr {\n",
      "  key: \"transpose_a\"\n",
      "  value {\n",
      "    b: false\n",
      "  }\n",
      "}\n",
      "attr {\n",
      "  key: \"transpose_b\"\n",
      "  value {\n",
      "    b: false\n",
      "  }\n",
      "}\n",
      "\n"
     ]
    }
   ],
   "source": [
    "x = graph.get_operation_by_name(\"Input\")\n",
    "y = graph.get_operation_by_name(\"Label\")\n",
    "score = graph.get_operation_by_name(\"score\")\n",
    "print(x)\n",
    "print(y)\n",
    "print(score)"
   ]
  },
  {
   "cell_type": "markdown",
   "metadata": {},
   "source": [
    "# OH OH OH OH OH OH OH!!!"
   ]
  },
  {
   "cell_type": "code",
   "execution_count": 5,
   "metadata": {},
   "outputs": [
    {
     "ename": "TypeError",
     "evalue": "Cannot interpret feed_dict key as Tensor: Can not convert a Operation into a Tensor.",
     "output_type": "error",
     "traceback": [
      "\u001b[0;31m---------------------------------------------------------------------------\u001b[0m",
      "\u001b[0;31mTypeError\u001b[0m                                 Traceback (most recent call last)",
      "\u001b[0;32m~/.local/lib/python3.6/site-packages/tensorflow/python/client/session.py\u001b[0m in \u001b[0;36m_run\u001b[0;34m(self, handle, fetches, feed_dict, options, run_metadata)\u001b[0m\n\u001b[1;32m   1049\u001b[0m             subfeed_t = self.graph.as_graph_element(\n\u001b[0;32m-> 1050\u001b[0;31m                 subfeed, allow_tensor=True, allow_operation=False)\n\u001b[0m\u001b[1;32m   1051\u001b[0m           \u001b[0;32mexcept\u001b[0m \u001b[0mException\u001b[0m \u001b[0;32mas\u001b[0m \u001b[0me\u001b[0m\u001b[0;34m:\u001b[0m\u001b[0;34m\u001b[0m\u001b[0m\n",
      "\u001b[0;32m~/.local/lib/python3.6/site-packages/tensorflow/python/framework/ops.py\u001b[0m in \u001b[0;36mas_graph_element\u001b[0;34m(self, obj, allow_tensor, allow_operation)\u001b[0m\n\u001b[1;32m   3487\u001b[0m     \u001b[0;32mwith\u001b[0m \u001b[0mself\u001b[0m\u001b[0;34m.\u001b[0m\u001b[0m_lock\u001b[0m\u001b[0;34m:\u001b[0m\u001b[0;34m\u001b[0m\u001b[0m\n\u001b[0;32m-> 3488\u001b[0;31m       \u001b[0;32mreturn\u001b[0m \u001b[0mself\u001b[0m\u001b[0;34m.\u001b[0m\u001b[0m_as_graph_element_locked\u001b[0m\u001b[0;34m(\u001b[0m\u001b[0mobj\u001b[0m\u001b[0;34m,\u001b[0m \u001b[0mallow_tensor\u001b[0m\u001b[0;34m,\u001b[0m \u001b[0mallow_operation\u001b[0m\u001b[0;34m)\u001b[0m\u001b[0;34m\u001b[0m\u001b[0m\n\u001b[0m\u001b[1;32m   3489\u001b[0m \u001b[0;34m\u001b[0m\u001b[0m\n",
      "\u001b[0;32m~/.local/lib/python3.6/site-packages/tensorflow/python/framework/ops.py\u001b[0m in \u001b[0;36m_as_graph_element_locked\u001b[0;34m(self, obj, allow_tensor, allow_operation)\u001b[0m\n\u001b[1;32m   3576\u001b[0m       raise TypeError(\"Can not convert a %s into a %s.\" % (type(obj).__name__,\n\u001b[0;32m-> 3577\u001b[0;31m                                                            types_str))\n\u001b[0m\u001b[1;32m   3578\u001b[0m \u001b[0;34m\u001b[0m\u001b[0m\n",
      "\u001b[0;31mTypeError\u001b[0m: Can not convert a Operation into a Tensor.",
      "\nDuring handling of the above exception, another exception occurred:\n",
      "\u001b[0;31mTypeError\u001b[0m                                 Traceback (most recent call last)",
      "\u001b[0;32m<ipython-input-5-9743dae98f13>\u001b[0m in \u001b[0;36m<module>\u001b[0;34m()\u001b[0m\n\u001b[0;32m----> 1\u001b[0;31m \u001b[0myhat\u001b[0m \u001b[0;34m=\u001b[0m \u001b[0mnp\u001b[0m\u001b[0;34m.\u001b[0m\u001b[0margmax\u001b[0m\u001b[0;34m(\u001b[0m\u001b[0msess\u001b[0m\u001b[0;34m.\u001b[0m\u001b[0mrun\u001b[0m\u001b[0;34m(\u001b[0m\u001b[0mscore\u001b[0m\u001b[0;34m,\u001b[0m \u001b[0mfeed_dict\u001b[0m\u001b[0;34m=\u001b[0m\u001b[0;34m{\u001b[0m\u001b[0mx\u001b[0m\u001b[0;34m:\u001b[0m\u001b[0mx_test\u001b[0m\u001b[0;34m}\u001b[0m\u001b[0;34m)\u001b[0m\u001b[0;34m,\u001b[0m \u001b[0maxis\u001b[0m \u001b[0;34m=\u001b[0m \u001b[0;36m1\u001b[0m\u001b[0;34m)\u001b[0m\u001b[0;34m\u001b[0m\u001b[0m\n\u001b[0m\u001b[1;32m      2\u001b[0m \u001b[0mprint\u001b[0m\u001b[0;34m(\u001b[0m\u001b[0;34m\"acc : {:.2%}\"\u001b[0m\u001b[0;34m.\u001b[0m\u001b[0mformat\u001b[0m\u001b[0;34m(\u001b[0m\u001b[0mnp\u001b[0m\u001b[0;34m.\u001b[0m\u001b[0mmean\u001b[0m\u001b[0;34m(\u001b[0m\u001b[0myhat\u001b[0m \u001b[0;34m==\u001b[0m \u001b[0my_test\u001b[0m\u001b[0;34m)\u001b[0m\u001b[0;34m)\u001b[0m\u001b[0;34m)\u001b[0m\u001b[0;34m\u001b[0m\u001b[0m\n",
      "\u001b[0;32m~/.local/lib/python3.6/site-packages/tensorflow/python/client/session.py\u001b[0m in \u001b[0;36mrun\u001b[0;34m(self, fetches, feed_dict, options, run_metadata)\u001b[0m\n\u001b[1;32m    885\u001b[0m     \u001b[0;32mtry\u001b[0m\u001b[0;34m:\u001b[0m\u001b[0;34m\u001b[0m\u001b[0m\n\u001b[1;32m    886\u001b[0m       result = self._run(None, fetches, feed_dict, options_ptr,\n\u001b[0;32m--> 887\u001b[0;31m                          run_metadata_ptr)\n\u001b[0m\u001b[1;32m    888\u001b[0m       \u001b[0;32mif\u001b[0m \u001b[0mrun_metadata\u001b[0m\u001b[0;34m:\u001b[0m\u001b[0;34m\u001b[0m\u001b[0m\n\u001b[1;32m    889\u001b[0m         \u001b[0mproto_data\u001b[0m \u001b[0;34m=\u001b[0m \u001b[0mtf_session\u001b[0m\u001b[0;34m.\u001b[0m\u001b[0mTF_GetBuffer\u001b[0m\u001b[0;34m(\u001b[0m\u001b[0mrun_metadata_ptr\u001b[0m\u001b[0;34m)\u001b[0m\u001b[0;34m\u001b[0m\u001b[0m\n",
      "\u001b[0;32m~/.local/lib/python3.6/site-packages/tensorflow/python/client/session.py\u001b[0m in \u001b[0;36m_run\u001b[0;34m(self, handle, fetches, feed_dict, options, run_metadata)\u001b[0m\n\u001b[1;32m   1051\u001b[0m           \u001b[0;32mexcept\u001b[0m \u001b[0mException\u001b[0m \u001b[0;32mas\u001b[0m \u001b[0me\u001b[0m\u001b[0;34m:\u001b[0m\u001b[0;34m\u001b[0m\u001b[0m\n\u001b[1;32m   1052\u001b[0m             raise TypeError(\n\u001b[0;32m-> 1053\u001b[0;31m                 'Cannot interpret feed_dict key as Tensor: ' + e.args[0])\n\u001b[0m\u001b[1;32m   1054\u001b[0m \u001b[0;34m\u001b[0m\u001b[0m\n\u001b[1;32m   1055\u001b[0m           \u001b[0;32mif\u001b[0m \u001b[0misinstance\u001b[0m\u001b[0;34m(\u001b[0m\u001b[0msubfeed_val\u001b[0m\u001b[0;34m,\u001b[0m \u001b[0mops\u001b[0m\u001b[0;34m.\u001b[0m\u001b[0mTensor\u001b[0m\u001b[0;34m)\u001b[0m\u001b[0;34m:\u001b[0m\u001b[0;34m\u001b[0m\u001b[0m\n",
      "\u001b[0;31mTypeError\u001b[0m: Cannot interpret feed_dict key as Tensor: Can not convert a Operation into a Tensor."
     ]
    }
   ],
   "source": [
    "yhat = np.argmax(sess.run(score, feed_dict={x:x_test}), axis = 1)\n",
    "print(\"acc : {:.2%}\".format(np.mean(yhat == y_test)))"
   ]
  },
  {
   "cell_type": "markdown",
   "metadata": {},
   "source": [
    "![kk](https://user-images.githubusercontent.com/13328380/52034020-6bfcc700-256a-11e9-8f4d-8fac4116cfa2.jpeg)"
   ]
  },
  {
   "cell_type": "code",
   "execution_count": 6,
   "metadata": {},
   "outputs": [
    {
     "ename": "ValueError",
     "evalue": "The name 'Input' refers to an Operation, not a Tensor. Tensor names must be of the form \"<op_name>:<output_index>\".",
     "output_type": "error",
     "traceback": [
      "\u001b[0;31m---------------------------------------------------------------------------\u001b[0m",
      "\u001b[0;31mValueError\u001b[0m                                Traceback (most recent call last)",
      "\u001b[0;32m<ipython-input-6-4dd4ce697b16>\u001b[0m in \u001b[0;36m<module>\u001b[0;34m()\u001b[0m\n\u001b[0;32m----> 1\u001b[0;31m \u001b[0mx\u001b[0m \u001b[0;34m=\u001b[0m \u001b[0mgraph\u001b[0m\u001b[0;34m.\u001b[0m\u001b[0mget_tensor_by_name\u001b[0m\u001b[0;34m(\u001b[0m\u001b[0;34m\"Input\"\u001b[0m\u001b[0;34m)\u001b[0m\u001b[0;34m\u001b[0m\u001b[0m\n\u001b[0m\u001b[1;32m      2\u001b[0m \u001b[0my\u001b[0m \u001b[0;34m=\u001b[0m \u001b[0mgraph\u001b[0m\u001b[0;34m.\u001b[0m\u001b[0mget_tensor_by_name\u001b[0m\u001b[0;34m(\u001b[0m\u001b[0;34m\"Label\"\u001b[0m\u001b[0;34m)\u001b[0m\u001b[0;34m\u001b[0m\u001b[0m\n\u001b[1;32m      3\u001b[0m \u001b[0mscore\u001b[0m \u001b[0;34m=\u001b[0m \u001b[0mgraph\u001b[0m\u001b[0;34m.\u001b[0m\u001b[0mget_operation_by_name\u001b[0m\u001b[0;34m(\u001b[0m\u001b[0;34m\"score\"\u001b[0m\u001b[0;34m)\u001b[0m\u001b[0;34m\u001b[0m\u001b[0m\n\u001b[1;32m      4\u001b[0m \u001b[0;34m\u001b[0m\u001b[0m\n\u001b[1;32m      5\u001b[0m \u001b[0mprint\u001b[0m\u001b[0;34m(\u001b[0m\u001b[0mx\u001b[0m\u001b[0;34m)\u001b[0m\u001b[0;34m\u001b[0m\u001b[0m\n",
      "\u001b[0;32m~/.local/lib/python3.6/site-packages/tensorflow/python/framework/ops.py\u001b[0m in \u001b[0;36mget_tensor_by_name\u001b[0;34m(self, name)\u001b[0m\n\u001b[1;32m   3662\u001b[0m       raise TypeError(\"Tensor names are strings (or similar), not %s.\" %\n\u001b[1;32m   3663\u001b[0m                       type(name).__name__)\n\u001b[0;32m-> 3664\u001b[0;31m     \u001b[0;32mreturn\u001b[0m \u001b[0mself\u001b[0m\u001b[0;34m.\u001b[0m\u001b[0mas_graph_element\u001b[0m\u001b[0;34m(\u001b[0m\u001b[0mname\u001b[0m\u001b[0;34m,\u001b[0m \u001b[0mallow_tensor\u001b[0m\u001b[0;34m=\u001b[0m\u001b[0;32mTrue\u001b[0m\u001b[0;34m,\u001b[0m \u001b[0mallow_operation\u001b[0m\u001b[0;34m=\u001b[0m\u001b[0;32mFalse\u001b[0m\u001b[0;34m)\u001b[0m\u001b[0;34m\u001b[0m\u001b[0m\n\u001b[0m\u001b[1;32m   3665\u001b[0m \u001b[0;34m\u001b[0m\u001b[0m\n\u001b[1;32m   3666\u001b[0m   \u001b[0;32mdef\u001b[0m \u001b[0m_get_tensor_by_tf_output\u001b[0m\u001b[0;34m(\u001b[0m\u001b[0mself\u001b[0m\u001b[0;34m,\u001b[0m \u001b[0mtf_output\u001b[0m\u001b[0;34m)\u001b[0m\u001b[0;34m:\u001b[0m\u001b[0;34m\u001b[0m\u001b[0m\n",
      "\u001b[0;32m~/.local/lib/python3.6/site-packages/tensorflow/python/framework/ops.py\u001b[0m in \u001b[0;36mas_graph_element\u001b[0;34m(self, obj, allow_tensor, allow_operation)\u001b[0m\n\u001b[1;32m   3486\u001b[0m \u001b[0;34m\u001b[0m\u001b[0m\n\u001b[1;32m   3487\u001b[0m     \u001b[0;32mwith\u001b[0m \u001b[0mself\u001b[0m\u001b[0;34m.\u001b[0m\u001b[0m_lock\u001b[0m\u001b[0;34m:\u001b[0m\u001b[0;34m\u001b[0m\u001b[0m\n\u001b[0;32m-> 3488\u001b[0;31m       \u001b[0;32mreturn\u001b[0m \u001b[0mself\u001b[0m\u001b[0;34m.\u001b[0m\u001b[0m_as_graph_element_locked\u001b[0m\u001b[0;34m(\u001b[0m\u001b[0mobj\u001b[0m\u001b[0;34m,\u001b[0m \u001b[0mallow_tensor\u001b[0m\u001b[0;34m,\u001b[0m \u001b[0mallow_operation\u001b[0m\u001b[0;34m)\u001b[0m\u001b[0;34m\u001b[0m\u001b[0m\n\u001b[0m\u001b[1;32m   3489\u001b[0m \u001b[0;34m\u001b[0m\u001b[0m\n\u001b[1;32m   3490\u001b[0m   \u001b[0;32mdef\u001b[0m \u001b[0m_as_graph_element_locked\u001b[0m\u001b[0;34m(\u001b[0m\u001b[0mself\u001b[0m\u001b[0;34m,\u001b[0m \u001b[0mobj\u001b[0m\u001b[0;34m,\u001b[0m \u001b[0mallow_tensor\u001b[0m\u001b[0;34m,\u001b[0m \u001b[0mallow_operation\u001b[0m\u001b[0;34m)\u001b[0m\u001b[0;34m:\u001b[0m\u001b[0;34m\u001b[0m\u001b[0m\n",
      "\u001b[0;32m~/.local/lib/python3.6/site-packages/tensorflow/python/framework/ops.py\u001b[0m in \u001b[0;36m_as_graph_element_locked\u001b[0;34m(self, obj, allow_tensor, allow_operation)\u001b[0m\n\u001b[1;32m   3560\u001b[0m         err_msg += (\" Tensor names must be of the form \"\n\u001b[1;32m   3561\u001b[0m                     \"\\\"<op_name>:<output_index>\\\".\")\n\u001b[0;32m-> 3562\u001b[0;31m         \u001b[0;32mraise\u001b[0m \u001b[0mValueError\u001b[0m\u001b[0;34m(\u001b[0m\u001b[0merr_msg\u001b[0m\u001b[0;34m)\u001b[0m\u001b[0;34m\u001b[0m\u001b[0m\n\u001b[0m\u001b[1;32m   3563\u001b[0m \u001b[0;34m\u001b[0m\u001b[0m\n\u001b[1;32m   3564\u001b[0m     \u001b[0;32melif\u001b[0m \u001b[0misinstance\u001b[0m\u001b[0;34m(\u001b[0m\u001b[0mobj\u001b[0m\u001b[0;34m,\u001b[0m \u001b[0mTensor\u001b[0m\u001b[0;34m)\u001b[0m \u001b[0;32mand\u001b[0m \u001b[0mallow_tensor\u001b[0m\u001b[0;34m:\u001b[0m\u001b[0;34m\u001b[0m\u001b[0m\n",
      "\u001b[0;31mValueError\u001b[0m: The name 'Input' refers to an Operation, not a Tensor. Tensor names must be of the form \"<op_name>:<output_index>\"."
     ]
    }
   ],
   "source": [
    "x = graph.get_tensor_by_name(\"Input\")\n",
    "y = graph.get_tensor_by_name(\"Label\")\n",
    "score = graph.get_operation_by_name(\"score\")\n",
    "\n",
    "print(x)\n",
    "print(y)\n",
    "print(score)"
   ]
  },
  {
   "cell_type": "markdown",
   "metadata": {},
   "source": [
    "![296fd8b4a4928a1323396da3febad4a7](https://user-images.githubusercontent.com/13328380/52034060-964e8480-256a-11e9-9e1f-bc05bd0851f2.gif)"
   ]
  },
  {
   "cell_type": "markdown",
   "metadata": {},
   "source": [
    "# tf.add_to_collection()"
   ]
  },
  {
   "cell_type": "markdown",
   "metadata": {},
   "source": [
    "# <span style=\"color:red\">!!Kernel Restart!! </span>"
   ]
  },
  {
   "cell_type": "code",
   "execution_count": 1,
   "metadata": {},
   "outputs": [
    {
     "name": "stdout",
     "output_type": "stream",
     "text": [
      "1.11.0\n"
     ]
    }
   ],
   "source": [
    "from __future__ import print_function\n",
    "from tqdm import tqdm_notebook\n",
    "import numpy as np\n",
    "import tensorflow as tf\n",
    "from tensorflow.core.protobuf import saver_pb2\n",
    "import matplotlib.pyplot as plt\n",
    "%matplotlib inline\n",
    "print(tf.__version__)\n",
    "\n",
    "tf.set_random_seed(2)"
   ]
  },
  {
   "cell_type": "code",
   "execution_count": 2,
   "metadata": {},
   "outputs": [],
   "source": [
    "(x_train, y_train), (x_test , y_test) = tf.keras.datasets.mnist.load_data()\n",
    "x_train = (x_train/255).astype(np.float32).reshape(-1, 784)\n",
    "x_test = (x_test/255).astype(np.float32).reshape(-1, 784)\n",
    "\n",
    "val_range = int(len(x_test) * 0.8)\n",
    "\n",
    "x_val = x_test[:val_range, :]\n",
    "y_val = y_test[:val_range]\n",
    "\n",
    "x_test = x_test[val_range:, :]\n",
    "y_test = y_test[val_range:]"
   ]
  },
  {
   "cell_type": "code",
   "execution_count": 3,
   "metadata": {},
   "outputs": [],
   "source": [
    "# Declare Input Node\n",
    "x = tf.placeholder(dtype=tf.float32, name=\"Input\")\n",
    "y = tf.placeholder(dtype=tf.int32, name=\"Label\")\n",
    "\n",
    "# Declare parameter\n",
    "layer1_weights = tf.Variable(initial_value=tf.truncated_normal([784, 500]) , dtype=tf.float32)\n",
    "layer2_weights = tf.Variable(initial_value=tf.truncated_normal([500, 200]) , dtype=tf.float32)\n",
    "layer3_weights = tf.Variable(initial_value=tf.truncated_normal([200, 10]) , dtype=tf.float32)\n",
    "\n",
    "# build graph\n",
    "feature1 = tf.matmul(x, layer1_weights)\n",
    "activation1 = tf.tanh(feature1)\n",
    "feature2 = tf.matmul(activation1, layer2_weights)\n",
    "activation2 = tf.tanh(feature2)\n",
    "score = tf.matmul(activation2, layer3_weights, name='score')\n",
    "\n",
    "prediction = tf.argmax(input = score, axis=1)\n",
    "\n",
    "loss = tf.losses.sparse_softmax_cross_entropy(labels=y, logits=score)"
   ]
  },
  {
   "cell_type": "markdown",
   "metadata": {},
   "source": [
    "# tf.add_to_collection() 으로 넣어주자!!!"
   ]
  },
  {
   "cell_type": "code",
   "execution_count": 4,
   "metadata": {},
   "outputs": [],
   "source": [
    "tf.add_to_collection('input', x)\n",
    "tf.add_to_collection('label', y)\n",
    "tf.add_to_collection('score', score)"
   ]
  },
  {
   "cell_type": "code",
   "execution_count": 5,
   "metadata": {},
   "outputs": [
    {
     "data": {
      "application/vnd.jupyter.widget-view+json": {
       "model_id": "6ae9aa9c591a4562ae27a772b3bce2f5",
       "version_major": 2,
       "version_minor": 0
      },
      "text/html": [
       "<p>Failed to display Jupyter Widget of type <code>HBox</code>.</p>\n",
       "<p>\n",
       "  If you're reading this message in the Jupyter Notebook or JupyterLab Notebook, it may mean\n",
       "  that the widgets JavaScript is still loading. If this message persists, it\n",
       "  likely means that the widgets JavaScript library is either not installed or\n",
       "  not enabled. See the <a href=\"https://ipywidgets.readthedocs.io/en/stable/user_install.html\">Jupyter\n",
       "  Widgets Documentation</a> for setup instructions.\n",
       "</p>\n",
       "<p>\n",
       "  If you're reading this message in another frontend (for example, a static\n",
       "  rendering on GitHub or <a href=\"https://nbviewer.jupyter.org/\">NBViewer</a>),\n",
       "  it may mean that your frontend doesn't currently support widgets.\n",
       "</p>\n"
      ],
      "text/plain": [
       "HBox(children=(IntProgress(value=0), HTML(value='')))"
      ]
     },
     "metadata": {},
     "output_type": "display_data"
    },
    {
     "name": "stdout",
     "output_type": "stream",
     "text": [
      "\n",
      "train finished\n"
     ]
    }
   ],
   "source": [
    "opt = tf.train.GradientDescentOptimizer(learning_rate=0.01)\n",
    "optimizer = opt.minimize(loss)\n",
    "\n",
    "# TensorBoard\n",
    "softmaxLoss = tf.summary.scalar(name='softmax_loss', tensor=loss)\n",
    "train_writer = tf.summary.FileWriter('./graphs/low-level/train_mnist_dnn', graph=tf.get_default_graph())\n",
    "val_writer = tf.summary.FileWriter('./graphs/low-level/val_mnist_dnn', graph=tf.get_default_graph())\n",
    "\n",
    "saver = tf.train.Saver(write_version = saver_pb2.SaverDef.V2)\n",
    "\n",
    "# Hyper Parameter\n",
    "epoch = 100\n",
    "total_bar_length = tqdm_notebook(range(epoch))\n",
    "batch_size=1024\n",
    "total_step = int(x_train.shape[0] / batch_size)\n",
    "\n",
    "sess = tf.Session()\n",
    "sess.run(tf.global_variables_initializer())\n",
    "\n",
    "train_loss_hist = []\n",
    "val_loss_hist = []\n",
    "\n",
    "for i in total_bar_length:\n",
    "    avg_train_loss = 0   \n",
    "    avg_val_loss = 0 \n",
    "    \n",
    "    val_loss = 0\n",
    "    \n",
    "    train_loss_sum = 0    \n",
    "    val_loss_sum = 0\n",
    "    \n",
    "    for step in range(total_step):\n",
    "            batch_indices = np.random.choice(range(x_train.shape[0]), size=batch_size, replace=False)\n",
    "\n",
    "            batch_xs = x_train[batch_indices]\n",
    "            batch_ys = y_train[batch_indices]\n",
    "            \n",
    "            val_indices = np.random.choice(range(x_val.shape[0]), size=batch_size, replace=False)\n",
    "            \n",
    "            val_xs = x_val[val_indices]\n",
    "            val_ys = y_val[val_indices]\n",
    "\n",
    "            _, train_loss = sess.run([optimizer, loss], feed_dict={x:batch_xs, y:batch_ys})\n",
    "            \n",
    "            val_loss = sess.run(fetches = loss, feed_dict={x:val_xs, y:val_ys})\n",
    "            \n",
    "            avg_train_loss += train_loss / total_step\n",
    "            avg_val_loss += val_loss / total_step\n",
    "        \n",
    "    train_loss_hist.append(avg_train_loss)\n",
    "    val_loss_hist.append(val_loss)\n",
    "    \n",
    "    train_loss_sum = sess.run(softmaxLoss, feed_dict={x:batch_xs, y:batch_ys})\n",
    "    val_loss_sum = sess.run(fetches = softmaxLoss, feed_dict={x:val_xs, y:val_ys})\n",
    "\n",
    "    train_writer.add_summary(train_loss_sum, global_step = i)\n",
    "    val_writer.add_summary(val_loss_sum, global_step = i)\n",
    "        \n",
    "train_writer.close()\n",
    "val_writer.close()\n",
    "\n",
    "global_step = tf.train.get_global_step()\n",
    "saver.save(sess, './weights/mnist.ckpt', global_step=global_step)\n",
    "\n",
    "print(\"train finished\")"
   ]
  },
  {
   "cell_type": "code",
   "execution_count": 6,
   "metadata": {},
   "outputs": [
    {
     "data": {
      "image/png": "[encoded data removed]",
      "text/plain": [
       "<Figure size 432x288 with 1 Axes>"
      ]
     },
     "metadata": {},
     "output_type": "display_data"
    }
   ],
   "source": [
    "plt.plot(train_loss_hist, label=\"train\")\n",
    "plt.plot(val_loss_hist, label=\"validation\")\n",
    "plt.legend()\n",
    "plt.show()"
   ]
  },
  {
   "cell_type": "code",
   "execution_count": 7,
   "metadata": {},
   "outputs": [
    {
     "name": "stdout",
     "output_type": "stream",
     "text": [
      "acc : 82.30%\n"
     ]
    }
   ],
   "source": [
    "yhat = np.argmax(sess.run(score, feed_dict={x:x_test}), axis = 1)\n",
    "print(\"acc : {:.2%}\".format(np.mean(yhat == y_test)))"
   ]
  },
  {
   "cell_type": "markdown",
   "metadata": {},
   "source": [
    "# Try Again!"
   ]
  },
  {
   "cell_type": "markdown",
   "metadata": {},
   "source": [
    "# <span style=\"color:red\">!!Kernel Restart!! </span>"
   ]
  },
  {
   "cell_type": "code",
   "execution_count": 1,
   "metadata": {},
   "outputs": [
    {
     "name": "stdout",
     "output_type": "stream",
     "text": [
      "1.11.0\n"
     ]
    }
   ],
   "source": [
    "from __future__ import print_function\n",
    "from tqdm import tqdm_notebook\n",
    "import numpy as np\n",
    "import tensorflow as tf\n",
    "from tensorflow.core.protobuf import saver_pb2\n",
    "import matplotlib.pyplot as plt\n",
    "%matplotlib inline\n",
    "print(tf.__version__)"
   ]
  },
  {
   "cell_type": "code",
   "execution_count": 2,
   "metadata": {},
   "outputs": [],
   "source": [
    "tf.set_random_seed(2)\n",
    "tf.reset_default_graph()"
   ]
  },
  {
   "cell_type": "code",
   "execution_count": 3,
   "metadata": {},
   "outputs": [
    {
     "name": "stdout",
     "output_type": "stream",
     "text": [
      "INFO:tensorflow:Restoring parameters from ./weights/mnist.ckpt\n",
      "acc : 82.30%\n"
     ]
    }
   ],
   "source": [
    "(x_train, y_train), (x_test , y_test) = tf.keras.datasets.mnist.load_data()\n",
    "x_train = (x_train/255).astype(np.float32).reshape(-1, 784)\n",
    "x_test = (x_test/255).astype(np.float32).reshape(-1, 784)\n",
    "\n",
    "val_range = int(len(x_test) * 0.8)\n",
    "\n",
    "x_val = x_test[:val_range, :]\n",
    "y_val = y_test[:val_range]\n",
    "\n",
    "x_test = x_test[val_range:, :]\n",
    "y_test = y_test[val_range:]\n",
    "\n",
    "saver = tf.train.import_meta_graph('./weights/mnist.ckpt.meta')\n",
    "graph = tf.get_default_graph()\n",
    "\n",
    "sess = tf.Session()\n",
    "sess.run(tf.global_variables_initializer())\n",
    "saver.restore(sess, './weights/mnist.ckpt')\n",
    "x = tf.get_collection(\"input\")[0]\n",
    "y = tf.get_collection(\"label\")[0]\n",
    "score = tf.get_collection(\"score\")[0]\n",
    "\n",
    "yhat = np.argmax(sess.run(score, feed_dict={x:x_test}), axis = 1)\n",
    "print(\"acc : {:.2%}\".format(np.mean(yhat == y_test)))"
   ]
  },
  {
   "cell_type": "markdown",
   "metadata": {},
   "source": [
    "![gvsc 1](https://user-images.githubusercontent.com/13328380/52034324-779cbd80-256b-11e9-9df1-3bb7411918c8.png)"
   ]
  },
  {
   "cell_type": "markdown",
   "metadata": {},
   "source": [
    "# Other Way"
   ]
  },
  {
   "cell_type": "code",
   "execution_count": 1,
   "metadata": {},
   "outputs": [
    {
     "name": "stdout",
     "output_type": "stream",
     "text": [
      "1.11.0\n"
     ]
    }
   ],
   "source": [
    "from __future__ import print_function\n",
    "from tqdm import tqdm_notebook\n",
    "import numpy as np\n",
    "import tensorflow as tf\n",
    "from tensorflow.core.protobuf import saver_pb2\n",
    "import matplotlib.pyplot as plt\n",
    "%matplotlib inline\n",
    "print(tf.__version__)\n",
    "\n",
    "tf.set_random_seed(2)\n",
    "tf.reset_default_graph()\n",
    "\n",
    "(x_train, y_train), (x_test , y_test) = tf.keras.datasets.mnist.load_data()\n",
    "x_train = (x_train/255).astype(np.float32).reshape(-1, 784)\n",
    "x_test = (x_test/255).astype(np.float32).reshape(-1, 784)\n",
    "\n",
    "val_range = int(len(x_test) * 0.8)\n",
    "\n",
    "x_val = x_test[:val_range, :]\n",
    "y_val = y_test[:val_range]\n",
    "\n",
    "x_test = x_test[val_range:, :]\n",
    "y_test = y_test[val_range:]"
   ]
  },
  {
   "cell_type": "code",
   "execution_count": 2,
   "metadata": {},
   "outputs": [
    {
     "name": "stdout",
     "output_type": "stream",
     "text": [
      "Input\n",
      "Label\n",
      "truncated_normal/shape\n",
      "truncated_normal/mean\n",
      "truncated_normal/stddev\n",
      "truncated_normal/TruncatedNormal\n",
      "truncated_normal/mul\n",
      "truncated_normal\n",
      "Variable\n",
      "Variable/Assign\n",
      "Variable/read\n",
      "truncated_normal_1/shape\n",
      "truncated_normal_1/mean\n",
      "truncated_normal_1/stddev\n",
      "truncated_normal_1/TruncatedNormal\n",
      "truncated_normal_1/mul\n",
      "truncated_normal_1\n",
      "Variable_1\n",
      "Variable_1/Assign\n",
      "Variable_1/read\n",
      "truncated_normal_2/shape\n",
      "truncated_normal_2/mean\n",
      "truncated_normal_2/stddev\n",
      "truncated_normal_2/TruncatedNormal\n",
      "truncated_normal_2/mul\n",
      "truncated_normal_2\n",
      "Variable_2\n",
      "Variable_2/Assign\n",
      "Variable_2/read\n",
      "MatMul\n",
      "Tanh\n",
      "MatMul_1\n",
      "Tanh_1\n",
      "score\n",
      "ArgMax/dimension\n",
      "ArgMax\n",
      "sparse_softmax_cross_entropy_loss/remove_squeezable_dimensions/Rank\n",
      "sparse_softmax_cross_entropy_loss/remove_squeezable_dimensions/Rank_1\n",
      "sparse_softmax_cross_entropy_loss/remove_squeezable_dimensions/sub\n",
      "sparse_softmax_cross_entropy_loss/remove_squeezable_dimensions/Equal/x\n",
      "sparse_softmax_cross_entropy_loss/remove_squeezable_dimensions/Equal\n",
      "sparse_softmax_cross_entropy_loss/remove_squeezable_dimensions/cond/Switch\n",
      "sparse_softmax_cross_entropy_loss/remove_squeezable_dimensions/cond/switch_t\n",
      "sparse_softmax_cross_entropy_loss/remove_squeezable_dimensions/cond/switch_f\n",
      "sparse_softmax_cross_entropy_loss/remove_squeezable_dimensions/cond/pred_id\n",
      "sparse_softmax_cross_entropy_loss/remove_squeezable_dimensions/cond/Squeeze/Switch\n",
      "sparse_softmax_cross_entropy_loss/remove_squeezable_dimensions/cond/Squeeze\n",
      "sparse_softmax_cross_entropy_loss/remove_squeezable_dimensions/cond/Switch_1\n",
      "sparse_softmax_cross_entropy_loss/remove_squeezable_dimensions/cond/Merge\n",
      "sparse_softmax_cross_entropy_loss/Const\n",
      "sparse_softmax_cross_entropy_loss/Rank\n",
      "sparse_softmax_cross_entropy_loss/Rank_1\n",
      "sparse_softmax_cross_entropy_loss/sub\n",
      "sparse_softmax_cross_entropy_loss/xentropy/Shape\n",
      "sparse_softmax_cross_entropy_loss/xentropy/xentropy\n",
      "sparse_softmax_cross_entropy_loss/assert_broadcastable/weights/shape\n",
      "sparse_softmax_cross_entropy_loss/assert_broadcastable/weights/rank\n",
      "sparse_softmax_cross_entropy_loss/assert_broadcastable/values/shape\n",
      "sparse_softmax_cross_entropy_loss/assert_broadcastable/values/rank\n",
      "sparse_softmax_cross_entropy_loss/assert_broadcastable/static_scalar_check_success\n",
      "sparse_softmax_cross_entropy_loss/Mul\n",
      "sparse_softmax_cross_entropy_loss/Const_1\n",
      "sparse_softmax_cross_entropy_loss/Sum\n",
      "sparse_softmax_cross_entropy_loss/num_present/Equal/y\n",
      "sparse_softmax_cross_entropy_loss/num_present/Equal\n",
      "sparse_softmax_cross_entropy_loss/num_present/zeros_like\n",
      "sparse_softmax_cross_entropy_loss/num_present/ones_like/Shape\n",
      "sparse_softmax_cross_entropy_loss/num_present/ones_like/Const\n",
      "sparse_softmax_cross_entropy_loss/num_present/ones_like\n",
      "sparse_softmax_cross_entropy_loss/num_present/Select\n",
      "sparse_softmax_cross_entropy_loss/num_present/broadcast_weights/assert_broadcastable/weights/shape\n",
      "sparse_softmax_cross_entropy_loss/num_present/broadcast_weights/assert_broadcastable/weights/rank\n",
      "sparse_softmax_cross_entropy_loss/num_present/broadcast_weights/assert_broadcastable/values/shape\n",
      "sparse_softmax_cross_entropy_loss/num_present/broadcast_weights/assert_broadcastable/values/rank\n",
      "sparse_softmax_cross_entropy_loss/num_present/broadcast_weights/assert_broadcastable/static_scalar_check_success\n",
      "sparse_softmax_cross_entropy_loss/num_present/broadcast_weights/ones_like/Shape\n",
      "sparse_softmax_cross_entropy_loss/num_present/broadcast_weights/ones_like/Const\n",
      "sparse_softmax_cross_entropy_loss/num_present/broadcast_weights/ones_like\n",
      "sparse_softmax_cross_entropy_loss/num_present/broadcast_weights\n",
      "sparse_softmax_cross_entropy_loss/num_present/Const\n",
      "sparse_softmax_cross_entropy_loss/num_present\n",
      "sparse_softmax_cross_entropy_loss/Const_2\n",
      "sparse_softmax_cross_entropy_loss/Sum_1\n",
      "sparse_softmax_cross_entropy_loss/Greater/y\n",
      "sparse_softmax_cross_entropy_loss/Greater\n",
      "sparse_softmax_cross_entropy_loss/Equal/y\n",
      "sparse_softmax_cross_entropy_loss/Equal\n",
      "sparse_softmax_cross_entropy_loss/ones_like/Shape\n",
      "sparse_softmax_cross_entropy_loss/ones_like/Const\n",
      "sparse_softmax_cross_entropy_loss/ones_like\n",
      "sparse_softmax_cross_entropy_loss/Select\n",
      "sparse_softmax_cross_entropy_loss/div\n",
      "sparse_softmax_cross_entropy_loss/zeros_like\n",
      "sparse_softmax_cross_entropy_loss/value\n",
      "gradients/Shape\n",
      "gradients/grad_ys_0\n",
      "gradients/Fill\n",
      "gradients/sparse_softmax_cross_entropy_loss/value_grad/zeros_like\n",
      "gradients/sparse_softmax_cross_entropy_loss/value_grad/Select\n",
      "gradients/sparse_softmax_cross_entropy_loss/value_grad/Select_1\n",
      "gradients/sparse_softmax_cross_entropy_loss/value_grad/tuple/group_deps\n",
      "gradients/sparse_softmax_cross_entropy_loss/value_grad/tuple/control_dependency\n",
      "gradients/sparse_softmax_cross_entropy_loss/value_grad/tuple/control_dependency_1\n",
      "gradients/sparse_softmax_cross_entropy_loss/div_grad/Shape\n",
      "gradients/sparse_softmax_cross_entropy_loss/div_grad/Shape_1\n",
      "gradients/sparse_softmax_cross_entropy_loss/div_grad/BroadcastGradientArgs\n",
      "gradients/sparse_softmax_cross_entropy_loss/div_grad/RealDiv\n",
      "gradients/sparse_softmax_cross_entropy_loss/div_grad/Sum\n",
      "gradients/sparse_softmax_cross_entropy_loss/div_grad/Reshape\n",
      "gradients/sparse_softmax_cross_entropy_loss/div_grad/Neg\n",
      "gradients/sparse_softmax_cross_entropy_loss/div_grad/RealDiv_1\n",
      "gradients/sparse_softmax_cross_entropy_loss/div_grad/RealDiv_2\n",
      "gradients/sparse_softmax_cross_entropy_loss/div_grad/mul\n",
      "gradients/sparse_softmax_cross_entropy_loss/div_grad/Sum_1\n",
      "gradients/sparse_softmax_cross_entropy_loss/div_grad/Reshape_1\n",
      "gradients/sparse_softmax_cross_entropy_loss/div_grad/tuple/group_deps\n",
      "gradients/sparse_softmax_cross_entropy_loss/div_grad/tuple/control_dependency\n",
      "gradients/sparse_softmax_cross_entropy_loss/div_grad/tuple/control_dependency_1\n",
      "gradients/sparse_softmax_cross_entropy_loss/Sum_1_grad/Reshape/shape\n",
      "gradients/sparse_softmax_cross_entropy_loss/Sum_1_grad/Reshape\n",
      "gradients/sparse_softmax_cross_entropy_loss/Sum_1_grad/Const\n",
      "gradients/sparse_softmax_cross_entropy_loss/Sum_1_grad/Tile\n",
      "gradients/sparse_softmax_cross_entropy_loss/Sum_grad/Reshape/shape\n",
      "gradients/sparse_softmax_cross_entropy_loss/Sum_grad/Reshape\n",
      "gradients/sparse_softmax_cross_entropy_loss/Sum_grad/Shape\n",
      "gradients/sparse_softmax_cross_entropy_loss/Sum_grad/Tile\n",
      "gradients/sparse_softmax_cross_entropy_loss/Mul_grad/Shape\n",
      "gradients/sparse_softmax_cross_entropy_loss/Mul_grad/Shape_1\n",
      "gradients/sparse_softmax_cross_entropy_loss/Mul_grad/BroadcastGradientArgs\n",
      "gradients/sparse_softmax_cross_entropy_loss/Mul_grad/Mul\n",
      "gradients/sparse_softmax_cross_entropy_loss/Mul_grad/Sum\n",
      "gradients/sparse_softmax_cross_entropy_loss/Mul_grad/Reshape\n",
      "gradients/sparse_softmax_cross_entropy_loss/Mul_grad/Mul_1\n",
      "gradients/sparse_softmax_cross_entropy_loss/Mul_grad/Sum_1\n",
      "gradients/sparse_softmax_cross_entropy_loss/Mul_grad/Reshape_1\n",
      "gradients/sparse_softmax_cross_entropy_loss/Mul_grad/tuple/group_deps\n",
      "gradients/sparse_softmax_cross_entropy_loss/Mul_grad/tuple/control_dependency\n",
      "gradients/sparse_softmax_cross_entropy_loss/Mul_grad/tuple/control_dependency_1\n",
      "gradients/zeros_like\n",
      "gradients/sparse_softmax_cross_entropy_loss/xentropy/xentropy_grad/PreventGradient\n",
      "gradients/sparse_softmax_cross_entropy_loss/xentropy/xentropy_grad/ExpandDims/dim\n",
      "gradients/sparse_softmax_cross_entropy_loss/xentropy/xentropy_grad/ExpandDims\n",
      "gradients/sparse_softmax_cross_entropy_loss/xentropy/xentropy_grad/mul\n",
      "gradients/score_grad/MatMul\n",
      "gradients/score_grad/MatMul_1\n",
      "gradients/score_grad/tuple/group_deps\n",
      "gradients/score_grad/tuple/control_dependency\n",
      "gradients/score_grad/tuple/control_dependency_1\n",
      "gradients/Tanh_1_grad/TanhGrad\n",
      "gradients/MatMul_1_grad/MatMul\n",
      "gradients/MatMul_1_grad/MatMul_1\n",
      "gradients/MatMul_1_grad/tuple/group_deps\n",
      "gradients/MatMul_1_grad/tuple/control_dependency\n",
      "gradients/MatMul_1_grad/tuple/control_dependency_1\n",
      "gradients/Tanh_grad/TanhGrad\n",
      "gradients/MatMul_grad/MatMul\n",
      "gradients/MatMul_grad/MatMul_1\n",
      "gradients/MatMul_grad/tuple/group_deps\n",
      "gradients/MatMul_grad/tuple/control_dependency\n",
      "gradients/MatMul_grad/tuple/control_dependency_1\n",
      "GradientDescent/learning_rate\n",
      "GradientDescent/update_Variable/ApplyGradientDescent\n",
      "GradientDescent/update_Variable_1/ApplyGradientDescent\n",
      "GradientDescent/update_Variable_2/ApplyGradientDescent\n",
      "GradientDescent\n",
      "softmax_loss/tags\n",
      "softmax_loss\n",
      "save/Const\n",
      "save/SaveV2/tensor_names\n",
      "save/SaveV2/shape_and_slices\n",
      "save/SaveV2\n",
      "save/control_dependency\n",
      "save/RestoreV2/tensor_names\n",
      "save/RestoreV2/shape_and_slices\n",
      "save/RestoreV2\n",
      "save/Assign\n",
      "save/Assign_1\n",
      "save/Assign_2\n",
      "save/restore_all\n",
      "init\n"
     ]
    }
   ],
   "source": [
    "saver = tf.train.import_meta_graph('./weights/mnist.ckpt.meta')\n",
    "graph = tf.get_default_graph()\n",
    "for op in graph.get_operations():\n",
    "    print(op.name)"
   ]
  },
  {
   "cell_type": "code",
   "execution_count": 3,
   "metadata": {},
   "outputs": [
    {
     "name": "stdout",
     "output_type": "stream",
     "text": [
      "Tensor(\"Input:0\", dtype=float32)\n",
      "Tensor(\"Label:0\", dtype=int32)\n",
      "Tensor(\"score:0\", shape=(?, 10), dtype=float32)\n"
     ]
    }
   ],
   "source": [
    "x = graph.get_tensor_by_name(\"Input:0\")\n",
    "y = graph.get_tensor_by_name(\"Label:0\")\n",
    "score = graph.get_tensor_by_name(\"score:0\")\n",
    "\n",
    "print(x)\n",
    "print(y)\n",
    "print(score)"
   ]
  },
  {
   "cell_type": "code",
   "execution_count": 4,
   "metadata": {},
   "outputs": [
    {
     "name": "stdout",
     "output_type": "stream",
     "text": [
      "INFO:tensorflow:Restoring parameters from ./weights/mnist.ckpt\n",
      "acc : 82.30%\n"
     ]
    }
   ],
   "source": [
    "sess = tf.Session()\n",
    "sess.run(tf.global_variables_initializer())\n",
    "saver.restore(sess, './weights/mnist.ckpt')\n",
    "\n",
    "yhat = np.argmax(sess.run(score, feed_dict={x:x_test}), axis = 1)\n",
    "print(\"acc : {:.2%}\".format(np.mean(yhat == y_test)))"
   ]
  },
  {
   "cell_type": "markdown",
   "metadata": {},
   "source": [
    "# 원래 이거 보여줄라고 한거 아니였는데.....\n",
    "\n",
    "![225b973a53b2c87e1e](https://user-images.githubusercontent.com/13328380/52034402-bd598600-256b-11e9-9ae9-6a30d6e0c2dc.png)"
   ]
  },
  {
   "cell_type": "markdown",
   "metadata": {},
   "source": [
    "# <span style=\"color:red\">!!Kernel Restart!! </span>"
   ]
  },
  {
   "cell_type": "markdown",
   "metadata": {},
   "source": [
    "## Original Freeze_graph function"
   ]
  },
  {
   "cell_type": "code",
   "execution_count": 1,
   "metadata": {},
   "outputs": [
    {
     "name": "stdout",
     "output_type": "stream",
     "text": [
      "1.11.0\n"
     ]
    }
   ],
   "source": [
    "from __future__ import print_function\n",
    "import os, argparse\n",
    "from tqdm import tqdm_notebook\n",
    "import numpy as np\n",
    "import tensorflow as tf\n",
    "from tensorflow.core.protobuf import saver_pb2\n",
    "import matplotlib.pyplot as plt\n",
    "%matplotlib inline\n",
    "print(tf.__version__)\n",
    "\n",
    "tf.set_random_seed(2)"
   ]
  },
  {
   "cell_type": "code",
   "execution_count": 2,
   "metadata": {},
   "outputs": [],
   "source": [
    "(x_train, y_train), (x_test , y_test) = tf.keras.datasets.mnist.load_data()\n",
    "x_train = (x_train/255).astype(np.float32).reshape(-1, 784)\n",
    "x_test = (x_test/255).astype(np.float32).reshape(-1, 784)\n",
    "\n",
    "val_range = int(len(x_test) * 0.8)\n",
    "\n",
    "x_val = x_test[:val_range, :]\n",
    "y_val = y_test[:val_range]\n",
    "\n",
    "x_test = x_test[val_range:, :]\n",
    "y_test = y_test[val_range:]"
   ]
  },
  {
   "cell_type": "code",
   "execution_count": 3,
   "metadata": {},
   "outputs": [],
   "source": [
    "# The original freeze_graph function\n",
    "# from tensorflow.python.tools.freeze_graph import freeze_graph \n",
    "def freeze_graph(model_dir, output_node_names):\n",
    "    \"\"\"Extract the sub graph defined by the output nodes and convert \n",
    "    all its variables into constant \n",
    "    Args:\n",
    "        model_dir: the root folder containing the checkpoint state file\n",
    "        output_node_names: a string, containing all the output node's names, \n",
    "                            comma separated\n",
    "    \"\"\"\n",
    "    if not tf.gfile.Exists(model_dir):\n",
    "        raise AssertionError(\n",
    "            \"Export directory doesn't exists. Please specify an export \"\n",
    "            \"directory: %s\" % model_dir)\n",
    "\n",
    "    if not output_node_names:\n",
    "        print(\"You need to supply the name of a node to --output_node_names.\")\n",
    "        return -1\n",
    "\n",
    "    # We retrieve our checkpoint fullpath\n",
    "    checkpoint = tf.train.get_checkpoint_state(model_dir)\n",
    "    print(\"checkpoint : {}\".format(checkpoint))\n",
    "    input_checkpoint = checkpoint.model_checkpoint_path\n",
    "    print(\"input_checkpoint : {}\".format(input_checkpoint))\n",
    "    \n",
    "    # We precise the file fullname of our freezed graph\n",
    "    absolute_model_dir = \"/\".join(input_checkpoint.split('/')[:-1])\n",
    "    output_graph = absolute_model_dir + \"/frozen_model.pb\"\n",
    "    print(\"absolute_model_dir : {}\".format(absolute_model_dir))\n",
    "\n",
    "    # We clear devices to allow TensorFlow to control on which device it will load operations\n",
    "    clear_devices = True\n",
    "\n",
    "    # We start a session using a temporary fresh Graph\n",
    "    with tf.Session(graph=tf.Graph()) as sess:\n",
    "        # We import the meta graph in the current default Graph\n",
    "        saver = tf.train.import_meta_graph(input_checkpoint + '.meta', clear_devices=clear_devices)\n",
    "\n",
    "        # We restore the weights\n",
    "        saver.restore(sess, input_checkpoint)\n",
    "\n",
    "        # We use a built-in TF helper to export variables to constants\n",
    "        output_graph_def = tf.graph_util.convert_variables_to_constants(\n",
    "            sess, # The session is used to retrieve the weights\n",
    "            tf.get_default_graph().as_graph_def(), # The graph_def is used to retrieve the nodes \n",
    "            output_node_names.split(\",\") # The output node names are used to select the usefull nodes\n",
    "        ) \n",
    "\n",
    "        # Finally we serialize and dump the output graph to the filesystem\n",
    "        with tf.gfile.GFile(output_graph, \"wb\") as f:\n",
    "            f.write(output_graph_def.SerializeToString())\n",
    "        print(\"%d ops in the final graph.\" % len(output_graph_def.node))\n",
    "\n",
    "    return output_graph_def"
   ]
  },
  {
   "cell_type": "code",
   "execution_count": 4,
   "metadata": {},
   "outputs": [
    {
     "data": {
      "application/vnd.jupyter.widget-view+json": {
       "model_id": "99a87740f1144c41b7cb7056cb043da0",
       "version_major": 2,
       "version_minor": 0
      },
      "text/html": [
       "<p>Failed to display Jupyter Widget of type <code>HBox</code>.</p>\n",
       "<p>\n",
       "  If you're reading this message in the Jupyter Notebook or JupyterLab Notebook, it may mean\n",
       "  that the widgets JavaScript is still loading. If this message persists, it\n",
       "  likely means that the widgets JavaScript library is either not installed or\n",
       "  not enabled. See the <a href=\"https://ipywidgets.readthedocs.io/en/stable/user_install.html\">Jupyter\n",
       "  Widgets Documentation</a> for setup instructions.\n",
       "</p>\n",
       "<p>\n",
       "  If you're reading this message in another frontend (for example, a static\n",
       "  rendering on GitHub or <a href=\"https://nbviewer.jupyter.org/\">NBViewer</a>),\n",
       "  it may mean that your frontend doesn't currently support widgets.\n",
       "</p>\n"
      ],
      "text/plain": [
       "HBox(children=(IntProgress(value=0), HTML(value='')))"
      ]
     },
     "metadata": {},
     "output_type": "display_data"
    },
    {
     "name": "stdout",
     "output_type": "stream",
     "text": [
      "\n",
      "checkpoint : model_checkpoint_path: \"./weights/mnist.ckpt\"\n",
      "all_model_checkpoint_paths: \"./weights/mnist.ckpt\"\n",
      "\n",
      "input_checkpoint : ./weights/mnist.ckpt\n",
      "absolute_model_dir : ./weights\n",
      "INFO:tensorflow:Restoring parameters from ./weights/mnist.ckpt\n",
      "INFO:tensorflow:Froze 3 variables.\n",
      "INFO:tensorflow:Converted 3 variables to const ops.\n",
      "13 ops in the final graph.\n",
      "train finished\n"
     ]
    }
   ],
   "source": [
    "# Declare Input Node\n",
    "x = tf.placeholder(dtype=tf.float32, name=\"Input\")\n",
    "y = tf.placeholder(dtype=tf.int32, name=\"Label\")\n",
    "\n",
    "# Declare parameter\n",
    "layer1_weights = tf.Variable(initial_value=tf.truncated_normal([784, 500]) , dtype=tf.float32, name=\"weights1\")\n",
    "layer2_weights = tf.Variable(initial_value=tf.truncated_normal([500, 200]) , dtype=tf.float32, name=\"weights2\")\n",
    "layer3_weights = tf.Variable(initial_value=tf.truncated_normal([200, 10]) , dtype=tf.float32, name=\"weights3\")\n",
    "\n",
    "# build graph\n",
    "feature1 = tf.matmul(x, layer1_weights, name=\"feature1\")\n",
    "activation1 = tf.tanh(feature1, name=\"activation1\")\n",
    "feature2 = tf.matmul(activation1, layer2_weights, name=\"feature2\")\n",
    "activation2 = tf.tanh(feature2, name=\"activation2\")\n",
    "score = tf.matmul(activation2, layer3_weights, name='score')\n",
    "\n",
    "prediction = tf.argmax(input = score, axis=1, name='prediction')\n",
    "\n",
    "loss = tf.losses.sparse_softmax_cross_entropy(labels=y, logits=score)\n",
    "\n",
    "tf.add_to_collection('input', x)\n",
    "tf.add_to_collection('label', y)\n",
    "tf.add_to_collection('score', score)\n",
    "\n",
    "opt = tf.train.GradientDescentOptimizer(learning_rate=0.01)\n",
    "optimizer = opt.minimize(loss)\n",
    "\n",
    "# TensorBoard\n",
    "softmaxLoss = tf.summary.scalar(name='softmax_loss', tensor=loss)\n",
    "train_writer = tf.summary.FileWriter('./graphs/low-level/train_mnist_dnn', graph=tf.get_default_graph())\n",
    "val_writer = tf.summary.FileWriter('./graphs/low-level/val_mnist_dnn', graph=tf.get_default_graph())\n",
    "\n",
    "saver = tf.train.Saver(write_version = saver_pb2.SaverDef.V2)\n",
    "\n",
    "# Hyper Parameter\n",
    "epoch = 100\n",
    "total_bar_length = tqdm_notebook(range(epoch))\n",
    "batch_size=1024\n",
    "total_step = int(x_train.shape[0] / batch_size)\n",
    "\n",
    "sess = tf.Session()\n",
    "sess.run(tf.global_variables_initializer())\n",
    "\n",
    "train_loss_hist = []\n",
    "val_loss_hist = []\n",
    "\n",
    "for i in total_bar_length:\n",
    "    avg_train_loss = 0   \n",
    "    avg_val_loss = 0 \n",
    "    \n",
    "    val_loss = 0\n",
    "    \n",
    "    train_loss_sum = 0    \n",
    "    val_loss_sum = 0\n",
    "    \n",
    "    for step in range(total_step):\n",
    "            batch_indices = np.random.choice(range(x_train.shape[0]), size=batch_size, replace=False)\n",
    "\n",
    "            batch_xs = x_train[batch_indices]\n",
    "            batch_ys = y_train[batch_indices]\n",
    "            \n",
    "            val_indices = np.random.choice(range(x_val.shape[0]), size=batch_size, replace=False)\n",
    "            \n",
    "            val_xs = x_val[val_indices]\n",
    "            val_ys = y_val[val_indices]\n",
    "\n",
    "            _, train_loss = sess.run([optimizer, loss], feed_dict={x:batch_xs, y:batch_ys})\n",
    "            \n",
    "            val_loss = sess.run(fetches = loss, feed_dict={x:val_xs, y:val_ys})\n",
    "            \n",
    "            avg_train_loss += train_loss / total_step\n",
    "            avg_val_loss += val_loss / total_step\n",
    "        \n",
    "    train_loss_hist.append(avg_train_loss)\n",
    "    val_loss_hist.append(val_loss)\n",
    "    \n",
    "    train_loss_sum = sess.run(softmaxLoss, feed_dict={x:batch_xs, y:batch_ys})\n",
    "    val_loss_sum = sess.run(fetches = softmaxLoss, feed_dict={x:val_xs, y:val_ys})\n",
    "\n",
    "    train_writer.add_summary(train_loss_sum, global_step = i)\n",
    "    val_writer.add_summary(val_loss_sum, global_step = i)\n",
    "        \n",
    "train_writer.close()\n",
    "val_writer.close()\n",
    "\n",
    "global_step = tf.train.get_global_step()\n",
    "saver.save(sess, './weights/mnist.ckpt', global_step=global_step)\n",
    "\n",
    "freeze_graph(model_dir=\"./weights/\", output_node_names=\"Input,Label,feature1,activation1,feature2,activation2,score\")\n",
    "\n",
    "print(\"train finished\")"
   ]
  },
  {
   "cell_type": "code",
   "execution_count": 5,
   "metadata": {},
   "outputs": [
    {
     "data": {
      "image/png": "[encoded data removed]",
      "text/plain": [
       "<Figure size 432x288 with 1 Axes>"
      ]
     },
     "metadata": {},
     "output_type": "display_data"
    }
   ],
   "source": [
    "plt.plot(train_loss_hist, label=\"train\")\n",
    "plt.plot(val_loss_hist, label=\"validation\")\n",
    "plt.legend()\n",
    "plt.show()"
   ]
  },
  {
   "cell_type": "code",
   "execution_count": 6,
   "metadata": {},
   "outputs": [
    {
     "name": "stdout",
     "output_type": "stream",
     "text": [
      "acc : 82.25%\n"
     ]
    }
   ],
   "source": [
    "yhat = np.argmax(sess.run(score, feed_dict={x:x_test}), axis = 1)\n",
    "print(\"acc : {:.2%}\".format(np.mean(yhat == y_test)))"
   ]
  },
  {
   "cell_type": "code",
   "execution_count": 7,
   "metadata": {},
   "outputs": [
    {
     "name": "stdout",
     "output_type": "stream",
     "text": [
      "checkpoint\t mnist.ckpt.data-00000-of-00001  mnist.ckpt.meta\r\n",
      "frozen_model.pb  mnist.ckpt.index\r\n"
     ]
    }
   ],
   "source": [
    "!ls weights"
   ]
  },
  {
   "cell_type": "markdown",
   "metadata": {},
   "source": [
    "# <span style=\"color:red\">!!Kernel Restart!! </span>"
   ]
  },
  {
   "cell_type": "markdown",
   "metadata": {},
   "source": [
    "# How to use the frozen model  \n",
    "    \n",
    "Model을 Freeze했다면, 이제 어떻게 사용할 수 있는가만 고민하면 된다.  \n",
    "      \n",
    "     \n",
    "어떻게 사용하느냐에 대한 이야기는 어떤방식으로 model이 load되는지를 생각하면된다.\n",
    "- graph_def ProtoBuf를 먼저 Import한다.\n",
    "- graph_def을 이용하여 실제 Graph를 load한다."
   ]
  },
  {
   "cell_type": "code",
   "execution_count": 1,
   "metadata": {},
   "outputs": [
    {
     "name": "stdout",
     "output_type": "stream",
     "text": [
      "1.11.0\n"
     ]
    }
   ],
   "source": [
    "from __future__ import print_function\n",
    "import os, argparse\n",
    "from tqdm import tqdm_notebook\n",
    "import numpy as np\n",
    "import tensorflow as tf\n",
    "from tensorflow.core.protobuf import saver_pb2\n",
    "import matplotlib.pyplot as plt\n",
    "%matplotlib inline\n",
    "print(tf.__version__)\n",
    "\n",
    "tf.set_random_seed(2)"
   ]
  },
  {
   "cell_type": "code",
   "execution_count": 2,
   "metadata": {},
   "outputs": [],
   "source": [
    "(x_train, y_train), (x_test , y_test) = tf.keras.datasets.mnist.load_data()\n",
    "x_train = (x_train/255).astype(np.float32).reshape(-1, 784)\n",
    "x_test = (x_test/255).astype(np.float32).reshape(-1, 784)\n",
    "\n",
    "val_range = int(len(x_test) * 0.8)\n",
    "\n",
    "x_val = x_test[:val_range, :]\n",
    "y_val = y_test[:val_range]\n",
    "\n",
    "x_test = x_test[val_range:, :]\n",
    "y_test = y_test[val_range:]"
   ]
  },
  {
   "cell_type": "code",
   "execution_count": 3,
   "metadata": {},
   "outputs": [],
   "source": [
    "def load_graph(frozen_graph_filename):\n",
    "    # We load the protobuf file from the disk and parse it to retrieve the \n",
    "    # unserialized graph_def\n",
    "    with tf.gfile.GFile(frozen_graph_filename, \"rb\") as f:\n",
    "        graph_def = tf.GraphDef()\n",
    "        graph_def.ParseFromString(f.read())\n",
    "\n",
    "    # Then, we import the graph_def into a new Graph and returns it \n",
    "    with tf.Graph().as_default() as graph:\n",
    "        # The name var will prefix every op/nodes in your graph\n",
    "        # Since we load everything in a new graph, this is not needed\n",
    "        tf.import_graph_def(graph_def, name=\"prefix\")\n",
    "    return graph"
   ]
  },
  {
   "cell_type": "code",
   "execution_count": 4,
   "metadata": {},
   "outputs": [
    {
     "name": "stdout",
     "output_type": "stream",
     "text": [
      "prefix/Input\n",
      "prefix/Label\n",
      "prefix/weights1\n",
      "prefix/weights1/read\n",
      "prefix/weights2\n",
      "prefix/weights2/read\n",
      "prefix/weights3\n",
      "prefix/weights3/read\n",
      "prefix/feature1\n",
      "prefix/activation1\n",
      "prefix/feature2\n",
      "prefix/activation2\n",
      "prefix/score\n"
     ]
    }
   ],
   "source": [
    "graph = load_graph(\"./weights/frozen_model.pb\")\n",
    "\n",
    "for op in graph.get_operations():\n",
    "    print(op.name)"
   ]
  },
  {
   "cell_type": "code",
   "execution_count": 5,
   "metadata": {},
   "outputs": [
    {
     "name": "stdout",
     "output_type": "stream",
     "text": [
      "acc : 82.25%\n"
     ]
    }
   ],
   "source": [
    "x = graph.get_tensor_by_name(\"prefix/Input:0\")\n",
    "y = graph.get_tensor_by_name(\"prefix/Label:0\")\n",
    "score = graph.get_tensor_by_name(\"prefix/score:0\")\n",
    "\n",
    "with tf.Session(graph=graph) as sess:\n",
    "    yhat = np.argmax(sess.run(score, feed_dict={x:x_test}), axis = 1)\n",
    "    print(\"acc : {:.2%}\".format(np.mean(yhat == y_test)))"
   ]
  },
  {
   "cell_type": "markdown",
   "metadata": {},
   "source": [
    "## Reference  \n",
    "    \n",
    "\n",
    "[[1]. TensorFlow: saving/restoring and mixing multiple models](https://blog.metaflow.fr/tensorflow-saving-restoring-and-mixing-multiple-models-c4c94d5d7125)  \n",
    "[[2]. TensorFlow: How to freeze a model and serve it with a python API](https://blog.metaflow.fr/tensorflow-how-to-freeze-a-model-and-serve-it-with-a-python-api-d4f3596b3adc)"
   ]
  }
 ],
 "metadata": {
  "kernelspec": {
   "display_name": "Python 3",
   "language": "python",
   "name": "python3"
  },
  "language_info": {
   "codemirror_mode": {
    "name": "ipython",
    "version": 3
   },
   "file_extension": ".py",
   "mimetype": "text/x-python",
   "name": "python",
   "nbconvert_exporter": "python",
   "pygments_lexer": "ipython3",
   "version": "3.6.3"
  }
 },
 "nbformat": 4,
 "nbformat_minor": 2
}
