{
 "cells": [
  {
   "cell_type": "code",
   "execution_count": 2,
   "metadata": {},
   "outputs": [
    {
     "ename": "ImportError",
     "evalue": "Traceback (most recent call last):\n  File \"/home/martin/.local/lib/python3.6/site-packages/tensorflow/python/pywrap_tensorflow.py\", line 58, in <module>\n    from tensorflow.python.pywrap_tensorflow_internal import *\n  File \"/home/martin/.local/lib/python3.6/site-packages/tensorflow/python/pywrap_tensorflow_internal.py\", line 28, in <module>\n    _pywrap_tensorflow_internal = swig_import_helper()\n  File \"/home/martin/.local/lib/python3.6/site-packages/tensorflow/python/pywrap_tensorflow_internal.py\", line 24, in swig_import_helper\n    _mod = imp.load_module('_pywrap_tensorflow_internal', fp, pathname, description)\n  File \"/usr/lib/python3.6/imp.py\", line 243, in load_module\n    return load_dynamic(name, filename, file)\n  File \"/usr/lib/python3.6/imp.py\", line 343, in load_dynamic\n    return _load(spec)\nImportError: libcublas.so.9.0: cannot open shared object file: No such file or directory\n\n\nFailed to load the native TensorFlow runtime.\n\nSee https://www.tensorflow.org/install/errors\n\nfor some common reasons and solutions.  Include the entire stack trace\nabove this error message when asking for help.",
     "output_type": "error",
     "traceback": [
      "\u001b[0;31m---------------------------------------------------------------------------\u001b[0m",
      "\u001b[0;31mImportError\u001b[0m                               Traceback (most recent call last)",
      "\u001b[0;32m~/.local/lib/python3.6/site-packages/tensorflow/python/pywrap_tensorflow.py\u001b[0m in \u001b[0;36m<module>\u001b[0;34m\u001b[0m\n\u001b[1;32m     57\u001b[0m \u001b[0;34m\u001b[0m\u001b[0m\n\u001b[0;32m---> 58\u001b[0;31m   \u001b[0;32mfrom\u001b[0m \u001b[0mtensorflow\u001b[0m\u001b[0;34m.\u001b[0m\u001b[0mpython\u001b[0m\u001b[0;34m.\u001b[0m\u001b[0mpywrap_tensorflow_internal\u001b[0m \u001b[0;32mimport\u001b[0m \u001b[0;34m*\u001b[0m\u001b[0;34m\u001b[0m\u001b[0;34m\u001b[0m\u001b[0m\n\u001b[0m\u001b[1;32m     59\u001b[0m   \u001b[0;32mfrom\u001b[0m \u001b[0mtensorflow\u001b[0m\u001b[0;34m.\u001b[0m\u001b[0mpython\u001b[0m\u001b[0;34m.\u001b[0m\u001b[0mpywrap_tensorflow_internal\u001b[0m \u001b[0;32mimport\u001b[0m \u001b[0m__version__\u001b[0m\u001b[0;34m\u001b[0m\u001b[0;34m\u001b[0m\u001b[0m\n",
      "\u001b[0;32m~/.local/lib/python3.6/site-packages/tensorflow/python/pywrap_tensorflow_internal.py\u001b[0m in \u001b[0;36m<module>\u001b[0;34m\u001b[0m\n\u001b[1;32m     27\u001b[0m             \u001b[0;32mreturn\u001b[0m \u001b[0m_mod\u001b[0m\u001b[0;34m\u001b[0m\u001b[0;34m\u001b[0m\u001b[0m\n\u001b[0;32m---> 28\u001b[0;31m     \u001b[0m_pywrap_tensorflow_internal\u001b[0m \u001b[0;34m=\u001b[0m \u001b[0mswig_import_helper\u001b[0m\u001b[0;34m(\u001b[0m\u001b[0;34m)\u001b[0m\u001b[0;34m\u001b[0m\u001b[0;34m\u001b[0m\u001b[0m\n\u001b[0m\u001b[1;32m     29\u001b[0m     \u001b[0;32mdel\u001b[0m \u001b[0mswig_import_helper\u001b[0m\u001b[0;34m\u001b[0m\u001b[0;34m\u001b[0m\u001b[0m\n",
      "\u001b[0;32m~/.local/lib/python3.6/site-packages/tensorflow/python/pywrap_tensorflow_internal.py\u001b[0m in \u001b[0;36mswig_import_helper\u001b[0;34m()\u001b[0m\n\u001b[1;32m     23\u001b[0m             \u001b[0;32mtry\u001b[0m\u001b[0;34m:\u001b[0m\u001b[0;34m\u001b[0m\u001b[0;34m\u001b[0m\u001b[0m\n\u001b[0;32m---> 24\u001b[0;31m                 \u001b[0m_mod\u001b[0m \u001b[0;34m=\u001b[0m \u001b[0mimp\u001b[0m\u001b[0;34m.\u001b[0m\u001b[0mload_module\u001b[0m\u001b[0;34m(\u001b[0m\u001b[0;34m'_pywrap_tensorflow_internal'\u001b[0m\u001b[0;34m,\u001b[0m \u001b[0mfp\u001b[0m\u001b[0;34m,\u001b[0m \u001b[0mpathname\u001b[0m\u001b[0;34m,\u001b[0m \u001b[0mdescription\u001b[0m\u001b[0;34m)\u001b[0m\u001b[0;34m\u001b[0m\u001b[0;34m\u001b[0m\u001b[0m\n\u001b[0m\u001b[1;32m     25\u001b[0m             \u001b[0;32mfinally\u001b[0m\u001b[0;34m:\u001b[0m\u001b[0;34m\u001b[0m\u001b[0;34m\u001b[0m\u001b[0m\n",
      "\u001b[0;32m/usr/lib/python3.6/imp.py\u001b[0m in \u001b[0;36mload_module\u001b[0;34m(name, file, filename, details)\u001b[0m\n\u001b[1;32m    242\u001b[0m         \u001b[0;32melse\u001b[0m\u001b[0;34m:\u001b[0m\u001b[0;34m\u001b[0m\u001b[0;34m\u001b[0m\u001b[0m\n\u001b[0;32m--> 243\u001b[0;31m             \u001b[0;32mreturn\u001b[0m \u001b[0mload_dynamic\u001b[0m\u001b[0;34m(\u001b[0m\u001b[0mname\u001b[0m\u001b[0;34m,\u001b[0m \u001b[0mfilename\u001b[0m\u001b[0;34m,\u001b[0m \u001b[0mfile\u001b[0m\u001b[0;34m)\u001b[0m\u001b[0;34m\u001b[0m\u001b[0;34m\u001b[0m\u001b[0m\n\u001b[0m\u001b[1;32m    244\u001b[0m     \u001b[0;32melif\u001b[0m \u001b[0mtype_\u001b[0m \u001b[0;34m==\u001b[0m \u001b[0mPKG_DIRECTORY\u001b[0m\u001b[0;34m:\u001b[0m\u001b[0;34m\u001b[0m\u001b[0;34m\u001b[0m\u001b[0m\n",
      "\u001b[0;32m/usr/lib/python3.6/imp.py\u001b[0m in \u001b[0;36mload_dynamic\u001b[0;34m(name, path, file)\u001b[0m\n\u001b[1;32m    342\u001b[0m             name=name, loader=loader, origin=path)\n\u001b[0;32m--> 343\u001b[0;31m         \u001b[0;32mreturn\u001b[0m \u001b[0m_load\u001b[0m\u001b[0;34m(\u001b[0m\u001b[0mspec\u001b[0m\u001b[0;34m)\u001b[0m\u001b[0;34m\u001b[0m\u001b[0;34m\u001b[0m\u001b[0m\n\u001b[0m\u001b[1;32m    344\u001b[0m \u001b[0;34m\u001b[0m\u001b[0m\n",
      "\u001b[0;31mImportError\u001b[0m: libcublas.so.9.0: cannot open shared object file: No such file or directory",
      "\nDuring handling of the above exception, another exception occurred:\n",
      "\u001b[0;31mImportError\u001b[0m                               Traceback (most recent call last)",
      "\u001b[0;32m<ipython-input-2-f6b0f61341ae>\u001b[0m in \u001b[0;36m<module>\u001b[0;34m\u001b[0m\n\u001b[1;32m      1\u001b[0m \u001b[0;32mfrom\u001b[0m \u001b[0m__future__\u001b[0m \u001b[0;32mimport\u001b[0m \u001b[0mprint_function\u001b[0m\u001b[0;34m\u001b[0m\u001b[0;34m\u001b[0m\u001b[0m\n\u001b[1;32m      2\u001b[0m \u001b[0;32mimport\u001b[0m \u001b[0mnumpy\u001b[0m \u001b[0;32mas\u001b[0m \u001b[0mnp\u001b[0m\u001b[0;34m\u001b[0m\u001b[0;34m\u001b[0m\u001b[0m\n\u001b[0;32m----> 3\u001b[0;31m \u001b[0;32mimport\u001b[0m \u001b[0mtensorflow\u001b[0m \u001b[0;32mas\u001b[0m \u001b[0mtf\u001b[0m\u001b[0;34m\u001b[0m\u001b[0;34m\u001b[0m\u001b[0m\n\u001b[0m\u001b[1;32m      4\u001b[0m \u001b[0;32mimport\u001b[0m \u001b[0mmatplotlib\u001b[0m\u001b[0;34m.\u001b[0m\u001b[0mpyplot\u001b[0m \u001b[0;32mas\u001b[0m \u001b[0mplt\u001b[0m\u001b[0;34m\u001b[0m\u001b[0;34m\u001b[0m\u001b[0m\n\u001b[1;32m      5\u001b[0m \u001b[0mget_ipython\u001b[0m\u001b[0;34m(\u001b[0m\u001b[0;34m)\u001b[0m\u001b[0;34m.\u001b[0m\u001b[0mrun_line_magic\u001b[0m\u001b[0;34m(\u001b[0m\u001b[0;34m'matplotlib'\u001b[0m\u001b[0;34m,\u001b[0m \u001b[0;34m'inline'\u001b[0m\u001b[0;34m)\u001b[0m\u001b[0;34m\u001b[0m\u001b[0;34m\u001b[0m\u001b[0m\n",
      "\u001b[0;32m~/.local/lib/python3.6/site-packages/tensorflow/__init__.py\u001b[0m in \u001b[0;36m<module>\u001b[0;34m\u001b[0m\n\u001b[1;32m     22\u001b[0m \u001b[0;34m\u001b[0m\u001b[0m\n\u001b[1;32m     23\u001b[0m \u001b[0;31m# pylint: disable=g-bad-import-order\u001b[0m\u001b[0;34m\u001b[0m\u001b[0;34m\u001b[0m\u001b[0;34m\u001b[0m\u001b[0m\n\u001b[0;32m---> 24\u001b[0;31m \u001b[0;32mfrom\u001b[0m \u001b[0mtensorflow\u001b[0m\u001b[0;34m.\u001b[0m\u001b[0mpython\u001b[0m \u001b[0;32mimport\u001b[0m \u001b[0mpywrap_tensorflow\u001b[0m  \u001b[0;31m# pylint: disable=unused-import\u001b[0m\u001b[0;34m\u001b[0m\u001b[0;34m\u001b[0m\u001b[0m\n\u001b[0m\u001b[1;32m     25\u001b[0m \u001b[0;34m\u001b[0m\u001b[0m\n\u001b[1;32m     26\u001b[0m \u001b[0;32mtry\u001b[0m\u001b[0;34m:\u001b[0m\u001b[0;34m\u001b[0m\u001b[0;34m\u001b[0m\u001b[0m\n",
      "\u001b[0;32m~/.local/lib/python3.6/site-packages/tensorflow/python/__init__.py\u001b[0m in \u001b[0;36m<module>\u001b[0;34m\u001b[0m\n\u001b[1;32m     47\u001b[0m \u001b[0;32mimport\u001b[0m \u001b[0mnumpy\u001b[0m \u001b[0;32mas\u001b[0m \u001b[0mnp\u001b[0m\u001b[0;34m\u001b[0m\u001b[0;34m\u001b[0m\u001b[0m\n\u001b[1;32m     48\u001b[0m \u001b[0;34m\u001b[0m\u001b[0m\n\u001b[0;32m---> 49\u001b[0;31m \u001b[0;32mfrom\u001b[0m \u001b[0mtensorflow\u001b[0m\u001b[0;34m.\u001b[0m\u001b[0mpython\u001b[0m \u001b[0;32mimport\u001b[0m \u001b[0mpywrap_tensorflow\u001b[0m\u001b[0;34m\u001b[0m\u001b[0;34m\u001b[0m\u001b[0m\n\u001b[0m\u001b[1;32m     50\u001b[0m \u001b[0;34m\u001b[0m\u001b[0m\n\u001b[1;32m     51\u001b[0m \u001b[0;32mfrom\u001b[0m \u001b[0mtensorflow\u001b[0m\u001b[0;34m.\u001b[0m\u001b[0mpython\u001b[0m\u001b[0;34m.\u001b[0m\u001b[0mtools\u001b[0m \u001b[0;32mimport\u001b[0m \u001b[0mcomponent_api_helper\u001b[0m\u001b[0;34m\u001b[0m\u001b[0;34m\u001b[0m\u001b[0m\n",
      "\u001b[0;32m~/.local/lib/python3.6/site-packages/tensorflow/python/pywrap_tensorflow.py\u001b[0m in \u001b[0;36m<module>\u001b[0;34m\u001b[0m\n\u001b[1;32m     72\u001b[0m \u001b[0;32mfor\u001b[0m \u001b[0msome\u001b[0m \u001b[0mcommon\u001b[0m \u001b[0mreasons\u001b[0m \u001b[0;32mand\u001b[0m \u001b[0msolutions\u001b[0m\u001b[0;34m.\u001b[0m  \u001b[0mInclude\u001b[0m \u001b[0mthe\u001b[0m \u001b[0mentire\u001b[0m \u001b[0mstack\u001b[0m \u001b[0mtrace\u001b[0m\u001b[0;34m\u001b[0m\u001b[0;34m\u001b[0m\u001b[0m\n\u001b[1;32m     73\u001b[0m above this error message when asking for help.\"\"\" % traceback.format_exc()\n\u001b[0;32m---> 74\u001b[0;31m   \u001b[0;32mraise\u001b[0m \u001b[0mImportError\u001b[0m\u001b[0;34m(\u001b[0m\u001b[0mmsg\u001b[0m\u001b[0;34m)\u001b[0m\u001b[0;34m\u001b[0m\u001b[0;34m\u001b[0m\u001b[0m\n\u001b[0m\u001b[1;32m     75\u001b[0m \u001b[0;34m\u001b[0m\u001b[0m\n\u001b[1;32m     76\u001b[0m \u001b[0;31m# pylint: enable=wildcard-import,g-import-not-at-top,unused-import,line-too-long\u001b[0m\u001b[0;34m\u001b[0m\u001b[0;34m\u001b[0m\u001b[0;34m\u001b[0m\u001b[0m\n",
      "\u001b[0;31mImportError\u001b[0m: Traceback (most recent call last):\n  File \"/home/martin/.local/lib/python3.6/site-packages/tensorflow/python/pywrap_tensorflow.py\", line 58, in <module>\n    from tensorflow.python.pywrap_tensorflow_internal import *\n  File \"/home/martin/.local/lib/python3.6/site-packages/tensorflow/python/pywrap_tensorflow_internal.py\", line 28, in <module>\n    _pywrap_tensorflow_internal = swig_import_helper()\n  File \"/home/martin/.local/lib/python3.6/site-packages/tensorflow/python/pywrap_tensorflow_internal.py\", line 24, in swig_import_helper\n    _mod = imp.load_module('_pywrap_tensorflow_internal', fp, pathname, description)\n  File \"/usr/lib/python3.6/imp.py\", line 243, in load_module\n    return load_dynamic(name, filename, file)\n  File \"/usr/lib/python3.6/imp.py\", line 343, in load_dynamic\n    return _load(spec)\nImportError: libcublas.so.9.0: cannot open shared object file: No such file or directory\n\n\nFailed to load the native TensorFlow runtime.\n\nSee https://www.tensorflow.org/install/errors\n\nfor some common reasons and solutions.  Include the entire stack trace\nabove this error message when asking for help."
     ]
    }
   ],
   "source": [
    "from __future__ import print_function\n",
    "import numpy as np\n",
    "import tensorflow as tf\n",
    "import matplotlib.pyplot as plt\n",
    "%matplotlib inline\n",
    "print(tf.__version__)"
   ]
  },
  {
   "cell_type": "markdown",
   "metadata": {},
   "source": [
    "# Fully Connected Network\n",
    "![fcn](https://user-images.githubusercontent.com/13328380/51116124-8ede6a00-184d-11e9-8ff4-64cda75825ce.png)"
   ]
  },
  {
   "cell_type": "markdown",
   "metadata": {},
   "source": [
    "## Input Node\n",
    "\n",
    "### Placeholders\n",
    "\n",
    "We, or our clients, cna later supply their own data when they need to execute the computation\n",
    "\n",
    "\n",
    "```python\n",
    "tf.placeholder(dypte, shape=None, name=None)\n",
    "```"
   ]
  },
  {
   "cell_type": "markdown",
   "metadata": {},
   "source": [
    "## Weights\n",
    "### Variables\n",
    "\n",
    "#### tf.Variable\n",
    "\n",
    "```python\n",
    "# <it's worse>\n",
    "# create variable with tf.Variable\n",
    "s = tf.Variable(2, name=\"scalar\")\n",
    "m = tf.Variable([[0, 1], [2, 3]], name=\"matrix\")\n",
    "W = tf.Variable(tf.zeros([784, 10]))\n",
    "```\n",
    "#### tf.get_variable\n",
    "\n",
    "```python\n",
    "# <it's better>\n",
    "# create variable with tf.get_variable\n",
    "s = tf.get_variable(\"scalar\", initializer=tf.constant(2))\n",
    "m = tf.get_variable(\"matrix\", initializer=tf.constant([[0, 1], [2, 3]]))\n",
    "W = tf.get_variable(\"big_matrix\", shape=(784, 10), initializer=tf.zeros_initializer())\n",
    "```"
   ]
  },
  {
   "cell_type": "markdown",
   "metadata": {},
   "source": [
    "### tf.Variables\n",
    "\n",
    "```python\n",
    "__init__(\n",
    "    initial_value=None,\n",
    "    trainable=True,\n",
    "    collections=None,\n",
    "    validate_shape=True,\n",
    "    caching_device=None,\n",
    "    name=None,\n",
    "    variable_def=None,\n",
    "    dtype=None,\n",
    "    expected_shape=None,\n",
    "    import_scope=None,\n",
    "    constraint=None,\n",
    "    use_resource=None,\n",
    "    synchronization=tf.VariableSynchronization.AUTO,\n",
    "    aggregation=tf.VariableAggregation.NONE\n",
    ")\n",
    "\n",
    "```"
   ]
  },
  {
   "cell_type": "markdown",
   "metadata": {},
   "source": [
    "### Initialize\n",
    "\n",
    "**tf.Variable** should get initial_value to making  weights matrix\n",
    "\n",
    "#### Initialize method for Neural Network\n",
    "- **LeCun Normal Initialization**\n",
    "- LeCun Uniform Initialization\n",
    "- Xavier Initialization (Glorot Initialization)\n",
    "- He Initialization\n",
    "\n",
    "#### Candidate of initial_value in tf.Variable\n",
    "```python\n",
    "tf.zeros(shape, dtype=tf.float32, name=None)\n",
    "tf.zeros_like(tensor, dtype=None, name=None)\n",
    "tf.ones(shape, dtype=tf.float32, name=None)\n",
    "tf.ones_like(tensor, dtype=tf.None, name=None)\n",
    "tf.fill(dims, value, name=None)\n",
    "tf.constant(value, dtype=None, name=None, name=Const)\n",
    "tf.linspace(start, stop, num, name=None)\n",
    "tf.range(start, limit=None, delta=1, name=range)\n",
    "tf.random_normal(shape, mean=0.0, stddev=1.0, dtype=tf.float32, seed=None, name=None)\n",
    "tf.truncated_normal(shape, mean=0.0, stddev=1.0, dtype=tf.float32, seed=None, name=None)\n",
    "tf.random_uniform(shape, minval=0, maxval=None, dtype=tf.float32, seed=None, name=None)\n",
    "tf.random_shuffle(value, seed=None, name=None)\n",
    "tf.set_random_seed(seed)\n",
    "tf.random_crop(value, size, seed=None, name=None)\n",
    "tf.multinomial(logits, num_samples, seed=None, name=None, output_dtype=None)\n",
    "tf.random.gamma(shape, alpha, beta=None, dtype=tf.float32, seed=None, name=None)\n",
    "```\n",
    "\n",
    "#### Candidate of LeCun Normal Initialization\n",
    "```python\n",
    "tf.random_normal(shape, mean=0.0, stddev=1.0, dtype=tf.float32, seed=None, name=None)\n",
    "tf.truncated_normal(shape, mean=0.0, stddev=1.0, dtype=tf.float32, seed=None, name=None)\n",
    "```\n",
    "\n",
    "#### What difference tf.random_normal vs tf.truncated_normal\n",
    "![truncated_normal_distribution](https://user-images.githubusercontent.com/13328380/51116144-9d2c8600-184d-11e9-97da-a862eaa56986.png)"
   ]
  },
  {
   "cell_type": "markdown",
   "metadata": {},
   "source": [
    "### Op level random seed\n",
    "**Each new session restarts the random state**\n",
    "```python\n",
    "c = tf.random_uniform([], -10, 10, seed=2)\n",
    "\n",
    "with tf.Session() as sess:\n",
    "    print(sess.run(c)) # >> 3.57493\n",
    "    print(sess.run(c)) # >> -5.97319\n",
    "```\n",
    "\n",
    "```python\n",
    "c = tf.random_uniform([], -10, 10, seed=2)\n",
    "\n",
    "with tf.Session() as sess:\n",
    "    print(sess.run(c)) # >> 3.57493\n",
    "    \n",
    "with tf.Session() as sess:\n",
    "    print(sess.run(c)) # >> 3.57493\n",
    "    \n",
    "```\n",
    "\n",
    "### Op level ssed: each op keeps its own seed\n",
    "\n",
    "```python\n",
    "c = tf.random_uniform([], -10, 10, seed=2)\n",
    "d = tf.random_uniform([], -10, 10, seed=2)\n",
    "\n",
    "with tf.Session() as sess:\n",
    "    print(sess.run(c)) # >> 3.57493\n",
    "    print(sess.run(d)) # >> 3.57493\n",
    "```"
   ]
  },
  {
   "cell_type": "code",
   "execution_count": null,
   "metadata": {},
   "outputs": [],
   "source": [
    "c = tf.Variable(initial_value=tf.truncated_normal([784, 200], seed=2) , dtype=tf.float32)\n",
    "d = tf.Variable(initial_value=tf.truncated_normal([200, 10], seed=2) , dtype=tf.float32)\n",
    "\n",
    "with tf.Session() as sess:\n",
    "    sess.run(tf.global_variables_initializer())\n",
    "    print(sess.run([c]))\n",
    "    print(sess.run([d]))\n",
    "    \n",
    "print(\"\\nTwo Array Matrix is Same!!\")"
   ]
  },
  {
   "cell_type": "markdown",
   "metadata": {},
   "source": [
    "### Randomly Generated Constants\n",
    "\n",
    "```python3\n",
    "tf.set_random_seed(seed)\n",
    "```"
   ]
  },
  {
   "cell_type": "code",
   "execution_count": null,
   "metadata": {},
   "outputs": [],
   "source": [
    "tf.set_random_seed(2)\n",
    "c = tf.Variable(initial_value=tf.truncated_normal([784, 200]) , dtype=tf.float32)\n",
    "d = tf.Variable(initial_value=tf.truncated_normal([200, 10]) , dtype=tf.float32)\n",
    "\n",
    "with tf.Session() as sess:\n",
    "    sess.run(tf.global_variables_initializer())\n",
    "    print(sess.run([c]))\n",
    "    print(sess.run([d]))\n",
    "    \n",
    "print(\"\\nTwo Array Matrix is Different!!\")"
   ]
  },
  {
   "cell_type": "markdown",
   "metadata": {},
   "source": [
    "# <span style=\"color:red\">!!Kernel Restart!! </span>"
   ]
  },
  {
   "cell_type": "markdown",
   "metadata": {},
   "source": [
    "# Legacy TensorFlow"
   ]
  },
  {
   "cell_type": "markdown",
   "metadata": {},
   "source": [
    "# Fully Connected Network Using tf.Variable\n",
    "\n",
    "![sad](https://user-images.githubusercontent.com/13328380/51116154-a61d5780-184d-11e9-8fc4-cd7d60f7b11b.jpg)"
   ]
  },
  {
   "cell_type": "code",
   "execution_count": null,
   "metadata": {},
   "outputs": [],
   "source": [
    "!rm -rf ./graphs/low-level"
   ]
  },
  {
   "cell_type": "code",
   "execution_count": 1,
   "metadata": {},
   "outputs": [
    {
     "name": "stdout",
     "output_type": "stream",
     "text": [
      "1.12.0\n"
     ]
    }
   ],
   "source": [
    "from __future__ import print_function\n",
    "import numpy as np\n",
    "import tensorflow as tf\n",
    "import matplotlib.pyplot as plt\n",
    "from tqdm import tqdm_notebook, tqdm, trange\n",
    "print(tf.__version__)"
   ]
  },
  {
   "cell_type": "code",
   "execution_count": 2,
   "metadata": {},
   "outputs": [],
   "source": [
    "tf.set_random_seed(2)"
   ]
  },
  {
   "cell_type": "code",
   "execution_count": 3,
   "metadata": {},
   "outputs": [],
   "source": [
    "(x_train, y_train), (x_test , y_test) = tf.keras.datasets.mnist.load_data()\n",
    "x_train = (x_train/255).astype(np.float32).reshape(-1, 784)\n",
    "x_test = (x_test/255).astype(np.float32).reshape(-1, 784)\n",
    "\n",
    "val_range = int(len(x_test) * 0.8)\n",
    "\n",
    "x_val = x_test[:val_range, :]\n",
    "y_val = y_test[:val_range]\n",
    "\n",
    "x_test = x_test[val_range:, :]\n",
    "y_test = y_test[val_range:]"
   ]
  },
  {
   "cell_type": "code",
   "execution_count": 4,
   "metadata": {},
   "outputs": [],
   "source": [
    "# Declare Input Node\n",
    "x = tf.placeholder(dtype=tf.float32)\n",
    "y = tf.placeholder(dtype=tf.int32)\n",
    "\n",
    "# Declare parameter\n",
    "layer1_weights = tf.Variable(initial_value=tf.truncated_normal([784, 500]) , dtype=tf.float32)\n",
    "layer2_weights = tf.Variable(initial_value=tf.truncated_normal([500, 200]) , dtype=tf.float32)\n",
    "layer3_weights = tf.Variable(initial_value=tf.truncated_normal([200, 10]) , dtype=tf.float32)\n",
    "\n",
    "# build graph\n",
    "feature1 = tf.matmul(x, layer1_weights)\n",
    "activation1 = tf.tanh(feature1)\n",
    "feature2 = tf.matmul(activation1, layer2_weights)\n",
    "activation2 = tf.tanh(feature2)\n",
    "score = tf.matmul(activation2, layer3_weights)\n",
    "\n",
    "prediction = tf.argmax(input = score, axis=1)\n",
    "\n",
    "loss = tf.losses.sparse_softmax_cross_entropy(labels=y, logits=score)"
   ]
  },
  {
   "cell_type": "code",
   "execution_count": 5,
   "metadata": {},
   "outputs": [
    {
     "data": {
      "application/vnd.jupyter.widget-view+json": {
       "model_id": "d20a8f26063c49b294f8e17ddabfba37",
       "version_major": 2,
       "version_minor": 0
      },
      "text/plain": [
       "HBox(children=(IntProgress(value=0), HTML(value='')))"
      ]
     },
     "metadata": {},
     "output_type": "display_data"
    },
    {
     "ename": "KeyboardInterrupt",
     "evalue": "",
     "output_type": "error",
     "traceback": [
      "\u001b[0;31m---------------------------------------------------------------------------\u001b[0m",
      "\u001b[0;31mKeyboardInterrupt\u001b[0m                         Traceback (most recent call last)",
      "\u001b[0;32m<ipython-input-5-ac99f99cb329>\u001b[0m in \u001b[0;36m<module>\u001b[0;34m\u001b[0m\n\u001b[1;32m     36\u001b[0m             \u001b[0mval_indices\u001b[0m \u001b[0;34m=\u001b[0m \u001b[0mnp\u001b[0m\u001b[0;34m.\u001b[0m\u001b[0mrandom\u001b[0m\u001b[0;34m.\u001b[0m\u001b[0mchoice\u001b[0m\u001b[0;34m(\u001b[0m\u001b[0mrange\u001b[0m\u001b[0;34m(\u001b[0m\u001b[0mx_val\u001b[0m\u001b[0;34m.\u001b[0m\u001b[0mshape\u001b[0m\u001b[0;34m[\u001b[0m\u001b[0;36m0\u001b[0m\u001b[0;34m]\u001b[0m\u001b[0;34m)\u001b[0m\u001b[0;34m,\u001b[0m \u001b[0msize\u001b[0m\u001b[0;34m=\u001b[0m\u001b[0mbatch_size\u001b[0m\u001b[0;34m,\u001b[0m \u001b[0mreplace\u001b[0m\u001b[0;34m=\u001b[0m\u001b[0;32mFalse\u001b[0m\u001b[0;34m)\u001b[0m\u001b[0;34m\u001b[0m\u001b[0;34m\u001b[0m\u001b[0m\n\u001b[1;32m     37\u001b[0m \u001b[0;34m\u001b[0m\u001b[0m\n\u001b[0;32m---> 38\u001b[0;31m             \u001b[0mval_xs\u001b[0m \u001b[0;34m=\u001b[0m \u001b[0mx_val\u001b[0m\u001b[0;34m[\u001b[0m\u001b[0mval_indices\u001b[0m\u001b[0;34m]\u001b[0m\u001b[0;34m\u001b[0m\u001b[0;34m\u001b[0m\u001b[0m\n\u001b[0m\u001b[1;32m     39\u001b[0m             \u001b[0mval_ys\u001b[0m \u001b[0;34m=\u001b[0m \u001b[0my_val\u001b[0m\u001b[0;34m[\u001b[0m\u001b[0mval_indices\u001b[0m\u001b[0;34m]\u001b[0m\u001b[0;34m\u001b[0m\u001b[0;34m\u001b[0m\u001b[0m\n\u001b[1;32m     40\u001b[0m \u001b[0;34m\u001b[0m\u001b[0m\n",
      "\u001b[0;31mKeyboardInterrupt\u001b[0m: "
     ]
    }
   ],
   "source": [
    "opt = tf.train.GradientDescentOptimizer(learning_rate=0.01)\n",
    "optimizer = opt.minimize(loss)\n",
    "\n",
    "# TensorBoard\n",
    "softmaxLoss = tf.summary.scalar(name='softmax_loss', tensor=loss)\n",
    "train_writer = tf.summary.FileWriter('./graphs/low-level/train_mnist_dnn', graph=tf.get_default_graph())\n",
    "val_writer = tf.summary.FileWriter('./graphs/low-level/val_mnist_dnn', graph=tf.get_default_graph())\n",
    "\n",
    "# Hyper Parameter\n",
    "epoch = 100\n",
    "total_bar_length = tqdm_notebook(range(epoch))\n",
    "batch_size=512\n",
    "total_step = int(x_train.shape[0] / batch_size)\n",
    "\n",
    "sess = tf.Session()\n",
    "sess.run(tf.global_variables_initializer())\n",
    "\n",
    "train_loss_hist = []\n",
    "val_loss_hist = []\n",
    "\n",
    "for i in total_bar_length:\n",
    "    avg_train_loss = 0   \n",
    "    avg_val_loss = 0 \n",
    "    \n",
    "    val_loss = 0\n",
    "    \n",
    "    train_loss_sum = 0    \n",
    "    val_loss_sum = 0\n",
    "    \n",
    "    for step in range(total_step):\n",
    "            batch_indices = np.random.choice(range(x_train.shape[0]), size=batch_size, replace=False)\n",
    "\n",
    "            batch_xs = x_train[batch_indices]\n",
    "            batch_ys = y_train[batch_indices]\n",
    "            \n",
    "            val_indices = np.random.choice(range(x_val.shape[0]), size=batch_size, replace=False)\n",
    "            \n",
    "            val_xs = x_val[val_indices]\n",
    "            val_ys = y_val[val_indices]\n",
    "\n",
    "            _, train_loss = sess.run([optimizer, loss], feed_dict={x:batch_xs, y:batch_ys})\n",
    "            \n",
    "            val_loss = sess.run(fetches = loss, feed_dict={x:val_xs, y:val_ys})\n",
    "            \n",
    "            avg_train_loss += train_loss / total_step\n",
    "            avg_val_loss += val_loss / total_step\n",
    "        \n",
    "    train_loss_hist.append(avg_train_loss)\n",
    "    val_loss_hist.append(val_loss)\n",
    "    \n",
    "    train_loss_sum = sess.run(softmaxLoss, feed_dict={x:batch_xs, y:batch_ys})\n",
    "    val_loss_sum = sess.run(fetches = softmaxLoss, feed_dict={x:val_xs, y:val_ys})\n",
    "\n",
    "    train_writer.add_summary(train_loss_sum, global_step = i)\n",
    "    val_writer.add_summary(val_loss_sum, global_step = i)\n",
    "        \n",
    "train_writer.close()\n",
    "val_writer.close()\n",
    "\n",
    "print(\"train finished\")"
   ]
  },
  {
   "cell_type": "code",
   "execution_count": null,
   "metadata": {},
   "outputs": [],
   "source": [
    "plt.plot(train_loss_hist, label=\"train\")\n",
    "plt.plot(val_loss_hist, label=\"validation\")\n",
    "plt.legend()\n",
    "plt.show()"
   ]
  },
  {
   "cell_type": "code",
   "execution_count": null,
   "metadata": {},
   "outputs": [],
   "source": [
    "yhat = np.argmax(sess.run(score, feed_dict={x:x_test}), axis = 1)\n",
    "print(\"acc : {:.2%}\".format(np.mean(yhat == y_test)))"
   ]
  },
  {
   "cell_type": "code",
   "execution_count": null,
   "metadata": {
    "scrolled": true
   },
   "outputs": [],
   "source": [
    "!tensorboard --logdir=./graphs/low-level/"
   ]
  },
  {
   "cell_type": "markdown",
   "metadata": {},
   "source": [
    "# <span style=\"color:red\">!!Kernel Restart!! </span>"
   ]
  },
  {
   "cell_type": "markdown",
   "metadata": {},
   "source": [
    "# Fully Connected Network Using tf.get_variable"
   ]
  },
  {
   "cell_type": "markdown",
   "metadata": {},
   "source": [
    "## tf.get_variable\n",
    "    \n",
    "        \n",
    "```python\n",
    "tf.get_variable(\n",
    "    name,\n",
    "    shape=None,\n",
    "    dtype=None,\n",
    "    initializer=None,\n",
    "    regularizer=None,\n",
    "    trainable=None,\n",
    "    collections=None,\n",
    "    caching_device=None,\n",
    "    partitioner=None,\n",
    "    validate_shape=True,\n",
    "    use_resource=None,\n",
    "    custom_getter=None,\n",
    "    constraint=None,\n",
    "    synchronization=tf.VariableSynchronization.AUTO,\n",
    "    aggregation=tf.VariableAggregation.NONE\n",
    ")\n",
    "```\n",
    "\n",
    "    \n",
    "## tf.truncated_normal_initializer()\n",
    "    \n",
    "```python\n",
    "__init__(\n",
    "    mean=0.0,\n",
    "    stddev=1.0,\n",
    "    seed=None,\n",
    "    dtype=tf.float32\n",
    ")\n",
    "```"
   ]
  },
  {
   "cell_type": "code",
   "execution_count": null,
   "metadata": {},
   "outputs": [],
   "source": [
    "!rm -rf ./graphs/low-level"
   ]
  },
  {
   "cell_type": "code",
   "execution_count": null,
   "metadata": {},
   "outputs": [],
   "source": [
    "from __future__ import print_function\n",
    "import numpy as np\n",
    "import tensorflow as tf\n",
    "import matplotlib.pyplot as plt\n",
    "from tqdm import tqdm_notebook, tqdm, trange\n",
    "print(tf.__version__)"
   ]
  },
  {
   "cell_type": "code",
   "execution_count": null,
   "metadata": {},
   "outputs": [],
   "source": [
    "tf.set_random_seed(2)"
   ]
  },
  {
   "cell_type": "code",
   "execution_count": null,
   "metadata": {},
   "outputs": [],
   "source": [
    "(x_train, y_train), (x_test , y_test) = tf.keras.datasets.mnist.load_data()\n",
    "x_train = (x_train/255).astype(np.float32).reshape(-1, 784)\n",
    "x_test = (x_test/255).astype(np.float32).reshape(-1, 784)\n",
    "\n",
    "val_range = int(len(x_test) * 0.8)\n",
    "\n",
    "x_val = x_test[:val_range, :]\n",
    "y_val = y_test[:val_range]\n",
    "\n",
    "x_test = x_test[val_range:, :]\n",
    "y_test = y_test[val_range:]"
   ]
  },
  {
   "cell_type": "code",
   "execution_count": null,
   "metadata": {},
   "outputs": [],
   "source": [
    "# Declare Input Node\n",
    "x = tf.placeholder(dtype=tf.float32)\n",
    "y = tf.placeholder(dtype=tf.int32)\n",
    "\n",
    "# Declare parameter\n",
    "layer1_weights = tf.get_variable(\"layer1_weights\", shape=(784, 500), initializer=tf.truncated_normal_initializer())\n",
    "layer2_weights = tf.get_variable(\"layer2_weights\", shape=(500, 200), initializer=tf.truncated_normal_initializer())\n",
    "layer3_weights = tf.get_variable(\"layer3_weights\", shape=(200, 10), initializer=tf.truncated_normal_initializer())\n",
    "\n",
    "# build graph\n",
    "feature1 = tf.matmul(x, layer1_weights)\n",
    "activation1 = tf.tanh(feature1)\n",
    "feature2 = tf.matmul(activation1, layer2_weights)\n",
    "activation2 = tf.tanh(feature2)\n",
    "score = tf.matmul(activation2, layer3_weights)\n",
    "\n",
    "prediction = tf.argmax(input = score, axis=1)\n",
    "\n",
    "loss = tf.losses.sparse_softmax_cross_entropy(labels=y, logits=score)"
   ]
  },
  {
   "cell_type": "code",
   "execution_count": null,
   "metadata": {},
   "outputs": [],
   "source": [
    "opt = tf.train.GradientDescentOptimizer(learning_rate=0.01)\n",
    "optimizer = opt.minimize(loss)\n",
    "\n",
    "# TensorBoard\n",
    "softmaxLoss = tf.summary.scalar(name='softmax_loss', tensor=loss)\n",
    "train_writer = tf.summary.FileWriter('./graphs/low-level/train_mnist_dnn', graph=tf.get_default_graph())\n",
    "val_writer = tf.summary.FileWriter('./graphs/low-level/val_mnist_dnn', graph=tf.get_default_graph())\n",
    "\n",
    "# Hyper Parameter\n",
    "epoch = 100\n",
    "total_bar_length = tqdm_notebook(range(epoch))\n",
    "batch_size=512\n",
    "total_step = int(x_train.shape[0] / batch_size)\n",
    "\n",
    "sess = tf.Session()\n",
    "sess.run(tf.global_variables_initializer())\n",
    "\n",
    "train_loss_hist = []\n",
    "val_loss_hist = []\n",
    "\n",
    "for i in total_bar_length:\n",
    "    avg_train_loss = 0   \n",
    "    avg_val_loss = 0 \n",
    "    \n",
    "    val_loss = 0\n",
    "    \n",
    "    train_loss_sum = 0    \n",
    "    val_loss_sum = 0\n",
    "    \n",
    "    for step in range(total_step):\n",
    "            batch_indices = np.random.choice(range(x_train.shape[0]), size=batch_size, replace=False)\n",
    "\n",
    "            batch_xs = x_train[batch_indices]\n",
    "            batch_ys = y_train[batch_indices]\n",
    "            \n",
    "            val_indices = np.random.choice(range(x_val.shape[0]), size=batch_size, replace=False)\n",
    "            \n",
    "            val_xs = x_val[val_indices]\n",
    "            val_ys = y_val[val_indices]\n",
    "\n",
    "            _, train_loss = sess.run([optimizer, loss], feed_dict={x:batch_xs, y:batch_ys})\n",
    "            \n",
    "            val_loss = sess.run(fetches = loss, feed_dict={x:val_xs, y:val_ys})\n",
    "            \n",
    "            avg_train_loss += train_loss / total_step\n",
    "            avg_val_loss += val_loss / total_step\n",
    "        \n",
    "    train_loss_hist.append(avg_train_loss)\n",
    "    val_loss_hist.append(val_loss)\n",
    "    \n",
    "    train_loss_sum = sess.run(softmaxLoss, feed_dict={x:batch_xs, y:batch_ys})\n",
    "    val_loss_sum = sess.run(fetches = softmaxLoss, feed_dict={x:val_xs, y:val_ys})\n",
    "\n",
    "    train_writer.add_summary(train_loss_sum, global_step = i)\n",
    "    val_writer.add_summary(val_loss_sum, global_step = i)\n",
    "        \n",
    "train_writer.close()\n",
    "val_writer.close()\n",
    "\n",
    "print(\"train finished\")"
   ]
  },
  {
   "cell_type": "code",
   "execution_count": null,
   "metadata": {},
   "outputs": [],
   "source": [
    "plt.plot(train_loss_hist, label=\"train\")\n",
    "plt.plot(val_loss_hist, label=\"validation\")\n",
    "plt.legend()\n",
    "plt.show()"
   ]
  },
  {
   "cell_type": "code",
   "execution_count": null,
   "metadata": {},
   "outputs": [],
   "source": [
    "yhat = np.argmax(sess.run(score, feed_dict={x:x_test}), axis = 1)\n",
    "print(\"acc : {:.2%}\".format(np.mean(yhat == y_test)))"
   ]
  },
  {
   "cell_type": "markdown",
   "metadata": {},
   "source": [
    "# <span style=\"color:red\">!!Kernel Restart!! </span>"
   ]
  },
  {
   "cell_type": "markdown",
   "metadata": {},
   "source": [
    "# Eager Tensorflow"
   ]
  },
  {
   "cell_type": "markdown",
   "metadata": {},
   "source": [
    "![tf_eager](https://user-images.githubusercontent.com/13328380/51116170-b2091980-184d-11e9-84a3-2267beca09ef.jpg)"
   ]
  },
  {
   "cell_type": "code",
   "execution_count": null,
   "metadata": {},
   "outputs": [],
   "source": [
    "from __future__ import print_function\n",
    "import numpy as np\n",
    "import tensorflow as tf\n",
    "import tensorflow.contrib.eager as tfe\n",
    "import matplotlib.pyplot as plt\n",
    "from tqdm import tqdm_notebook, tqdm, trange\n",
    "tfe.enable_eager_execution()\n",
    "print(tf.__version__)"
   ]
  },
  {
   "cell_type": "code",
   "execution_count": null,
   "metadata": {},
   "outputs": [],
   "source": [
    "i = tf.constant(0)\n",
    "while i<1000:\n",
    "    i = tf.add(i, 1)\n",
    "    print(\"I could do this all day! {}\".format(i))"
   ]
  },
  {
   "cell_type": "markdown",
   "metadata": {},
   "source": [
    "![surprising](https://user-images.githubusercontent.com/13328380/51116179-b9c8be00-184d-11e9-9532-32392e70d475.gif)"
   ]
  },
  {
   "cell_type": "markdown",
   "metadata": {},
   "source": [
    "# <span style=\"color:red\">!!Kernel Restart!! </span>\n",
    "# Let's do this"
   ]
  },
  {
   "cell_type": "markdown",
   "metadata": {},
   "source": [
    "# Fully Connected Network Using Eager Execution\n",
    "\n",
    "Eager Mode에서는 `tf.contrib.summary`를 사용해야함\n",
    "\n",
    "type 이슈,  \n",
    "순수 eager에서는 optimizer를 사용하지 못하나요?"
   ]
  },
  {
   "cell_type": "code",
   "execution_count": null,
   "metadata": {},
   "outputs": [],
   "source": [
    "from __future__ import print_function\n",
    "import numpy as np\n",
    "import tensorflow as tf\n",
    "import tensorflow.contrib.eager as tfe\n",
    "import matplotlib.pyplot as plt\n",
    "from tqdm import tqdm_notebook, tqdm, trange\n",
    "tfe.enable_eager_execution()\n",
    "print(tf.__version__)"
   ]
  },
  {
   "cell_type": "code",
   "execution_count": null,
   "metadata": {},
   "outputs": [],
   "source": [
    "tf.set_random_seed(2)"
   ]
  },
  {
   "cell_type": "code",
   "execution_count": null,
   "metadata": {},
   "outputs": [],
   "source": [
    "def train_generator():\n",
    "    (x_train, y_train), (x_test , y_test) = tf.keras.datasets.mnist.load_data()\n",
    "    x_train = (x_train/255).astype(np.float32).reshape(-1, 784)\n",
    "    \n",
    "    train_data = zip(x_train, y_train)\n",
    "    \n",
    "    datafiles = train_data\n",
    "    \n",
    "    for x, y in datafiles:\n",
    "        yield (x, y)\n",
    "        \n",
    "def val_generator():\n",
    "    (x_train, y_train), (x_test , y_test) = tf.keras.datasets.mnist.load_data()\n",
    "    \n",
    "    x_test = (x_test/255).astype(np.float32).reshape(-1, 784)\n",
    "\n",
    "    val_range = int(len(x_test) * 0.8)\n",
    "\n",
    "    x_val = x_test[:val_range, :]\n",
    "    y_val = y_test[:val_range]\n",
    "\n",
    "    val_data = zip(x_val, y_val)\n",
    "    \n",
    "    datafiles = val_data\n",
    "            \n",
    "    for x, y in datafiles:\n",
    "        yield (x, y)\n",
    "        \n",
    "def test_generator():\n",
    "    (x_train, y_train), (x_test , y_test) = tf.keras.datasets.mnist.load_data()\n",
    "    \n",
    "    x_test = (x_test/255).astype(np.float32).reshape(-1, 784)\n",
    "\n",
    "    val_range = int(len(x_test) * 0.8)\n",
    "\n",
    "    x_test = x_test[val_range:, :]\n",
    "    y_test = y_test[val_range:]\n",
    "        \n",
    "    test_data = zip(x_test, y_test)\n",
    "    \n",
    "    datafiles = test_data\n",
    "            \n",
    "    for x, y in datafiles:\n",
    "        yield (x, y)"
   ]
  },
  {
   "cell_type": "code",
   "execution_count": null,
   "metadata": {},
   "outputs": [],
   "source": [
    "class Dnn_mnist():\n",
    "    def __init__(self):\n",
    "        self.w1 = tf.Variable(initial_value=tf.truncated_normal([784, 500]) , dtype=tf.float32)\n",
    "        self.w2 = tf.Variable(initial_value=tf.truncated_normal([500, 200]) , dtype=tf.float32)\n",
    "        self.w3 =  tf.Variable(initial_value=tf.truncated_normal([200, 10]) , dtype=tf.float32)\n",
    "        self._loss = 0\n",
    "    \n",
    "    def forward(self, x):\n",
    "        out = tf.matmul(x, self.w1)\n",
    "        out = tf.tanh(out)\n",
    "        out = tf.matmul(out, self.w2)\n",
    "        out = tf.tanh(out)\n",
    "        out = tf.matmul(out, self.w3)\n",
    "        \n",
    "        return out\n",
    "    \n",
    "    def prediction(self, x):\n",
    "        return tf.argmax(x, 1)\n",
    "    \n",
    "    def loss(self, x, y):        \n",
    "        return tf.losses.sparse_softmax_cross_entropy(labels=y, logits=x)\n",
    "    \n",
    "    "
   ]
  },
  {
   "cell_type": "code",
   "execution_count": null,
   "metadata": {},
   "outputs": [],
   "source": [
    "# Hyper Parameter\n",
    "epoch = 100\n",
    "batch_size = 512\n",
    "learning_rate = 0.01\n",
    "total_bar_length = tqdm_notebook(range(epoch))\n",
    "\n",
    "train_data = tf.data.Dataset.from_generator(train_generator, (tf.float32, tf.int32), (tf.TensorShape(784), tf.TensorShape([])))\n",
    "train_data = train_data.shuffle(500)\n",
    "train_data = train_data.batch(batch_size = batch_size)\n",
    "\n",
    "val_data = tf.data.Dataset.from_generator(val_generator, (tf.float32, tf.int32), (tf.TensorShape([None]), tf.TensorShape(None)))\n",
    "val_data = val_data.shuffle(500)\n",
    "val_data = val_data.batch(batch_size = batch_size)\n",
    "\n",
    "mnist = Dnn_mnist()\n",
    "\n",
    "train_loss_hist = []\n",
    "val_loss_hist = []\n",
    "\n",
    "for i in total_bar_length:\n",
    "    train_loss = 0\n",
    "    val_loss = 0\n",
    "    \n",
    "    for x, y in train_data:\n",
    "        \n",
    "        loss = 0\n",
    "        with tf.GradientTape() as tape:\n",
    "            out = mnist.forward(x)\n",
    "            loss = mnist.loss(out, y)\n",
    "            train_loss = loss\n",
    "        dw = tape.gradient(target = loss, sources = [mnist.w1, mnist.w2, mnist.w3])\n",
    "        \n",
    "        mnist.w1.assign_sub(learning_rate * dw[0])\n",
    "        mnist.w2.assign_sub(learning_rate * dw[1])\n",
    "        mnist.w3.assign_sub(learning_rate * dw[2])\n",
    "    \n",
    "    count = 0        \n",
    "    for _x, _y in val_data:        \n",
    "        out = mnist.forward(_x)\n",
    "        loss = mnist.loss(out, _y)\n",
    "        val_loss += loss\n",
    "        count += 1\n",
    "    \n",
    "    val_loss = val_loss / count\n",
    "            \n",
    "    train_loss_hist.append(train_loss)\n",
    "    val_loss_hist.append(val_loss)    \n",
    "\n",
    "print(\"train finished\")"
   ]
  },
  {
   "cell_type": "code",
   "execution_count": null,
   "metadata": {},
   "outputs": [],
   "source": [
    "plt.plot(train_loss_hist, label=\"train\")\n",
    "plt.plot(val_loss_hist, label=\"validation\")\n",
    "plt.legend()\n",
    "plt.show()"
   ]
  },
  {
   "cell_type": "code",
   "execution_count": null,
   "metadata": {},
   "outputs": [],
   "source": [
    "test_data = tf.data.Dataset.from_generator(test_generator, (tf.float32, tf.int32), (tf.TensorShape(784), tf.TensorShape([])))\n",
    "test_data = test_data.shuffle(500)\n",
    "test_data = test_data.batch(batch_size = batch_size)\n",
    "\n",
    "scores = list()\n",
    "yhat = list()\n",
    "for __x, __y in test_data:    \n",
    "    out = mnist.forward(__x)    \n",
    "    score = np.argmax(out, axis=1)    \n",
    "    \n",
    "    scores.extend(score.tolist())    \n",
    "    yhat.extend(__y.numpy().tolist())\n",
    "\n",
    "scores = np.asarray(scores)\n",
    "yhat = np.asarray(yhat)\n",
    "\n",
    "print(\"acc : {:.2%}\".format(np.mean(yhat == scores)))"
   ]
  },
  {
   "cell_type": "markdown",
   "metadata": {},
   "source": [
    "![shit](https://user-images.githubusercontent.com/13328380/51116192-c64d1680-184d-11e9-8e8b-214f32dfd1ac.gif)"
   ]
  },
  {
   "cell_type": "markdown",
   "metadata": {},
   "source": [
    "# <span style=\"color:red\">!!Kernel Restart!! </span>"
   ]
  },
  {
   "cell_type": "markdown",
   "metadata": {},
   "source": [
    "# Fully Connected Network Using Keras"
   ]
  },
  {
   "cell_type": "code",
   "execution_count": null,
   "metadata": {},
   "outputs": [],
   "source": [
    "from __future__ import print_function\n",
    "import tensorflow as tf\n",
    "import tensorflow.contrib.eager as tfe\n",
    "import keras\n",
    "from keras.models import Sequential\n",
    "from keras.layers import Dense\n",
    "from keras.optimizers import sgd\n",
    "import numpy as np\n",
    "import matplotlib.pyplot as plt\n",
    "from tqdm import tqdm_notebook, tqdm, trange\n",
    "print(keras.__version__)"
   ]
  },
  {
   "cell_type": "code",
   "execution_count": null,
   "metadata": {},
   "outputs": [],
   "source": [
    "# Hyper Parameter\n",
    "epoch = 100\n",
    "batch_size = 512\n",
    "learning_rate = 0.01"
   ]
  },
  {
   "cell_type": "code",
   "execution_count": null,
   "metadata": {},
   "outputs": [],
   "source": [
    "(x_train, y_train), (x_test , y_test) = tf.keras.datasets.mnist.load_data()\n",
    "x_train = (x_train/255).astype(np.float32).reshape(-1, 784)\n",
    "x_test = (x_test/255).astype(np.float32).reshape(-1, 784)\n",
    "\n",
    "val_range = int(len(x_test) * 0.8)\n",
    "\n",
    "x_val = x_test[:val_range, :]\n",
    "y_val = y_test[:val_range]\n",
    "\n",
    "x_test = x_test[val_range:, :]\n",
    "y_test = y_test[val_range:]\n",
    "\n",
    "y_train = keras.utils.to_categorical(y_train, 10)\n",
    "y_val = keras.utils.to_categorical(y_val, 10)\n",
    "y_test = keras.utils.to_categorical(y_test, 10)"
   ]
  },
  {
   "cell_type": "code",
   "execution_count": null,
   "metadata": {},
   "outputs": [],
   "source": [
    "# Build model\n",
    "model = Sequential()\n",
    "model.add(Dense(500, activation='tanh', input_shape=(784,)))\n",
    "model.add(Dense(200, activation='tanh'))\n",
    "model.add(Dense(10, activation='softmax'))\n",
    "\n",
    "model.summary()\n",
    "\n",
    "model.compile(loss='categorical_crossentropy',\n",
    "             optimizer=sgd(),\n",
    "             metrics=['accuracy'])"
   ]
  },
  {
   "cell_type": "code",
   "execution_count": null,
   "metadata": {},
   "outputs": [],
   "source": [
    "# Train\n",
    "history = model.fit(x_train, y_train,\n",
    "                   batch_size=batch_size,\n",
    "                   epochs=epoch,\n",
    "                   verbose=1,\n",
    "                   validation_data=(x_val, y_val))"
   ]
  },
  {
   "cell_type": "code",
   "execution_count": null,
   "metadata": {},
   "outputs": [],
   "source": [
    "score = model.evaluate(x_test, y_test, verbose=0)\n",
    "print(\"Test loss : {}\".format(score[0]))\n",
    "print(\"Test accuracy : {}\".format(score[1]))"
   ]
  },
  {
   "cell_type": "markdown",
   "metadata": {},
   "source": [
    "![great](https://user-images.githubusercontent.com/13328380/51116202-cc42f780-184d-11e9-93a4-961bbbf7e403.gif)"
   ]
  },
  {
   "cell_type": "markdown",
   "metadata": {},
   "source": [
    "# <span style=\"color:red\">!!Kernel Restart!! </span>"
   ]
  },
  {
   "cell_type": "markdown",
   "metadata": {},
   "source": [
    "# Fully Connected Network Using Keras + Eager Execution"
   ]
  },
  {
   "cell_type": "code",
   "execution_count": null,
   "metadata": {},
   "outputs": [],
   "source": [
    "import os, sys\n",
    "import numpy as np\n",
    "import pandas as pd\n",
    "import matplotlib.pyplot as plt\n",
    "import tensorflow as tf\n",
    "import tensorflow.contrib.eager as tfe\n",
    "from tensorflow import keras\n",
    "from tqdm import tqdm_notebook, tqdm, trange\n",
    "%matplotlib inline\n",
    "tf.enable_eager_execution()\n",
    "print(tf.__version__)"
   ]
  },
  {
   "cell_type": "code",
   "execution_count": null,
   "metadata": {},
   "outputs": [],
   "source": [
    "(x_train, y_train), (x_test , y_test) = tf.keras.datasets.mnist.load_data()\n",
    "x_train = (x_train/255).astype(np.float32).reshape(-1, 784)\n",
    "x_test = (x_test/255).astype(np.float32).reshape(-1, 784)\n",
    "\n",
    "val_range = int(len(x_test) * 0.8)\n",
    "\n",
    "x_val = x_test[:val_range, :]\n",
    "y_val = y_test[:val_range]\n",
    "\n",
    "x_test = x_test[val_range:, :]\n",
    "y_test = y_test[val_range:]"
   ]
  },
  {
   "cell_type": "code",
   "execution_count": null,
   "metadata": {},
   "outputs": [],
   "source": [
    "class DNNClassifier(keras.Model):\n",
    "    def __init__(self, num_classes=10, hidden_dims = [100, 50]):\n",
    "        super(DNNClassifier, self).__init__()\n",
    "        self.__layers = []\n",
    "        \n",
    "        for h_dim in hidden_dims:\n",
    "            self.__layers.append(keras.layers.Dense(units=h_dim, kernel_initializer='glorot_normal',\n",
    "                                                  activation=keras.activations.tanh))\n",
    "        else:\n",
    "            self.__layers.append(keras.layers.Dense(units=num_classes, kernel_initializer='glorot_normal'))\n",
    "\n",
    "    def call(self, inputs):\n",
    "        for layers in self.__layers:\n",
    "            outputs = layers(inputs)\n",
    "        return outputs"
   ]
  },
  {
   "cell_type": "code",
   "execution_count": null,
   "metadata": {},
   "outputs": [],
   "source": [
    "# Loss function\n",
    "def loss_fn(model, x, y):\n",
    "    logits = model(x)\n",
    "    y = tf.dtypes.cast(y, tf.int32)\n",
    "    return tf.losses.sparse_softmax_cross_entropy(labels=y, logits=logits)"
   ]
  },
  {
   "cell_type": "code",
   "execution_count": null,
   "metadata": {},
   "outputs": [],
   "source": [
    "# Hyper Parameters\n",
    "epoch = 100\n",
    "batch_size = 100\n",
    "learning_rate = 0.005\n",
    "total_step = int(x_train.shape[0] / batch_size)"
   ]
  },
  {
   "cell_type": "code",
   "execution_count": null,
   "metadata": {},
   "outputs": [],
   "source": [
    "# train\n",
    "train_dataset = tf.data.Dataset.from_tensor_slices((x_train, y_train))\n",
    "train_dataset = train_dataset.shuffle(buffer_size=10000)\n",
    "train_dataset = train_dataset.batch(batch_size=batch_size)\n",
    "print(train_dataset)\n",
    "\n",
    "# validation\n",
    "val_dataset = tf.data.Dataset.from_tensor_slices((x_val, y_val))\n",
    "val_dataset = val_dataset.shuffle(buffer_size=10000)\n",
    "val_dataset = val_dataset.batch(batch_size=batch_size)\n",
    "print(val_dataset)\n",
    "\n",
    "# test\n",
    "test_dataset = tf.data.Dataset.from_tensor_slices((x_test, y_test))\n",
    "test_dataset = test_dataset.shuffle(buffer_size=10000)\n",
    "test_dataset = test_dataset.batch(batch_size=batch_size)\n",
    "print(val_dataset)"
   ]
  },
  {
   "cell_type": "code",
   "execution_count": null,
   "metadata": {},
   "outputs": [],
   "source": [
    "global_step = tf.train.get_or_create_global_step()\n",
    "\n",
    "# creating optimizer\n",
    "opt = tf.train.GradientDescentOptimizer(learning_rate=learning_rate)\n",
    "\n",
    "# create writer for tensorboard\n",
    "summary_writer = tf.contrib.summary.create_file_writer(logdir='./graphs/keras_eager/')"
   ]
  },
  {
   "cell_type": "code",
   "execution_count": null,
   "metadata": {},
   "outputs": [],
   "source": [
    "mnist = DNNClassifier(num_classes=10)"
   ]
  },
  {
   "cell_type": "code",
   "execution_count": null,
   "metadata": {},
   "outputs": [],
   "source": [
    "# training\n",
    "train_loss_hist = []\n",
    "val_loss_hist = []\n",
    "\n",
    "total_bar_length = tqdm_notebook(range(epoch))\n",
    "\n",
    "device = '\\cpu:0' if tfe.num_gpus() == 0 else 'gpu:0'\n",
    "\n",
    "with tf.device(device):\n",
    "    \n",
    "    train_loss_hist = []\n",
    "    val_loss_hist = []\n",
    "    \n",
    "    for i in total_bar_length:\n",
    "        avg_train_loss = 0\n",
    "        avg_val_loss = 0\n",
    "        train_step = 0\n",
    "        val_step = 0\n",
    "\n",
    "        # training\n",
    "        with summary_writer.as_default(), tf.contrib.summary.always_record_summaries():\n",
    "            for x, y in train_dataset:\n",
    "                with tf.GradientTape() as tape:\n",
    "                    train_loss = loss_fn(mnist, x, y)\n",
    "                grads = tape.gradient(target=train_loss, sources=mnist.variables)\n",
    "                opt.apply_gradients(grads_and_vars=zip(grads, mnist.variables), global_step=global_step)\n",
    "                \n",
    "                tf.contrib.summary.scalar(name='train_loss', tensor=train_loss)\n",
    "                avg_train_loss += train_loss\n",
    "                train_step += 1\n",
    "            else:\n",
    "                avg_train_loss /= train_step\n",
    "                train_loss_hist.append(avg_train_loss)\n",
    "\n",
    "            # validation\n",
    "            for _x, _y in val_dataset:\n",
    "                val_loss = loss_fn(mnist, _x, _y)\n",
    "                tf.contrib.summary.scalar(name='val_loss', tensor=val_loss)\n",
    "                avg_val_loss += val_loss\n",
    "                val_step += 1\n",
    "            else:\n",
    "                avg_val_loss /= val_step\n",
    "                val_loss_hist.append(avg_val_loss)\n",
    "                \n",
    "        if (i + 1) % 10 == 0:\n",
    "            print(\"epoch : {:3}, train_loss : {:.2f}, val_loss : {:.2f}\".format(i, avg_train_loss, avg_val_loss))"
   ]
  },
  {
   "cell_type": "code",
   "execution_count": null,
   "metadata": {
    "scrolled": true
   },
   "outputs": [],
   "source": [
    "plt.plot(train_loss_hist, label=\"train\")\n",
    "plt.plot(val_loss_hist, label=\"validation\")\n",
    "plt.legend()\n",
    "plt.show()"
   ]
  },
  {
   "cell_type": "code",
   "execution_count": null,
   "metadata": {},
   "outputs": [],
   "source": [
    "scores = list()\n",
    "yhat = list()\n",
    "for __x, __y in test_dataset:\n",
    "    out = mnist.call(__x)\n",
    "    score = np.argmax(out, axis=1)\n",
    "    \n",
    "    scores.extend(score.tolist())\n",
    "    yhat.extend(__y.numpy().tolist())\n",
    "\n",
    "scores = np.asarray(scores)\n",
    "yhat = np.asarray(yhat)\n",
    "\n",
    "print(\"acc : {:.2%}\".format(np.mean(yhat == scores)))"
   ]
  },
  {
   "cell_type": "code",
   "execution_count": null,
   "metadata": {},
   "outputs": [],
   "source": []
  }
 ],
 "metadata": {
  "kernelspec": {
   "display_name": "Python 3",
   "language": "python",
   "name": "python3"
  },
  "language_info": {
   "codemirror_mode": {
    "name": "ipython",
    "version": 3
   },
   "file_extension": ".py",
   "mimetype": "text/x-python",
   "name": "python",
   "nbconvert_exporter": "python",
   "pygments_lexer": "ipython3",
   "version": "3.6.3"
  }
 },
 "nbformat": 4,
 "nbformat_minor": 2
}
