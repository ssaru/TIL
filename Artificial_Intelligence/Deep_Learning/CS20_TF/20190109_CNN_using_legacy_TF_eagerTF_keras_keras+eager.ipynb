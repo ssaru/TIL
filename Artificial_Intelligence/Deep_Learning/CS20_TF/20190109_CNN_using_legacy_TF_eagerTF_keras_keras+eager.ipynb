{
 "cells": [
  {
   "cell_type": "markdown",
   "metadata": {},
   "source": [
    "# Convolutional Neural Network with legacy TF"
   ]
  },
  {
   "cell_type": "code",
   "execution_count": 1,
   "metadata": {},
   "outputs": [],
   "source": [
    "!rm -rf ./graphs/"
   ]
  },
  {
   "cell_type": "code",
   "execution_count": null,
   "metadata": {},
   "outputs": [],
   "source": [
    "from __future__ import print_function\n",
    "import numpy as np\n",
    "import tensorflow as tf\n",
    "import matplotlib.pyplot as plt\n",
    "from tqdm import tqdm_notebook, tqdm, trange\n",
    "print(tf.__version__)"
   ]
  },
  {
   "cell_type": "code",
   "execution_count": null,
   "metadata": {},
   "outputs": [],
   "source": [
    "tf.set_random_seed(2)"
   ]
  },
  {
   "cell_type": "code",
   "execution_count": null,
   "metadata": {},
   "outputs": [],
   "source": [
    "(x_train, y_train), (x_test , y_test) = tf.keras.datasets.mnist.load_data()\n",
    "x_train = (x_train/255).astype(np.float32)\n",
    "x_test = (x_test/255).astype(np.float32)\n",
    "\n",
    "val_range = int(len(x_test) * 0.8)\n",
    "\n",
    "x_val = x_test[:val_range, :]\n",
    "y_val = y_test[:val_range]\n",
    "\n",
    "x_test = x_test[val_range:, :]\n",
    "y_test = y_test[val_range:]"
   ]
  },
  {
   "cell_type": "code",
   "execution_count": null,
   "metadata": {},
   "outputs": [],
   "source": [
    "# Declare Input Node\n",
    "x = tf.placeholder(dtype=tf.float32, shape=[None, 28, 28])\n",
    "y = tf.placeholder(dtype=tf.int32, shape=[None])\n",
    "\n",
    "x_reshape = tf.reshape(x, [-1, 28, 28, 1])\n",
    "# Declare parameter\n",
    "W_conv1 = tf.Variable(initial_value=tf.truncated_normal([5, 5, 1, 20]) , dtype=tf.float32)\n",
    "b_conv1 = tf.Variable(initial_value=tf.zeros([20]))\n",
    "\n",
    "W_conv2 = tf.Variable(initial_value=tf.truncated_normal([5, 5, 20, 50]) , dtype=tf.float32)\n",
    "b_conv2 = tf.Variable(initial_value=tf.zeros([50]))\n",
    "\n",
    "W_fc1 = tf.Variable(initial_value=tf.truncated_normal([50*7*7, 500]) , dtype=tf.float32)\n",
    "W_fc2 = tf.Variable(initial_value=tf.truncated_normal([500, 10]) , dtype=tf.float32)\n",
    "\n",
    "# graph\n",
    "conv1 = tf.nn.conv2d(x_reshape, W_conv1, strides=[1, 1, 1, 1], padding=\"SAME\") + b_conv1\n",
    "h1 = tf.nn.tanh(conv1)\n",
    "pool1 = tf.nn.max_pool(h1, ksize=[1, 2, 2, 1], strides=[1, 2, 2, 1], padding=\"SAME\")\n",
    "\n",
    "conv2 = tf.nn.conv2d(pool1, W_conv2, strides=[1, 1, 1, 1], padding=\"SAME\") + b_conv2\n",
    "h2 = tf.nn.tanh(conv2)\n",
    "pool2 = tf.nn.max_pool(h2, ksize=[1, 2, 2, 1], strides=[1, 2, 2, 1], padding=\"SAME\")\n",
    "\n",
    "# flatten\n",
    "pool2_flat = tf.reshape(pool2, [-1, 50*7*7])\n",
    "\n",
    "fc1 = tf.matmul(pool2_flat, W_fc1)\n",
    "h1_fc1 = tf.nn.tanh(fc1)\n",
    "\n",
    "score = tf.matmul(h1_fc1, W_fc2)\n",
    "\n",
    "prediction = tf.argmax(input = score, axis=1)\n",
    "\n",
    "loss = tf.losses.sparse_softmax_cross_entropy(labels=y, logits=score)"
   ]
  },
  {
   "cell_type": "code",
   "execution_count": null,
   "metadata": {},
   "outputs": [],
   "source": [
    "opt = tf.train.GradientDescentOptimizer(0.01)\n",
    "global_step = tf.Variable(0, name='global_step', trainable=False)\n",
    "optimizer = opt.minimize(loss, global_step = global_step)\n",
    "\n",
    "# TensorBoard\n",
    "softmaxLoss = tf.summary.scalar(name='softmax_loss', tensor=loss)\n",
    "train_writer = tf.summary.FileWriter('./graphs/low-level/train_mnist_dnn', graph=tf.get_default_graph())\n",
    "val_writer = tf.summary.FileWriter('./graphs/low-level/val_mnist_dnn', graph=tf.get_default_graph())"
   ]
  },
  {
   "cell_type": "code",
   "execution_count": null,
   "metadata": {},
   "outputs": [],
   "source": [
    "# Hyper Parameter\n",
    "epoch = 100\n",
    "total_bar_length = tqdm_notebook(range(epoch))\n",
    "batch_size=512\n",
    "total_step = int(x_train.shape[0] / batch_size)\n",
    "\n",
    "sess = tf.Session()\n",
    "sess.run(tf.global_variables_initializer())\n",
    "\n",
    "train_loss_hist = []\n",
    "val_loss_hist = []\n",
    "\n",
    "for i in total_bar_length:\n",
    "    avg_train_loss = 0   \n",
    "    avg_val_loss = 0 \n",
    "    \n",
    "    val_loss = 0\n",
    "    \n",
    "    train_loss_sum = 0    \n",
    "    val_loss_sum = 0\n",
    "    \n",
    "    for step in range(total_step):\n",
    "            batch_indices = np.random.choice(range(x_train.shape[0]), size=batch_size, replace=False)\n",
    "\n",
    "            batch_xs = x_train[batch_indices]\n",
    "            batch_ys = y_train[batch_indices]\n",
    "            \n",
    "            val_indices = np.random.choice(range(x_val.shape[0]), size=batch_size, replace=False)\n",
    "            \n",
    "            val_xs = x_val[val_indices]\n",
    "            val_ys = y_val[val_indices]\n",
    "\n",
    "            _, train_loss = sess.run([optimizer, loss], feed_dict={x:batch_xs, y:batch_ys})\n",
    "            \n",
    "            val_loss = sess.run(fetches = loss, feed_dict={x:val_xs, y:val_ys})\n",
    "            \n",
    "            avg_train_loss += train_loss / total_step\n",
    "            avg_val_loss += val_loss / total_step\n",
    "        \n",
    "    train_loss_hist.append(avg_train_loss)\n",
    "    val_loss_hist.append(val_loss)\n",
    "    \n",
    "    train_loss_sum = sess.run(softmaxLoss, feed_dict={x:batch_xs, y:batch_ys})\n",
    "    val_loss_sum = sess.run(fetches = softmaxLoss, feed_dict={x:val_xs, y:val_ys})\n",
    "\n",
    "    train_writer.add_summary(train_loss_sum, global_step = i)\n",
    "    val_writer.add_summary(val_loss_sum, global_step = i)\n",
    "        \n",
    "train_writer.close()\n",
    "val_writer.close()\n",
    "\n",
    "print(\"train finished\")"
   ]
  },
  {
   "cell_type": "code",
   "execution_count": null,
   "metadata": {},
   "outputs": [],
   "source": [
    "plt.plot(train_loss_hist, label=\"train\")\n",
    "plt.plot(val_loss_hist, label=\"validation\")\n",
    "plt.legend()\n",
    "plt.show()"
   ]
  },
  {
   "cell_type": "code",
   "execution_count": null,
   "metadata": {},
   "outputs": [],
   "source": [
    "yhat = np.argmax(sess.run(score, feed_dict={x:x_test}), axis = 1)\n",
    "print(\"acc : {:.2%}\".format(np.mean(yhat == y_test)))"
   ]
  },
  {
   "cell_type": "markdown",
   "metadata": {},
   "source": [
    "# <span style=\"color:red\">!!Kernel Restart!! </span>"
   ]
  },
  {
   "cell_type": "markdown",
   "metadata": {},
   "source": [
    "# Convolutional Neural Network Using Keras + Eager Execution"
   ]
  },
  {
   "cell_type": "code",
   "execution_count": 1,
   "metadata": {},
   "outputs": [
    {
     "name": "stdout",
     "output_type": "stream",
     "text": [
      "1.12.0\n"
     ]
    }
   ],
   "source": [
    "import os, sys\n",
    "import numpy as np\n",
    "import pandas as pd\n",
    "import matplotlib.pyplot as plt\n",
    "import tensorflow as tf\n",
    "import tensorflow.contrib.eager as tfe\n",
    "from tensorflow import keras\n",
    "from tqdm import tqdm_notebook, tqdm, trange\n",
    "%matplotlib inline\n",
    "tf.enable_eager_execution()\n",
    "print(tf.__version__)"
   ]
  },
  {
   "cell_type": "code",
   "execution_count": 2,
   "metadata": {},
   "outputs": [],
   "source": [
    "(x_train, y_train), (x_test , y_test) = tf.keras.datasets.mnist.load_data()\n",
    "x_train = (x_train/255).astype(np.float32)\n",
    "x_test = (x_test/255).astype(np.float32)\n",
    "\n",
    "val_range = int(len(x_test) * 0.8)\n",
    "\n",
    "x_val = x_test[:val_range, :]\n",
    "y_val = y_test[:val_range]\n",
    "\n",
    "x_test = x_test[val_range:, :]\n",
    "y_test = y_test[val_range:]\n",
    "\n",
    "x_train = x_train.reshape((-1, 28, 28, 1))\n",
    "x_val = x_val.reshape((-1, 28, 28, 1))\n",
    "x_test = x_test.reshape((-1, 28, 28, 1))"
   ]
  },
  {
   "cell_type": "code",
   "execution_count": 3,
   "metadata": {},
   "outputs": [],
   "source": [
    "class CNNClassifier(keras.Model):\n",
    "    def __init__(self, num_classes=10):\n",
    "        super(CNNClassifier, self).__init__()\n",
    "        self._layer1 = keras.layers.Conv2D(64, (5, 5), padding='same', strides=(2, 2), activation='relu',\n",
    "                                                kernel_initializer='he_normal')\n",
    "        self._layer2 = keras.layers.MaxPool2D()\n",
    "        self._layer3 = keras.layers.Conv2D(32, (5, 5), padding='same', strides=(2, 2), activation='relu',\n",
    "                                                kernel_initializer='he_normal')\n",
    "        \n",
    "        self._layer4 = keras.layers.GlobalAveragePooling2D()                \n",
    "        self._layer5 = keras.layers.Dense(10, activation='softmax')\n",
    "\n",
    "    def call(self, inputs):\n",
    "        out = self._layer1(inputs)\n",
    "        out = self._layer2(out)\n",
    "        out = self._layer3(out)\n",
    "        out = self._layer4(out)\n",
    "        out = self._layer5(out)\n",
    "        return out"
   ]
  },
  {
   "cell_type": "code",
   "execution_count": 4,
   "metadata": {},
   "outputs": [],
   "source": [
    "# Loss function\n",
    "def loss_fn(model, x, y):\n",
    "    logits = model(x)\n",
    "    y = tf.dtypes.cast(y, tf.int32)\n",
    "    return tf.losses.sparse_softmax_cross_entropy(labels=y, logits=logits)"
   ]
  },
  {
   "cell_type": "code",
   "execution_count": 5,
   "metadata": {},
   "outputs": [],
   "source": [
    "# Hyper Parameters\n",
    "epoch = 100\n",
    "batch_size = 100\n",
    "learning_rate = 0.005\n",
    "total_step = int(x_train.shape[0] / batch_size)"
   ]
  },
  {
   "cell_type": "code",
   "execution_count": 6,
   "metadata": {},
   "outputs": [
    {
     "name": "stdout",
     "output_type": "stream",
     "text": [
      "<BatchDataset shapes: ((?, 28, 28, 1), (?,)), types: (tf.float32, tf.uint8)>\n",
      "<BatchDataset shapes: ((?, 28, 28, 1), (?,)), types: (tf.float32, tf.uint8)>\n",
      "<BatchDataset shapes: ((?, 28, 28, 1), (?,)), types: (tf.float32, tf.uint8)>\n"
     ]
    }
   ],
   "source": [
    "# train\n",
    "train_dataset = tf.data.Dataset.from_tensor_slices((x_train, y_train))\n",
    "train_dataset = train_dataset.shuffle(buffer_size=10000)\n",
    "train_dataset = train_dataset.batch(batch_size=batch_size)\n",
    "print(train_dataset)\n",
    "\n",
    "# validation\n",
    "val_dataset = tf.data.Dataset.from_tensor_slices((x_val, y_val))\n",
    "val_dataset = val_dataset.shuffle(buffer_size=10000)\n",
    "val_dataset = val_dataset.batch(batch_size=batch_size)\n",
    "print(val_dataset)\n",
    "\n",
    "# test\n",
    "test_dataset = tf.data.Dataset.from_tensor_slices((x_test, y_test))\n",
    "test_dataset = test_dataset.shuffle(buffer_size=10000)\n",
    "test_dataset = test_dataset.batch(batch_size=batch_size)\n",
    "print(test_dataset)"
   ]
  },
  {
   "cell_type": "code",
   "execution_count": 7,
   "metadata": {},
   "outputs": [],
   "source": [
    "global_step = tf.train.get_or_create_global_step()\n",
    "\n",
    "# creating optimizer\n",
    "opt = tf.train.GradientDescentOptimizer(learning_rate=learning_rate)\n",
    "\n",
    "# create writer for tensorboard\n",
    "summary_writer = tf.contrib.summary.create_file_writer(logdir='./graphs/keras_eager/')"
   ]
  },
  {
   "cell_type": "code",
   "execution_count": 8,
   "metadata": {},
   "outputs": [],
   "source": [
    "mnist = CNNClassifier()"
   ]
  },
  {
   "cell_type": "code",
   "execution_count": 9,
   "metadata": {},
   "outputs": [
    {
     "data": {
      "application/vnd.jupyter.widget-view+json": {
       "model_id": "dc6dae4cc1844042a0f8b454c8f7c586",
       "version_major": 2,
       "version_minor": 0
      },
      "text/plain": [
       "HBox(children=(IntProgress(value=0), HTML(value='')))"
      ]
     },
     "metadata": {},
     "output_type": "display_data"
    },
    {
     "name": "stdout",
     "output_type": "stream",
     "text": [
      "epoch :   9, train_loss : 2.25, val_loss : 2.25\n",
      "epoch :  19, train_loss : 2.08, val_loss : 2.08\n",
      "epoch :  29, train_loss : 2.03, val_loss : 2.03\n",
      "epoch :  39, train_loss : 2.01, val_loss : 2.01\n",
      "epoch :  49, train_loss : 2.00, val_loss : 2.00\n",
      "epoch :  59, train_loss : 1.99, val_loss : 1.99\n",
      "epoch :  69, train_loss : 1.99, val_loss : 1.99\n",
      "epoch :  79, train_loss : 1.98, val_loss : 1.98\n",
      "epoch :  89, train_loss : 1.98, val_loss : 1.98\n",
      "epoch :  99, train_loss : 1.97, val_loss : 1.98\n",
      "\n"
     ]
    }
   ],
   "source": [
    "# training\n",
    "train_loss_hist = []\n",
    "val_loss_hist = []\n",
    "\n",
    "total_bar_length = tqdm_notebook(range(epoch))\n",
    "\n",
    "device = '\\cpu:0' if tfe.num_gpus() == 0 else 'gpu:0'\n",
    "\n",
    "with tf.device(device):\n",
    "    for i in total_bar_length:\n",
    "\n",
    "        avg_train_loss = 0\n",
    "        avg_val_loss = 0\n",
    "        train_step = 0\n",
    "        val_step = 0\n",
    "\n",
    "        # training\n",
    "        with summary_writer.as_default(), tf.contrib.summary.always_record_summaries():\n",
    "            for x, y in train_dataset:\n",
    "                with tf.GradientTape() as tape:\n",
    "                    train_loss = loss_fn(mnist, x, y)\n",
    "                grads = tape.gradient(target=train_loss, sources=mnist.variables)\n",
    "                opt.apply_gradients(grads_and_vars=zip(grads, mnist.variables), global_step=global_step)\n",
    "                tf.contrib.summary.scalar(name='train_loss', tensor=train_loss)\n",
    "                avg_train_loss += train_loss\n",
    "                train_step += 1\n",
    "            else:\n",
    "                avg_train_loss /= train_step\n",
    "                train_loss_hist.append(avg_train_loss)\n",
    "\n",
    "            # validation\n",
    "            for _x, _y in val_dataset:\n",
    "                val_loss = loss_fn(mnist, _x, _y)\n",
    "                tf.contrib.summary.scalar(name='val_loss', tensor=val_loss)\n",
    "                avg_val_loss += val_loss\n",
    "                val_step += 1\n",
    "            else:\n",
    "                avg_val_loss /= val_step\n",
    "                val_loss_hist.append(avg_val_loss)\n",
    "\n",
    "        if (i + 1) % 10 == 0:\n",
    "            print(\"epoch : {:3}, train_loss : {:.2f}, val_loss : {:.2f}\".format(i, avg_train_loss, avg_val_loss))"
   ]
  },
  {
   "cell_type": "code",
   "execution_count": 10,
   "metadata": {},
   "outputs": [
    {
     "data": {
      "image/png": "[encoded data removed]",
      "text/plain": [
       "<Figure size 432x288 with 1 Axes>"
      ]
     },
     "metadata": {
      "needs_background": "light"
     },
     "output_type": "display_data"
    }
   ],
   "source": [
    "plt.plot(train_loss_hist, label=\"train\")\n",
    "plt.plot(val_loss_hist, label=\"validation\")\n",
    "plt.legend()\n",
    "plt.show()"
   ]
  },
  {
   "cell_type": "code",
   "execution_count": 11,
   "metadata": {},
   "outputs": [
    {
     "name": "stdout",
     "output_type": "stream",
     "text": [
      "acc : 51.40%\n"
     ]
    }
   ],
   "source": [
    "scores = list()\n",
    "yhat = list()\n",
    "for __x, __y in test_dataset:\n",
    "    out = mnist.call(__x)\n",
    "    score = np.argmax(out, axis=1)\n",
    "    \n",
    "    scores.extend(score.tolist())\n",
    "    yhat.extend(__y.numpy().tolist())\n",
    "\n",
    "scores = np.asarray(scores)\n",
    "yhat = np.asarray(yhat)\n",
    "\n",
    "print(\"acc : {:.2%}\".format(np.mean(yhat == scores)))"
   ]
  },
  {
   "cell_type": "code",
   "execution_count": null,
   "metadata": {},
   "outputs": [],
   "source": []
  }
 ],
 "metadata": {
  "kernelspec": {
   "display_name": "Python 3",
   "language": "python",
   "name": "python3"
  },
  "language_info": {
   "codemirror_mode": {
    "name": "ipython",
    "version": 3
   },
   "file_extension": ".py",
   "mimetype": "text/x-python",
   "name": "python",
   "nbconvert_exporter": "python",
   "pygments_lexer": "ipython3",
   "version": "3.6.7"
  }
 },
 "nbformat": 4,
 "nbformat_minor": 2
}
