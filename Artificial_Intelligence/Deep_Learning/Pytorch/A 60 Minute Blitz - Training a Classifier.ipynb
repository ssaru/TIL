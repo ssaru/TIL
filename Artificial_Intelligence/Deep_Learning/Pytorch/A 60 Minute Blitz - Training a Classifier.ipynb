{
 "cells": [
  {
   "cell_type": "markdown",
   "metadata": {},
   "source": [
    "# Training a Classifier  \n",
    "    \n",
    "## Training an image classifier\n",
    "\n",
    "    \n",
    "### 1. Loading and normalizing CIFAR10"
   ]
  },
  {
   "cell_type": "code",
   "execution_count": 1,
   "metadata": {},
   "outputs": [
    {
     "name": "stdout",
     "output_type": "stream",
     "text": [
      "1.0.0.dev20181017\n"
     ]
    }
   ],
   "source": [
    "import torch\n",
    "import torchvision\n",
    "import torchvision.transforms as transforms\n",
    "print(torch.__version__)"
   ]
  },
  {
   "cell_type": "code",
   "execution_count": 2,
   "metadata": {},
   "outputs": [
    {
     "name": "stderr",
     "output_type": "stream",
     "text": [
      "\r",
      "0.00B [00:00, ?B/s]"
     ]
    },
    {
     "name": "stdout",
     "output_type": "stream",
     "text": [
      "Downloading https://www.cs.toronto.edu/~kriz/cifar-10-python.tar.gz to ./data/cifar-10-python.tar.gz\n"
     ]
    },
    {
     "name": "stderr",
     "output_type": "stream",
     "text": [
      "100%|█████████▉| 170M/170M [02:09<00:00, 8.04MB/s]   "
     ]
    },
    {
     "name": "stdout",
     "output_type": "stream",
     "text": [
      "Files already downloaded and verified\n"
     ]
    },
    {
     "name": "stderr",
     "output_type": "stream",
     "text": [
      "\r",
      "171MB [02:20, 8.04MB/s]                           "
     ]
    }
   ],
   "source": [
    "## Transform function for throw Dataset instance\n",
    "transform = transforms.Compose(\n",
    "    [transforms.ToTensor(),\n",
    "     transforms.Normalize((0.5, 0.5, 0.5), (0.5, 0.5, 0.5))])\n",
    "\n",
    "## Train DataSet\n",
    "trainset = torchvision.datasets.CIFAR10(root='./data', train=True,\n",
    "                                        download=True, transform=transform)\n",
    "\n",
    "## Train DataLoader\n",
    "trainloader = torch.utils.data.DataLoader(trainset, batch_size=4,\n",
    "                                          shuffle=True, num_workers=2)\n",
    "\n",
    "## Test DataSet\n",
    "testset = torchvision.datasets.CIFAR10(root='./data', train=False,\n",
    "                                       download=True, transform=transform)\n",
    "## Test DataLoader\n",
    "testloader = torch.utils.data.DataLoader(testset, batch_size=4,\n",
    "                                         shuffle=False, num_workers=2)\n",
    "\n",
    "## Class\n",
    "classes = ('plane', 'car', 'bird', 'cat',\n",
    "           'deer', 'dog', 'frog', 'horse', 'ship', 'truck')"
   ]
  },
  {
   "cell_type": "code",
   "execution_count": 3,
   "metadata": {},
   "outputs": [
    {
     "data": {
      "image/png": "[encoded data removed]",
      "text/plain": [
       "<Figure size 432x288 with 1 Axes>"
      ]
     },
     "metadata": {
      "needs_background": "light"
     },
     "output_type": "display_data"
    },
    {
     "name": "stdout",
     "output_type": "stream",
     "text": [
      "  cat  frog  frog   car\n"
     ]
    }
   ],
   "source": [
    "# functions to show an image\n",
    "\n",
    "%matplotlib inline\n",
    "import matplotlib.pyplot as plt\n",
    "import numpy as np\n",
    "\n",
    "def imshow(img):\n",
    "    img = img / 2 + 0.5     # unnormalize\n",
    "    npimg = img.numpy()\n",
    "    plt.imshow(np.transpose(npimg, (1, 2, 0)))\n",
    "    plt.show()\n",
    "\n",
    "# get some random training images\n",
    "dataiter = iter(trainloader)\n",
    "images, labels = dataiter.next()\n",
    "\n",
    "# show images\n",
    "imshow(torchvision.utils.make_grid(images))\n",
    "# print labels\n",
    "print(' '.join('%5s' % classes[labels[j]] for j in range(4)))"
   ]
  },
  {
   "cell_type": "markdown",
   "metadata": {},
   "source": [
    "### 2. Define a Convolutional Neural Network"
   ]
  },
  {
   "cell_type": "code",
   "execution_count": 4,
   "metadata": {},
   "outputs": [],
   "source": [
    "import torch.nn as nn\n",
    "import torch.nn.functional as F\n",
    "\n",
    "\n",
    "class Net(nn.Module):\n",
    "    def __init__(self):\n",
    "        super(Net, self).__init__()\n",
    "        self.conv1 = nn.Conv2d(3, 6, 5)\n",
    "        self.pool = nn.MaxPool2d(2, 2)\n",
    "        self.conv2 = nn.Conv2d(6, 16, 5)\n",
    "        self.fc1 = nn.Linear(16 * 5 * 5, 120)\n",
    "        self.fc2 = nn.Linear(120, 84)\n",
    "        self.fc3 = nn.Linear(84, 10)\n",
    "\n",
    "    def forward(self, x):\n",
    "        x = self.pool(F.relu(self.conv1(x)))\n",
    "        x = self.pool(F.relu(self.conv2(x)))\n",
    "        x = x.view(-1, 16 * 5 * 5)\n",
    "        x = F.relu(self.fc1(x))\n",
    "        x = F.relu(self.fc2(x))\n",
    "        x = self.fc3(x)\n",
    "        return x\n",
    "\n",
    "\n",
    "net = Net()"
   ]
  },
  {
   "cell_type": "markdown",
   "metadata": {},
   "source": [
    "### 3. Define a Loss function and optimizer"
   ]
  },
  {
   "cell_type": "code",
   "execution_count": 5,
   "metadata": {},
   "outputs": [],
   "source": [
    "import torch.optim as optim\n",
    "\n",
    "criterion = nn.CrossEntropyLoss()\n",
    "optimizer = optim.SGD(net.parameters(), lr=0.001, momentum=0.9)"
   ]
  },
  {
   "cell_type": "markdown",
   "metadata": {},
   "source": [
    "### 4. Train the network"
   ]
  },
  {
   "cell_type": "code",
   "execution_count": 6,
   "metadata": {},
   "outputs": [
    {
     "name": "stdout",
     "output_type": "stream",
     "text": [
      "[1,  2000] loss: 2.164\n",
      "[1,  4000] loss: 1.883\n",
      "[1,  6000] loss: 1.667\n",
      "[1,  8000] loss: 1.575\n",
      "[1, 10000] loss: 1.503\n",
      "[1, 12000] loss: 1.456\n",
      "[2,  2000] loss: 1.400\n",
      "[2,  4000] loss: 1.351\n",
      "[2,  6000] loss: 1.373\n",
      "[2,  8000] loss: 1.353\n",
      "[2, 10000] loss: 1.302\n",
      "[2, 12000] loss: 1.309\n",
      "Finished Training\n"
     ]
    }
   ],
   "source": [
    "for epoch in range(2):  # loop over the dataset multiple times\n",
    "\n",
    "    running_loss = 0.0\n",
    "    for i, data in enumerate(trainloader, 0):\n",
    "        # get the inputs\n",
    "        inputs, labels = data\n",
    "\n",
    "        # zero the parameter gradients\n",
    "        optimizer.zero_grad()\n",
    "\n",
    "        # forward + backward + optimize\n",
    "        outputs = net(inputs)\n",
    "        loss = criterion(outputs, labels)\n",
    "        loss.backward()\n",
    "        optimizer.step()\n",
    "\n",
    "        # print statistics\n",
    "        running_loss += loss.item()\n",
    "        if i % 2000 == 1999:    # print every 2000 mini-batches\n",
    "            print('[%d, %5d] loss: %.3f' %\n",
    "                  (epoch + 1, i + 1, running_loss / 2000))\n",
    "            running_loss = 0.0\n",
    "\n",
    "print('Finished Training')"
   ]
  },
  {
   "cell_type": "markdown",
   "metadata": {},
   "source": [
    "### 5. Test the network on the test data"
   ]
  },
  {
   "cell_type": "code",
   "execution_count": 7,
   "metadata": {},
   "outputs": [
    {
     "data": {
      "image/png": "[encoded data removed]",
      "text/plain": [
       "<Figure size 432x288 with 1 Axes>"
      ]
     },
     "metadata": {
      "needs_background": "light"
     },
     "output_type": "display_data"
    },
    {
     "name": "stdout",
     "output_type": "stream",
     "text": [
      "GroundTruth:    cat  ship  ship plane\n"
     ]
    }
   ],
   "source": [
    "dataiter = iter(testloader)\n",
    "images, labels = dataiter.next()\n",
    "\n",
    "# print images\n",
    "imshow(torchvision.utils.make_grid(images))\n",
    "print('GroundTruth: ', ' '.join('%5s' % classes[labels[j]] for j in range(4)))"
   ]
  },
  {
   "cell_type": "code",
   "execution_count": 8,
   "metadata": {},
   "outputs": [
    {
     "name": "stdout",
     "output_type": "stream",
     "text": [
      "Predicted:    cat   car  ship  ship\n"
     ]
    }
   ],
   "source": [
    "outputs = net(images)\n",
    "_, predicted = torch.max(outputs, 1)\n",
    "\n",
    "print('Predicted: ', ' '.join('%5s' % classes[predicted[j]]\n",
    "                              for j in range(4)))"
   ]
  },
  {
   "cell_type": "code",
   "execution_count": 9,
   "metadata": {},
   "outputs": [
    {
     "name": "stdout",
     "output_type": "stream",
     "text": [
      "Accuracy of the network on the 10000 test images: 54 %\n"
     ]
    }
   ],
   "source": [
    "correct = 0\n",
    "total = 0\n",
    "with torch.no_grad():\n",
    "    for data in testloader:\n",
    "        images, labels = data\n",
    "        outputs = net(images)\n",
    "        _, predicted = torch.max(outputs.data, 1)\n",
    "        total += labels.size(0)\n",
    "        correct += (predicted == labels).sum().item()\n",
    "\n",
    "print('Accuracy of the network on the 10000 test images: %d %%' % (\n",
    "    100 * correct / total))"
   ]
  },
  {
   "cell_type": "code",
   "execution_count": 10,
   "metadata": {},
   "outputs": [
    {
     "name": "stdout",
     "output_type": "stream",
     "text": [
      "Accuracy of plane : 51 %\n",
      "Accuracy of   car : 73 %\n",
      "Accuracy of  bird : 35 %\n",
      "Accuracy of   cat : 34 %\n",
      "Accuracy of  deer : 60 %\n",
      "Accuracy of   dog : 47 %\n",
      "Accuracy of  frog : 61 %\n",
      "Accuracy of horse : 54 %\n",
      "Accuracy of  ship : 83 %\n",
      "Accuracy of truck : 39 %\n"
     ]
    }
   ],
   "source": [
    "class_correct = list(0. for i in range(10))\n",
    "class_total = list(0. for i in range(10))\n",
    "with torch.no_grad():\n",
    "    for data in testloader:\n",
    "        images, labels = data\n",
    "        outputs = net(images)\n",
    "        _, predicted = torch.max(outputs, 1)\n",
    "        c = (predicted == labels).squeeze()\n",
    "        for i in range(4):\n",
    "            label = labels[i]\n",
    "            class_correct[label] += c[i].item()\n",
    "            class_total[label] += 1\n",
    "\n",
    "\n",
    "for i in range(10):\n",
    "    print('Accuracy of %5s : %2d %%' % (\n",
    "        classes[i], 100 * class_correct[i] / class_total[i]))"
   ]
  },
  {
   "cell_type": "markdown",
   "metadata": {},
   "source": [
    "## Training on GPU"
   ]
  },
  {
   "cell_type": "code",
   "execution_count": 11,
   "metadata": {},
   "outputs": [
    {
     "name": "stdout",
     "output_type": "stream",
     "text": [
      "cuda:0\n"
     ]
    }
   ],
   "source": [
    "device = torch.device(\"cuda:0\" if torch.cuda.is_available() else \"cpu\")\n",
    "\n",
    "# Assuming that we are on a CUDA machine, this should print a CUDA device:\n",
    "\n",
    "print(device)"
   ]
  },
  {
   "cell_type": "code",
   "execution_count": 12,
   "metadata": {},
   "outputs": [
    {
     "data": {
      "text/plain": [
       "Net(\n",
       "  (conv1): Conv2d(3, 6, kernel_size=(5, 5), stride=(1, 1))\n",
       "  (pool): MaxPool2d(kernel_size=2, stride=2, padding=0, dilation=1, ceil_mode=False)\n",
       "  (conv2): Conv2d(6, 16, kernel_size=(5, 5), stride=(1, 1))\n",
       "  (fc1): Linear(in_features=400, out_features=120, bias=True)\n",
       "  (fc2): Linear(in_features=120, out_features=84, bias=True)\n",
       "  (fc3): Linear(in_features=84, out_features=10, bias=True)\n",
       ")"
      ]
     },
     "execution_count": 12,
     "metadata": {},
     "output_type": "execute_result"
    }
   ],
   "source": [
    "net.to(device)"
   ]
  },
  {
   "cell_type": "code",
   "execution_count": 13,
   "metadata": {},
   "outputs": [],
   "source": [
    "inputs, labels = inputs.to(device), labels.to(device)"
   ]
  },
  {
   "cell_type": "code",
   "execution_count": 14,
   "metadata": {},
   "outputs": [
    {
     "name": "stdout",
     "output_type": "stream",
     "text": [
      "tensor([[[[-0.3255, -0.3333, -0.3255,  ..., -0.7804, -0.7961, -0.8039],\n",
      "          [-0.3020, -0.3098, -0.3020,  ..., -0.7725, -0.7882, -0.7961],\n",
      "          [-0.2863, -0.2784, -0.2706,  ..., -0.7255, -0.7412, -0.7490],\n",
      "          ...,\n",
      "          [-0.3647, -0.3647, -0.3882,  ..., -0.7255, -0.7490, -0.7569],\n",
      "          [-0.3412, -0.3490, -0.3255,  ..., -0.7255, -0.7412, -0.7647],\n",
      "          [-0.3412, -0.3412, -0.3098,  ..., -0.7255, -0.7490, -0.7725]],\n",
      "\n",
      "         [[-0.2471, -0.2549, -0.2471,  ..., -0.7725, -0.7882, -0.7961],\n",
      "          [-0.2235, -0.2314, -0.2235,  ..., -0.7647, -0.7804, -0.7882],\n",
      "          [-0.2078, -0.2000, -0.1922,  ..., -0.7098, -0.7333, -0.7412],\n",
      "          ...,\n",
      "          [-0.3647, -0.3882, -0.4275,  ..., -0.7098, -0.7333, -0.7490],\n",
      "          [-0.3412, -0.3490, -0.3333,  ..., -0.7098, -0.7333, -0.7569],\n",
      "          [-0.3333, -0.3333, -0.3020,  ..., -0.7176, -0.7412, -0.7647]],\n",
      "\n",
      "         [[-0.2549, -0.2627, -0.2549,  ..., -0.8118, -0.8275, -0.8353],\n",
      "          [-0.2314, -0.2392, -0.2314,  ..., -0.8118, -0.8196, -0.8275],\n",
      "          [-0.2157, -0.2078, -0.2000,  ..., -0.7961, -0.7961, -0.7882],\n",
      "          ...,\n",
      "          [-0.4039, -0.4196, -0.4510,  ..., -0.8039, -0.8118, -0.7961],\n",
      "          [-0.3804, -0.3882, -0.3647,  ..., -0.7804, -0.8039, -0.8118],\n",
      "          [-0.3725, -0.3725, -0.3412,  ..., -0.7804, -0.8039, -0.8275]]],\n",
      "\n",
      "\n",
      "        [[[ 0.3725,  0.3647,  0.3725,  ...,  0.2627,  0.2549,  0.2471],\n",
      "          [ 0.3961,  0.3882,  0.3961,  ...,  0.2784,  0.2784,  0.2706],\n",
      "          [ 0.3882,  0.3804,  0.3804,  ...,  0.2706,  0.2627,  0.2549],\n",
      "          ...,\n",
      "          [ 0.3647,  0.3647,  0.3647,  ...,  0.2627,  0.2549,  0.2549],\n",
      "          [ 0.3804,  0.3725,  0.3725,  ...,  0.2706,  0.2627,  0.2627],\n",
      "          [ 0.3490,  0.3412,  0.3412,  ...,  0.2549,  0.2471,  0.2392]],\n",
      "\n",
      "         [[ 0.5137,  0.5059,  0.5137,  ...,  0.3882,  0.3882,  0.3804],\n",
      "          [ 0.5373,  0.5294,  0.5373,  ...,  0.4118,  0.4118,  0.4039],\n",
      "          [ 0.5294,  0.5216,  0.5216,  ...,  0.4039,  0.3961,  0.3882],\n",
      "          ...,\n",
      "          [ 0.4902,  0.4902,  0.4902,  ...,  0.4039,  0.3961,  0.3961],\n",
      "          [ 0.5059,  0.4980,  0.4980,  ...,  0.4118,  0.4039,  0.4039],\n",
      "          [ 0.4745,  0.4667,  0.4745,  ...,  0.3882,  0.3804,  0.3804]],\n",
      "\n",
      "         [[ 0.6235,  0.6157,  0.6157,  ...,  0.5137,  0.5137,  0.5059],\n",
      "          [ 0.6471,  0.6392,  0.6471,  ...,  0.5373,  0.5373,  0.5294],\n",
      "          [ 0.6392,  0.6314,  0.6314,  ...,  0.5294,  0.5216,  0.5137],\n",
      "          ...,\n",
      "          [ 0.6078,  0.6078,  0.6078,  ...,  0.5137,  0.5059,  0.5059],\n",
      "          [ 0.6235,  0.6157,  0.6157,  ...,  0.5216,  0.5216,  0.5137],\n",
      "          [ 0.5922,  0.5843,  0.5922,  ...,  0.4980,  0.4902,  0.4902]]],\n",
      "\n",
      "\n",
      "        [[[ 0.4196,  0.3569,  0.2157,  ...,  0.2471,  0.3255,  0.4667],\n",
      "          [ 0.1529,  0.1373,  0.1843,  ...,  0.0824,  0.0824,  0.1216],\n",
      "          [ 0.2627,  0.1608,  0.0588,  ..., -0.1922, -0.0196,  0.1686],\n",
      "          ...,\n",
      "          [ 0.1216,  0.6471,  0.8275,  ...,  0.3333,  0.7647,  0.8510],\n",
      "          [ 0.3961,  0.7255,  0.7176,  ...,  0.4824,  0.8431,  0.8588],\n",
      "          [ 0.3804,  0.4510,  0.3020,  ...,  0.5137,  0.8196,  0.8353]],\n",
      "\n",
      "         [[ 0.3961,  0.3020,  0.2000,  ...,  0.4118,  0.4039,  0.5216],\n",
      "          [ 0.2000,  0.1451,  0.1843,  ...,  0.1373,  0.0745,  0.1137],\n",
      "          [ 0.4039,  0.2314,  0.0667,  ..., -0.2392, -0.0745,  0.0824],\n",
      "          ...,\n",
      "          [ 0.2706,  0.8039,  0.9922,  ...,  0.4118,  0.8745,  0.9843],\n",
      "          [ 0.5765,  0.9059,  0.8980,  ...,  0.5765,  0.9686,  0.9843],\n",
      "          [ 0.6000,  0.6863,  0.5373,  ...,  0.6549,  0.9843,  0.9922]],\n",
      "\n",
      "         [[ 0.1765,  0.0275, -0.2235,  ...,  0.3333,  0.3020,  0.5137],\n",
      "          [-0.2706, -0.3176, -0.2941,  ...,  0.1608,  0.1059,  0.1529],\n",
      "          [-0.3098, -0.2941, -0.2706,  ..., -0.2863, -0.1137,  0.0118],\n",
      "          ...,\n",
      "          [ 0.2471,  0.8039,  1.0000,  ...,  0.4431,  0.9059,  0.9765],\n",
      "          [ 0.5529,  0.9059,  0.9294,  ...,  0.6078,  0.9529,  0.9608],\n",
      "          [ 0.5529,  0.6392,  0.4667,  ...,  0.6941,  0.9765,  0.9922]]],\n",
      "\n",
      "\n",
      "        [[[-0.5294, -0.5294, -0.6314,  ..., -0.5843, -0.7569, -0.9059],\n",
      "          [ 0.2157,  0.2392,  0.0588,  ..., -0.9059, -0.9294, -0.9294],\n",
      "          [ 0.5765,  0.4980,  0.4118,  ..., -0.2549, -0.2549, -0.2706],\n",
      "          ...,\n",
      "          [ 0.6235,  0.6706,  0.6627,  ...,  0.7020,  0.6549,  0.7020],\n",
      "          [ 0.6784,  0.7412,  0.7725,  ...,  0.7255,  0.6549,  0.6863],\n",
      "          [ 0.6471,  0.7333,  0.7725,  ...,  0.7098,  0.6078,  0.6471]],\n",
      "\n",
      "         [[-0.5294, -0.5373, -0.6471,  ..., -0.5451, -0.7255, -0.8667],\n",
      "          [ 0.3020,  0.3176,  0.1373,  ..., -0.8745, -0.8745, -0.8510],\n",
      "          [ 0.6471,  0.5686,  0.4824,  ..., -0.2078, -0.1843, -0.1686],\n",
      "          ...,\n",
      "          [ 0.6863,  0.6706,  0.6549,  ...,  0.7569,  0.7176,  0.7490],\n",
      "          [ 0.7490,  0.7490,  0.7725,  ...,  0.7882,  0.7333,  0.7569],\n",
      "          [ 0.7176,  0.7412,  0.7804,  ...,  0.7882,  0.7020,  0.7412]],\n",
      "\n",
      "         [[-0.6627, -0.6471, -0.7333,  ..., -0.5843, -0.7255, -0.9059],\n",
      "          [ 0.1294,  0.1686,  0.0118,  ..., -0.9216, -0.9529, -0.9451],\n",
      "          [ 0.4980,  0.4275,  0.3490,  ..., -0.3098, -0.3333, -0.3412],\n",
      "          ...,\n",
      "          [ 0.4118,  0.3882,  0.3490,  ...,  0.5765,  0.5216,  0.5608],\n",
      "          [ 0.4980,  0.4980,  0.5137,  ...,  0.6078,  0.5373,  0.5686],\n",
      "          [ 0.4980,  0.5373,  0.5686,  ...,  0.6235,  0.5137,  0.5529]]]],\n",
      "       device='cuda:0')\n",
      "tensor([3, 5, 1, 7], device='cuda:0')\n"
     ]
    }
   ],
   "source": [
    "print(inputs)\n",
    "print(labels)"
   ]
  }
 ],
 "metadata": {
  "kernelspec": {
   "display_name": "Python 3",
   "language": "python",
   "name": "python3"
  },
  "language_info": {
   "codemirror_mode": {
    "name": "ipython",
    "version": 3
   },
   "file_extension": ".py",
   "mimetype": "text/x-python",
   "name": "python",
   "nbconvert_exporter": "python",
   "pygments_lexer": "ipython3",
   "version": "3.6.3"
  }
 },
 "nbformat": 4,
 "nbformat_minor": 2
}
