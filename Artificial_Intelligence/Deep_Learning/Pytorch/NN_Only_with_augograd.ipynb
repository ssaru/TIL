{
 "cells": [
  {
   "cell_type": "code",
   "execution_count": 1,
   "metadata": {},
   "outputs": [
    {
     "name": "stdout",
     "output_type": "stream",
     "text": [
      "1.0.0\n"
     ]
    }
   ],
   "source": [
    "from __future__ import print_function\n",
    "import torch\n",
    "import torchvision\n",
    "import matplotlib.pyplot as plt\n",
    "from torchvision import datasets, transforms\n",
    "from tqdm import tqdm_notebook, tqdm, trange\n",
    "print(torch.__version__)"
   ]
  },
  {
   "cell_type": "code",
   "execution_count": 2,
   "metadata": {},
   "outputs": [
    {
     "name": "stdout",
     "output_type": "stream",
     "text": [
      "1\n",
      "1\n"
     ]
    }
   ],
   "source": [
    "device = torch.device(\"cuda\")\n",
    "# Hyper Parameter\n",
    "batch_size = 61440\n",
    "epoch = 35\n",
    "learning_rate = 0.01\n",
    "\n",
    "train_loader = torch.utils.data.DataLoader(\n",
    "                    datasets.MNIST('../data', train=True, download=True,\n",
    "                                   transform=transforms.Compose([\n",
    "                                       transforms.ToTensor(),\n",
    "                                       transforms.Normalize((0.1307,), (0.3081,))])),\n",
    "                    batch_size=batch_size, shuffle=True)\n",
    "\n",
    "test_loader = torch.utils.data.DataLoader(\n",
    "                    datasets.MNIST('../data', train=False, \n",
    "                                   transform=transforms.Compose([\n",
    "                                       transforms.ToTensor(),\n",
    "                                       transforms.Normalize((0.1307,), (0.3081,))])),\n",
    "                    batch_size=10240, shuffle=True)\n",
    "\n",
    "print(len(train_loader))\n",
    "print(len(test_loader))"
   ]
  },
  {
   "cell_type": "code",
   "execution_count": 3,
   "metadata": {},
   "outputs": [],
   "source": [
    "# Declare Neural Network Layer\n",
    "weights1 = torch.randn((784, 500), dtype=torch.float32, requires_grad=True, device = device)\n",
    "weights2 = torch.randn((500, 250), dtype=torch.float32, requires_grad=True, device = device)\n",
    "weights3 = torch.randn((250, 10), dtype=torch.float32, requires_grad=True, device = device)\n",
    "\n",
    "# Build forward / loss / one-hot function\n",
    "def forward(data, weights):\n",
    "    \n",
    "    length = len(weights)\n",
    "    \n",
    "    out = data\n",
    "    for i in range(length - 1):\n",
    "        out = torch.matmul(out, weights[i])        \n",
    "        out = torch.sigmoid(out)        \n",
    "    else:\n",
    "        out = torch.matmul(out, weights[-1])\n",
    "        \n",
    "    return out\n",
    "\n",
    "def mse(out, logits):\n",
    "    n = out.shape[0]\n",
    "    loss_matric = out - logits\n",
    "    loss_matric = torch.mul(loss_matric, loss_matric)\n",
    "    loss_matric = torch.sqrt(loss_matric)\n",
    "    \n",
    "    return torch.div(torch.sum(loss_matric), n)\n",
    "\n",
    "def one_hot(batch,depth):\n",
    "    ones = torch.eye(depth)\n",
    "    return ones.index_select(0,batch)\n",
    "\n",
    "def save_grad(name):\n",
    "    def hook(grad):\n",
    "        grads[name] = grad\n",
    "    return hook\n",
    "\n",
    "def derivate_sigmoiod(data):\n",
    "    return torch.sigmoid(data)*(1 - torch.sigmoid(data))"
   ]
  },
  {
   "cell_type": "code",
   "execution_count": 4,
   "metadata": {},
   "outputs": [
    {
     "data": {
      "application/vnd.jupyter.widget-view+json": {
       "model_id": "b0a5c167b3e8463696fae5661285f5a4",
       "version_major": 2,
       "version_minor": 0
      },
      "text/plain": [
       "HBox(children=(IntProgress(value=0, max=35), HTML(value='')))"
      ]
     },
     "metadata": {},
     "output_type": "display_data"
    },
    {
     "name": "stdout",
     "output_type": "stream",
     "text": [
      "Epoch : 0, Step : 0, train_loss : 70.06514739990234, val_loss : 64.85477447509766\n",
      "Epoch : 1, Step : 0, train_loss : 65.18498992919922, val_loss : 60.70122528076172\n",
      "Epoch : 2, Step : 0, train_loss : 61.03861999511719, val_loss : 57.23352813720703\n",
      "Epoch : 3, Step : 0, train_loss : 57.57139587402344, val_loss : 54.392642974853516\n",
      "Epoch : 4, Step : 0, train_loss : 54.735713958740234, val_loss : 52.11648178100586\n",
      "Epoch : 5, Step : 0, train_loss : 52.45427322387695, val_loss : 50.3231315612793\n",
      "Epoch : 6, Step : 0, train_loss : 50.64928436279297, val_loss : 48.93071746826172\n",
      "Epoch : 7, Step : 0, train_loss : 49.24208450317383, val_loss : 47.859031677246094\n",
      "Epoch : 8, Step : 0, train_loss : 48.15715026855469, val_loss : 47.04037857055664\n",
      "Epoch : 9, Step : 0, train_loss : 47.33192443847656, val_loss : 46.41175079345703\n",
      "Epoch : 10, Step : 0, train_loss : 46.7036018371582, val_loss : 45.92889404296875\n",
      "Epoch : 11, Step : 0, train_loss : 46.221134185791016, val_loss : 45.55424118041992\n",
      "Epoch : 12, Step : 0, train_loss : 45.84716033935547, val_loss : 45.260658264160156\n",
      "Epoch : 13, Step : 0, train_loss : 45.55337142944336, val_loss : 45.025733947753906\n",
      "Epoch : 14, Step : 0, train_loss : 45.31708526611328, val_loss : 44.832725524902344\n",
      "Epoch : 15, Step : 0, train_loss : 45.12240982055664, val_loss : 44.81587219238281\n",
      "Epoch : 16, Step : 0, train_loss : 45.105411529541016, val_loss : 44.79922866821289\n",
      "Epoch : 17, Step : 0, train_loss : 45.08864974975586, val_loss : 44.78281784057617\n",
      "Epoch : 18, Step : 0, train_loss : 45.07211685180664, val_loss : 44.76662826538086\n",
      "Epoch : 19, Step : 0, train_loss : 45.055816650390625, val_loss : 44.750667572021484\n",
      "Epoch : 20, Step : 0, train_loss : 45.03974914550781, val_loss : 44.742801666259766\n",
      "Epoch : 21, Step : 0, train_loss : 45.03181838989258, val_loss : 44.7349853515625\n",
      "Epoch : 22, Step : 0, train_loss : 45.02393341064453, val_loss : 44.72722244262695\n",
      "Epoch : 23, Step : 0, train_loss : 45.0161018371582, val_loss : 44.71949768066406\n",
      "Epoch : 24, Step : 0, train_loss : 45.00831604003906, val_loss : 44.71183776855469\n",
      "Epoch : 25, Step : 0, train_loss : 45.00058364868164, val_loss : 44.71062088012695\n",
      "Epoch : 26, Step : 0, train_loss : 44.999351501464844, val_loss : 44.70940399169922\n",
      "Epoch : 27, Step : 0, train_loss : 44.99812316894531, val_loss : 44.70819091796875\n",
      "Epoch : 28, Step : 0, train_loss : 44.996891021728516, val_loss : 44.70697784423828\n",
      "Epoch : 29, Step : 0, train_loss : 44.99566650390625, val_loss : 44.70576095581055\n",
      "Epoch : 30, Step : 0, train_loss : 44.994441986083984, val_loss : 44.704551696777344\n",
      "Epoch : 31, Step : 0, train_loss : 44.99321746826172, val_loss : 44.703338623046875\n",
      "Epoch : 32, Step : 0, train_loss : 44.99199676513672, val_loss : 44.70212936401367\n",
      "Epoch : 33, Step : 0, train_loss : 44.99077606201172, val_loss : 44.70092010498047\n",
      "Epoch : 34, Step : 0, train_loss : 44.98955535888672, val_loss : 44.6997184753418\n",
      "\n"
     ]
    }
   ],
   "source": [
    "loss = 0\n",
    "total_bar_length = tqdm_notebook(range(epoch))\n",
    "train_loss_hist = list()\n",
    "test_loss_hist = list()\n",
    "\n",
    "test_loader_iter = enumerate(test_loader)\n",
    "\n",
    "for epoch in total_bar_length:\n",
    "    \n",
    "    if epoch == 15:\n",
    "        learning_rate = 0.001\n",
    "    elif epoch == 20:\n",
    "        learning_rate = 0.0005\n",
    "    elif epoch == 25:\n",
    "        learning_rate = 0.00008\n",
    "    \n",
    "    for batch_id, (data, target) in enumerate(train_loader):\n",
    "\n",
    "        weights = [weights1, weights2, weights3]\n",
    "        \n",
    "        # Train\n",
    "        batch, _, _, _ = data.shape\n",
    "        data = data.view(batch, -1).cuda()\n",
    "        target = one_hot(target, 10).cuda()\n",
    "\n",
    "        out = forward(data, weights)\n",
    "        loss = mse(out, target)\n",
    "        loss.backward()\n",
    "        \n",
    "        with torch.no_grad():            \n",
    "            weights1 -= learning_rate * weights1.grad\n",
    "            weights2 -= learning_rate * weights2.grad\n",
    "            weights3 -= learning_rate * weights3.grad\n",
    "            \n",
    "            weights1.grad.zero_()\n",
    "            weights2.grad.zero_()\n",
    "            weights3.grad.zero_()\n",
    "        \n",
    "        # Test\n",
    "        with torch.no_grad():            \n",
    "            for batch_id, (test_data, test_target) in enumerate(test_loader):\n",
    "                test_batch, _, _, _ = test_data.shape\n",
    "                test_data = test_data.view(test_batch, -1).cuda()\n",
    "                test_target = one_hot(test_target, 10).cuda()\n",
    "\n",
    "                test_out = forward(test_data, weights)\n",
    "                test_loss = mse(test_out, test_target)\n",
    "\n",
    "                train_loss_hist.append(loss)\n",
    "                test_loss_hist.append(test_loss)\n",
    "                print(\"Epoch : {}, Step : {}, train_loss : {}, val_loss : {}\".format(epoch, batch_id, loss, test_loss))\n"
   ]
  },
  {
   "cell_type": "code",
   "execution_count": 5,
   "metadata": {},
   "outputs": [
    {
     "data": {
      "image/png": "[encoded data removed]",
      "text/plain": [
       "<Figure size 432x288 with 1 Axes>"
      ]
     },
     "metadata": {
      "needs_background": "light"
     },
     "output_type": "display_data"
    }
   ],
   "source": [
    "plt.plot(train_loss_hist, label=\"train\")\n",
    "plt.plot(test_loss_hist, label=\"validation\")\n",
    "plt.legend()\n",
    "plt.show()"
   ]
  },
  {
   "cell_type": "code",
   "execution_count": null,
   "metadata": {},
   "outputs": [],
   "source": []
  }
 ],
 "metadata": {
  "kernelspec": {
   "display_name": "Python 3",
   "language": "python",
   "name": "python3"
  },
  "language_info": {
   "codemirror_mode": {
    "name": "ipython",
    "version": 3
   },
   "file_extension": ".py",
   "mimetype": "text/x-python",
   "name": "python",
   "nbconvert_exporter": "python",
   "pygments_lexer": "ipython3",
   "version": "3.6.3"
  }
 },
 "nbformat": 4,
 "nbformat_minor": 2
}
