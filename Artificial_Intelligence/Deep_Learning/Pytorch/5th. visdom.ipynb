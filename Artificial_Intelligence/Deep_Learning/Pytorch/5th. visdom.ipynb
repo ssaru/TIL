{
 "cells": [
  {
   "cell_type": "markdown",
   "metadata": {},
   "source": [
    "# Visdom\n",
    "\n",
    "A flexible tool for creating, organizing, and sharing visualizations of live, rich data. Supports Torch and Numpy.\n",
    "\n",
    "[![Visdom](https://user-images.githubusercontent.com/13328380/55077008-1e1fbd80-50da-11e9-9771-14d158b33f31.png)](https://github.com/facebookresearch/visdom)\n",
    "\n",
    "- 실험 데이터를 원격으로 시각화하여 보여주는 툴\n",
    "- 중계되는(실시간으로 들어오는 데이터) 시각화 챠트를 지원함\n",
    "- 디버그 및 실험 코드를 시각화 할 수 있음\n",
    "\n",
    "## Windows\n",
    "\n",
    "- 초기에 UI는 비어있는 상태로 시작하며, 여기에 plots, image, text를 만들 수 있다.\n",
    "- UI의 plot되는 화면은 모두 이미지로 변환하여 저장할 수 있다.\n",
    "\n",
    "## Setup\n",
    "\n",
    "Requires Python 2.7/3 (and optionally Torch7)  \n",
    "    \n",
    "```bash\n",
    "> pip install visdom\n",
    "```\n",
    "\n",
    "## Usage\n",
    "\n",
    "```bash\n",
    "> visdom\n",
    "```\n",
    "\n",
    "Visdom now can be accessed by going to http://localhost:8097 in your browser, or your own host address if specified.\n",
    "\n",
    "### Command Line Options\n",
    "\n",
    "The following options can be provided to the server:\n",
    "\n",
    "1. `-port` : The port to run the server on.\n",
    "2. `-hostname` : The hostname to run the server on.\n",
    "3. `-base_url` : The base server url (default = /).\n",
    "4. `-env_path` : The path to the serialized session to reload.\n",
    "5. `-logging_level` : Logging level (default = INFO). Accepts both standard text and numeric logging values.\n",
    "6. `-readonly` : Flag to start server in readonly mode.\n",
    "7. `-enable_login` : Flag to setup authentication for the sever, requiring a username and password to login.\n",
    "8. `-force_new_cookie` : Flag to reset the secure cookie used by the server, invalidating current login cookies. Requires - enable_login\n",
    "\n",
    "### Python example\n",
    "\n",
    "```python\n",
    "import visdom\n",
    "import numpy as np\n",
    "vis = visdom.Visdom()\n",
    "vis.text('Hello, world!')\n",
    "vis.image(np.ones((3, 10, 10)))\n",
    "Torch example\n",
    "```"
   ]
  },
  {
   "cell_type": "code",
   "execution_count": null,
   "metadata": {},
   "outputs": [],
   "source": []
  },
  {
   "cell_type": "code",
   "execution_count": null,
   "metadata": {},
   "outputs": [],
   "source": []
  },
  {
   "cell_type": "code",
   "execution_count": null,
   "metadata": {},
   "outputs": [],
   "source": []
  },
  {
   "cell_type": "code",
   "execution_count": null,
   "metadata": {},
   "outputs": [],
   "source": []
  }
 ],
 "metadata": {
  "kernelspec": {
   "display_name": "Python 3",
   "language": "python",
   "name": "python3"
  },
  "language_info": {
   "codemirror_mode": {
    "name": "ipython",
    "version": 3
   },
   "file_extension": ".py",
   "mimetype": "text/x-python",
   "name": "python",
   "nbconvert_exporter": "python",
   "pygments_lexer": "ipython3",
   "version": "3.5.2"
  }
 },
 "nbformat": 4,
 "nbformat_minor": 2
}
