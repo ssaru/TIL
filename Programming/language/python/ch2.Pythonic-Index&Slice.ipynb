{
 "cells": [
  {
   "cell_type": "markdown",
   "metadata": {},
   "source": [
    "# Pythonic\n",
    "\n",
    "프로그래밍에서 관용구(idiom)는 특정 작업을 수행하기 위해 코드를 작성하는 특별한 방법이다.  \n",
    "매번 동일한 구조를 반복하고 따르는 것이 일반적이다.  \n",
    "이는 언어와 무관한 고차원의 개념으로 코드로 즉시 변환되지 않는 디자인 패턴과는 다르다.  \n",
    "    \n",
    "관용구는 코드이므로 언어에 따라 다르며, 실제 코딩으로 변환된다.  \n",
    "관용구를 따른 코드를 관용적이라고 부르며, Python에서는 Python스럽다(Pythonic)이라고 한다."
   ]
  },
  {
   "cell_type": "markdown",
   "metadata": {},
   "source": [
    "## 인덱스와 슬라이스\n",
    "\n",
    "일반적으로 프로그래밍에서 array에 접근할 때, index를 0~n까지의 정수를 사용한다.  \n",
    "하지만 Python에서는 음수를 통해서 접근할 수 있다."
   ]
  },
  {
   "cell_type": "code",
   "execution_count": 1,
   "metadata": {},
   "outputs": [
    {
     "name": "stdout",
     "output_type": "stream",
     "text": [
      "9\n",
      "5\n"
     ]
    }
   ],
   "source": [
    "my_numbers = (4, 5, 3, 9)\n",
    "print(my_numbers[-1])\n",
    "print(my_numbers[-3])"
   ]
  },
  {
   "cell_type": "markdown",
   "metadata": {},
   "source": [
    "Slice르 사용하여 특정 구간의 요소를 구할 수도 있다.  \n",
    "Slice의 `시작 인덱스`는 **포함**, `끝 인덱스`는 **제외**하고 선택한 구간의 값을 가져온다는 것에 유의하자.  \n",
    "시작, 끝 또는 간격 파라미터 중 하나를 제외할 수 있으며, 이런 경우에는 아래의 결과처럼, 시퀸스의 처음 또는 끝에서부터 동작한다.  \n",
    "\n",
    "`Slice를 사용한 경우, return 값과 original의 값의 관계는 deep copy인가 shallow copy인가?`"
   ]
  },
  {
   "cell_type": "code",
   "execution_count": 4,
   "metadata": {},
   "outputs": [
    {
     "name": "stdout",
     "output_type": "stream",
     "text": [
      "(2, 3, 5)\n"
     ]
    }
   ],
   "source": [
    "my_numbers = (1, 1, 2, 3, 5, 8, 13, 21)\n",
    "print(my_numbers[2:5])"
   ]
  },
  {
   "cell_type": "code",
   "execution_count": 1,
   "metadata": {},
   "outputs": [
    {
     "ename": "NameError",
     "evalue": "name 'my_numbers' is not defined",
     "output_type": "error",
     "traceback": [
      "\u001b[0;31m---------------------------------------------------------------------------\u001b[0m",
      "\u001b[0;31mNameError\u001b[0m                                 Traceback (most recent call last)",
      "\u001b[0;32m<ipython-input-1-a80a9aec5d3d>\u001b[0m in \u001b[0;36m<module>\u001b[0;34m\u001b[0m\n\u001b[0;32m----> 1\u001b[0;31m \u001b[0mprint\u001b[0m\u001b[0;34m(\u001b[0m\u001b[0mmy_numbers\u001b[0m\u001b[0;34m[\u001b[0m\u001b[0;34m:\u001b[0m\u001b[0;36m3\u001b[0m\u001b[0;34m]\u001b[0m\u001b[0;34m)\u001b[0m\u001b[0;34m\u001b[0m\u001b[0m\n\u001b[0m\u001b[1;32m      2\u001b[0m \u001b[0mprint\u001b[0m\u001b[0;34m(\u001b[0m\u001b[0mmy_numbers\u001b[0m\u001b[0;34m[\u001b[0m\u001b[0;36m3\u001b[0m\u001b[0;34m:\u001b[0m\u001b[0;34m]\u001b[0m\u001b[0;34m)\u001b[0m\u001b[0;34m\u001b[0m\u001b[0m\n\u001b[1;32m      3\u001b[0m \u001b[0mprint\u001b[0m\u001b[0;34m(\u001b[0m\u001b[0mmy_numbers\u001b[0m\u001b[0;34m[\u001b[0m\u001b[0;34m:\u001b[0m\u001b[0;34m:\u001b[0m\u001b[0;34m]\u001b[0m\u001b[0;34m)\u001b[0m \u001b[0;31m# this case return value is tuple as copy from original tuple\u001b[0m\u001b[0;34m\u001b[0m\u001b[0m\n\u001b[1;32m      4\u001b[0m \u001b[0mprint\u001b[0m\u001b[0;34m(\u001b[0m\u001b[0mmy_numbers\u001b[0m\u001b[0;34m[\u001b[0m\u001b[0;36m1\u001b[0m\u001b[0;34m:\u001b[0m\u001b[0;36m7\u001b[0m\u001b[0;34m:\u001b[0m\u001b[0;36m2\u001b[0m\u001b[0;34m]\u001b[0m\u001b[0;34m)\u001b[0m\u001b[0;34m\u001b[0m\u001b[0m\n",
      "\u001b[0;31mNameError\u001b[0m: name 'my_numbers' is not defined"
     ]
    }
   ],
   "source": [
    "print(my_numbers[:3])\n",
    "print(my_numbers[3:])\n",
    "print(my_numbers[::]) # this case return value is tuple as copy from original tuple\n",
    "print(my_numbers[1:7:2])"
   ]
  },
  {
   "cell_type": "code",
   "execution_count": 2,
   "metadata": {},
   "outputs": [
    {
     "name": "stdout",
     "output_type": "stream",
     "text": [
      "[[1, 2, 3], [4, 5, 6]]\n",
      "[[5, 2, 3], [4, 5, 6]]\n",
      "[5, 2, 3]\n"
     ]
    }
   ],
   "source": [
    "a = [[1,2,3], [4,5,6]]\n",
    "print(a)\n",
    "\n",
    "b = a[0]\n",
    "b[0] = 5\n",
    "\n",
    "print(a)\n",
    "print(b)"
   ]
  },
  {
   "cell_type": "markdown",
   "metadata": {},
   "source": [
    "위의 모든 예제에서 시퀸스에 간격을 전달할 때, 실제로는 Slice를 전달하는 것과 같다.  \n",
    "slice는 파이썬 내장 객체로 직접 빌드하여 전달할 수도 있다.\n",
    "\n",
    "mutable이냐 아니냐에 따라서, shallow copy, deep copy 바뀜 (케바케)\n",
    "\n",
    "python은 call by object reference"
   ]
  },
  {
   "cell_type": "code",
   "execution_count": null,
   "metadata": {},
   "outputs": [],
   "source": [
    "interval = slice(1, 7, 2)\n",
    "print(my_numbers[interval])\n",
    "\n",
    "interval = slice(None, 3)\n",
    "print(my_numbers[interval] == my_numbers[:3])"
   ]
  },
  {
   "cell_type": "markdown",
   "metadata": {},
   "source": [
    "### indexing & slice result is shallow copy or deep copy?"
   ]
  },
  {
   "cell_type": "code",
   "execution_count": null,
   "metadata": {
    "scrolled": true
   },
   "outputs": [],
   "source": [
    "my_numbers = [1, 1, 2, 3, 5, 8, 13, 21]\n",
    "\n",
    "# slicing list\n",
    "test1 = my_numbers[:3]\n",
    "print(test1)\n",
    "\n",
    "# change value in slicing object\n",
    "test1[0] = 90\n",
    "print(test1)\n",
    "print(my_numbers, end=\"\\n\\n\")\n",
    "\n",
    "test1 = my_numbers[3:]\n",
    "print(test1)\n",
    "test1[0] = 90\n",
    "print(test1)\n",
    "print(my_numbers, end=\"\\n\\n\")\n",
    "\n",
    "test1 = my_numbers[::]\n",
    "print(test1)\n",
    "test1[0] = 90\n",
    "print(test1)\n",
    "print(my_numbers, end=\"\\n\\n\")\n",
    "\n",
    "test1 = my_numbers[1:7:2]\n",
    "print(test1)\n",
    "test1[0] = 90\n",
    "print(test1)\n",
    "print(my_numbers, end=\"\\n\\n\")"
   ]
  },
  {
   "cell_type": "markdown",
   "metadata": {},
   "source": [
    "**`슬라이싱의 결과는 Deep Copy다`**(x)"
   ]
  },
  {
   "cell_type": "markdown",
   "metadata": {},
   "source": [
    "## 자체 시퀸스 생성\n",
    "\n",
    "위에서 설명한 기능`(?)`은 `__getitem__`이라는 매직 메소드 덕분에 동작한다.  \n",
    "이는 `myobject[key]`와 같은 형태를 사용할 때, 호출되는 메소드로 key에 해당하는 대괄호 안의 값을 파라미터로 전달한다.  \n",
    "    \n",
    "특히 시퀸스는 `__getitem__`과 `__len__`을 구현하는 객체이므로 반복이 가능하다.  \n",
    "`list`, `tuple`, `str`은 표준 라이브러리에 있는 시퀸스 객체의 예이다.\n",
    "    \n",
    "해당 챕터에서는 `시퀸스`나 `이터레이블`객체를 만들지 않고, 키로 객체의 특정 요소를 가져오는 방법에 대해 다룬다.  \n",
    "    \n",
    "클래스가 표준 라이브러리 객체를 감싸는 래퍼인 경우 기본 객체에 가능한 많은 동작을 위임할 수 있다.  \n",
    "즉 클래스가 리스트의 래퍼인 경우 리스트의 동일한 메소드를 호출하여 호환성을 유지할 수 있다."
   ]
  },
  {
   "cell_type": "markdown",
   "metadata": {},
   "source": [
    "### 캡슐화 방식을 사용한 리스트 랩핑"
   ]
  },
  {
   "cell_type": "code",
   "execution_count": null,
   "metadata": {},
   "outputs": [],
   "source": [
    "class Items(object):\n",
    "    def __init__(self, *values):\n",
    "        self._values = list(values)\n",
    "        \n",
    "    def __len__(self):\n",
    "        return len(self._values)\n",
    "    \n",
    "    def __getitem__(self, item):\n",
    "        return self._values.__getitem__(item)"
   ]
  },
  {
   "cell_type": "markdown",
   "metadata": {},
   "source": [
    "- 상속을 이용하는 방법도 있다\n",
    "    - 상속을 이용하고싶다면, `collections.UserLIst` 부모 클래스를 상속받아야한다.\n",
    "    - 이는 나중에 다룬다.\n",
    "    \n",
    "     \n",
    "만약 래퍼도 아니고 내장 객체를 사용하지도 않는 경우는 자신만의 시퀸스를 구현할 수 있다.  \n",
    "이때는 다음 사항에 유의해야한다.  \n",
    "(`Python3에는 기본 class가 내장 객체를 기본적으로 상속받는 것으로 알고있는데, 이를 강제로 변경할 수 있나?`)\n",
    "> 위의 이야기가 아니라, 이미 기존에 있는 래퍼방식을 쓰던가,   \n",
    "> 상속받는 방식을 쓰는게 아니라, 순수하게 자신의 시퀸스 객체를 정의할 때, 이야기\n",
    "    \n",
    "    \n",
    "    \n",
    "- 범위로 인덱싱하는 결과는 해당 클래스와 같은 타입의 인스턴스여야 한다.\n",
    "- slice에 의해 제공된 범위는 파이썬이 하는 것처럼 마지막 요소는 제외해야한다.  \n",
    "    \n",
    "<br/>\n",
    "    \n",
    "1. \"범위로 인덱싱하는 결과는 해당 클래스와 같은 타입의 인스턴스여야 한다.\" 의 예시 `range`  \n",
    "`interval`을 지정하여 range를 호출하면 선택한 범위의 값을 생성하는 방법을 알고 있는 이터러블 객체를 반환한다.  \n",
    "range의 간격을 지정하면 당연하게도, 리스트가 아닌 새로운 range를 얻게 된다.  \n",
    "```python\n",
    ">> range(1, 100)[25:50]\n",
    "   range(26, 51)\n",
    "```\n",
    "`list`의 `interval`을 지정해서 받은 `return` 값이 `str`이거나 `tuple`이라면 얼마나 황당한가?  \n",
    "<br/>\n",
    "2. slice에 의해 제공된 범위는 파이썬이 하는 것처럼 마지막 요소는 제외해야한다.  \n",
    "이는 일관성에 대한 문제이다. python3 내장 slice가 마지막 요소를 제외하고 있으며, 사용자가 이에 익숙하다면,  \n",
    "제공된 커스텀 객체가 이렇게 작동하지 않는다면, 사용자가 이를 혼동하고 사용하기 어려울 수 있다.\n",
    "    "
   ]
  },
  {
   "cell_type": "markdown",
   "metadata": {},
   "source": [
    "## Python3에는 기본 class가 내장 객체를 기본적으로 상속받는 것으로 알고있는데, 이를 강제로 변경할 수 있나?"
   ]
  },
  {
   "cell_type": "code",
   "execution_count": 3,
   "metadata": {},
   "outputs": [
    {
     "name": "stdout",
     "output_type": "stream",
     "text": [
      "['__class__', '__delattr__', '__dir__', '__doc__', '__eq__', '__format__', '__ge__', '__getattribute__', '__gt__', '__hash__', '__init__', '__le__', '__lt__', '__ne__', '__new__', '__reduce__', '__reduce_ex__', '__repr__', '__setattr__', '__sizeof__', '__str__', '__subclasshook__']\n"
     ]
    }
   ],
   "source": [
    "print(dir(object))"
   ]
  },
  {
   "cell_type": "code",
   "execution_count": 4,
   "metadata": {},
   "outputs": [
    {
     "name": "stdout",
     "output_type": "stream",
     "text": [
      "['__class__', '__delattr__', '__dict__', '__dir__', '__doc__', '__eq__', '__format__', '__ge__', '__getattribute__', '__gt__', '__hash__', '__init__', '__le__', '__lt__', '__module__', '__ne__', '__new__', '__reduce__', '__reduce_ex__', '__repr__', '__setattr__', '__sizeof__', '__str__', '__subclasshook__', '__weakref__']\n",
      "\n",
      "['__class__', '__delattr__', '__dict__', '__dir__', '__doc__', '__eq__', '__format__', '__ge__', '__getattribute__', '__gt__', '__hash__', '__init__', '__le__', '__lt__', '__module__', '__ne__', '__new__', '__reduce__', '__reduce_ex__', '__repr__', '__setattr__', '__sizeof__', '__str__', '__subclasshook__', '__weakref__']\n",
      "\n",
      "['__class__', '__delattr__', '__dict__', '__dir__', '__doc__', '__eq__', '__format__', '__ge__', '__getattribute__', '__gt__', '__hash__', '__init__', '__le__', '__lt__', '__module__', '__ne__', '__new__', '__reduce__', '__reduce_ex__', '__repr__', '__setattr__', '__sizeof__', '__str__', '__subclasshook__', '__weakref__']\n",
      "\n"
     ]
    }
   ],
   "source": [
    "class test:\n",
    "    def __init__(self):\n",
    "        pass\n",
    "    \n",
    "class test1():\n",
    "    def __init__(self):\n",
    "        pass\n",
    "    \n",
    "class test2(object):\n",
    "    def __init__(self):\n",
    "        pass\n",
    "    \n",
    "a = test()\n",
    "b = test1()\n",
    "c = test2()\n",
    "\n",
    "print(dir(a), end=\"\\n\\n\")\n",
    "\n",
    "print(dir(b), end=\"\\n\\n\")\n",
    "\n",
    "print(dir(c), end=\"\\n\\n\")\n"
   ]
  },
  {
   "cell_type": "markdown",
   "metadata": {},
   "source": [
    "## Python2의 결과"
   ]
  },
  {
   "cell_type": "markdown",
   "metadata": {},
   "source": [
    "```python\n",
    "class test:\n",
    "    def __init__(self):\n",
    "        pass\n",
    "    \n",
    "class test1():\n",
    "    def __init__(self):\n",
    "        pass\n",
    "    \n",
    "class test2(object):\n",
    "    def __init__(self):\n",
    "        pass\n",
    "    \n",
    "a = test()\n",
    "b = test1()\n",
    "c = test2()\n",
    "\n",
    "print(dir(a))\n",
    "print\n",
    "\n",
    "print(dir(b))\n",
    "print\n",
    "\n",
    "print(dir(c))\n",
    "print\n",
    "```\n",
    "\n",
    "```python\n",
    ">> python2 test.py\n",
    ">> ['__doc__', '__init__', '__module__']\n",
    ">> \n",
    ">> ['__doc__', '__init__', '__module__']\n",
    ">> \n",
    ">> ['__class__', '__delattr__', '__dict__', '__doc__', '__format__', '__getattribute__', '__hash__', '__init__', '__module__', '__new__', '__reduce__', '__reduce_ex__', '__repr__', '__setattr__', '__sizeof__', '__str__', '__subclasshook__', '__weakref__']\n",
    ">> \n",
    "```"
   ]
  },
  {
   "cell_type": "markdown",
   "metadata": {},
   "source": [
    "**`모든 클래스는 기본적으로 object를 상속받는다.`**"
   ]
  },
  {
   "cell_type": "code",
   "execution_count": null,
   "metadata": {},
   "outputs": [],
   "source": []
  }
 ],
 "metadata": {
  "kernelspec": {
   "display_name": "Python 3",
   "language": "python",
   "name": "python3"
  },
  "language_info": {
   "codemirror_mode": {
    "name": "ipython",
    "version": 3
   },
   "file_extension": ".py",
   "mimetype": "text/x-python",
   "name": "python",
   "nbconvert_exporter": "python",
   "pygments_lexer": "ipython3",
   "version": "3.5.2"
  }
 },
 "nbformat": 4,
 "nbformat_minor": 2
}
