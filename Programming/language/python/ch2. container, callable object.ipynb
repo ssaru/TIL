{
 "cells": [
  {
   "cell_type": "markdown",
   "metadata": {},
   "source": [
    "# Container Object\n",
    "\n",
    "- 컨테이너는 `__contains__`메소드를 구현한 객체이다.\n",
    "- `__contains__`는 일반적으로 `Boolean`값을 반환한다.\n",
    "- 이러한 메소드는 파이썬에서 `in` 키워드가 발견될 때, 사용된다.\n",
    "- 해당 메소드를 잘 사용하면 **가독성**이 좋아진다.\n",
    "\n",
    "<br/>\n",
    "\n",
    "```python\n",
    "element in container\n",
    "```\n",
    "\n",
    "<br/>\n",
    "\n",
    "위의 코드를 파이썬에서는 아래와 같이 해석한다.\n",
    "```python\n",
    "container.__contains__(element)\n",
    "```\n",
    "\n",
    "<br/>\n",
    "\n",
    "위에서 `__contains__`메소드를 잘 사용하면, **가독성**이 좋아진다고 언급했는데, 아래의 코드를 보자\n",
    "\n",
    "<br/>\n",
    "\n",
    "```python\n",
    "def mark_coordinate(grid, coord):\n",
    "    if 0 <= coord.x < grid.width and 0 <= coord.y < grid.height:\n",
    "        grid[coord] = MARKED\n",
    "```\n",
    "\n",
    "- 위의 코드에서 `if 0 <= coord.x < grid.width and 0 <= coord.y < grid.height:`줄은 직관적으로 이해하기 어렵다.\n",
    "- 이를 grid라는 class로 판단하며, 실제 처리 방식을 더 작은 객체에게 위임하면 가독성이 좋아지게된다.\n",
    "> 책에서는 **위임을 통해 응집력도 높아진다.** 라고 언급하는데, 해당 의미는 무엇일까?...  \n",
    "    \n",
    "이를 `__contains__`로 리팩토링해보자  \n",
    "```python\n",
    "class Boundaries:\n",
    "    def __init__(self, width, height):\n",
    "        self.width = width\n",
    "        self.height = height\n",
    "        \n",
    "    def __contains__(self, coord):\n",
    "        x, y = coord\n",
    "        return 0 <= coord.x < grid.width and 0 <= coord.y < grid.height\n",
    "    \n",
    "class Grid:\n",
    "    def __init__(self, width, height):\n",
    "        self.width = width\n",
    "        self.height = height\n",
    "        self.limits = Boundaries(width, height)\n",
    "        \n",
    "    def __contains__(self, coord):\n",
    "        return coord in self.limits\n",
    "```\n",
    "\n",
    "위와 같이 작성하면, `mark_coordinate` 함수는 아래와 같이 간결해진다.\n",
    "```python\n",
    "def mark_coordinate(grid, coord):\n",
    "    if coord in grid:\n",
    "        grid[coord] = MARKED\n",
    "```"
   ]
  },
  {
   "cell_type": "markdown",
   "metadata": {},
   "source": [
    "# Get attribute\n",
    "\n",
    "- `__getattr__` 매직 메소드를 이용하면, 객체에서 속성을 얻는 방법을 제어할 수 있다.\n",
    "- 객체에서 속성을 얻는 방법이라고 하면 아래와 같은 클래스가 있을 때, 해당 객체의 멤버 변수나, 멤버 함수를 가져오는 것들을 이야기한다. 아래의 코드에서는 `person.name`, `person.number`와 같이 **[myobject].[myattribute]** 형태를 말한다. \n",
    "- 만약 객체에 해당 속성이 없다면, 속성(myattribute)의 이름을 파라미터로 전달하여 `__getattr__`이라는 추가 메소드를 호출한다.\n",
    "\n",
    "```python\n",
    "class Person:\n",
    "    def __init__(self, name, number):\n",
    "        self.name = name\n",
    "        self.number\n",
    "\n",
    "person = Person(\"Martin\", \"010-xxxx-xxxx\")\n",
    "name = person.name\n",
    "number = person.number\n",
    "```\n",
    "\n",
    "<br/>\n",
    "\n",
    "```python\n",
    "class DynamicAttributes:\n",
    "    def __init__(self, attribute):\n",
    "        self.attribute = attribute\n",
    "        \n",
    "    def __getattr__(self, attr):\n",
    "        if attr.startswith(\"fallback_\"):\n",
    "            name = attr.replace(\"fallback_\", \"\")\n",
    "            return f\"[fallback resolved] {name}\"\n",
    "        \n",
    "        raise AttributeError(f\"{self.__class__.__name__}에는 {attr} 속성이 없음.\")\n",
    "```\n",
    "\n",
    "위에서 정의한 `DynamicAttributes`는 아래와 같이 사용할 수 있다.  \n",
    "    \n",
    "```bash\n",
    "> dyn = DynamicAttributes(\"value\")\n",
    "> dyn.attribute\n",
    "'value'\n",
    "\n",
    "> dyn.fallback_test\n",
    "'[fallback resolved] test'\n",
    "\n",
    "> dyn.__dict__[\"fallback_new\"] = \"new value\"\n",
    "> dyn.fallback_new\n",
    "'new value'\n",
    "\n",
    "> getattr(dyn, \"something\", \"default\")\n",
    "'default'\n",
    "```\n",
    "\n",
    "<br/>\n",
    "\n",
    "해당 코드는 아래의 코드와 같은 의미다. 하지만 단순히 `__getattr__`메소드가 실행되지 않았기 때문에, `fallback_new`라는 속성이 생긴다.\n",
    "\n",
    "```python\n",
    "> dyn.__dict__[\"fallback_new\"] = \"new value\"\n",
    "> dyn.fallback_new\n",
    "'new value'\n",
    "```\n",
    "\n",
    "<br/>\n",
    "\n",
    "\n",
    "```python\n",
    "> dyn.fallback_new = \"new value\"\n",
    "```\n",
    "\n",
    "## Should raise `AttributeError` in `__getattr__!!!`\n",
    "\n",
    "- 아래와 같이 `__getattr__` 메소드는 `AttributeError`를 발생시켜야한다.\n",
    "\n",
    "```python\n",
    "def __getattr__(self, attr):\n",
    "        if attr.startswith(\"fallback_\"):\n",
    "            name = attr.replace(\"fallback_\", \"\")\n",
    "            return f\"[fallback resolved] {name}\"\n",
    "\n",
    "        raise AttributeError(f\"{self.__class__.__name__}에는 {attr} 속성이 없음.\")\n",
    "```"
   ]
  },
  {
   "cell_type": "code",
   "execution_count": 18,
   "metadata": {},
   "outputs": [
    {
     "name": "stdout",
     "output_type": "stream",
     "text": [
      "value\n",
      "[fallback resolved] test\n",
      "new value\n",
      "default\n"
     ]
    }
   ],
   "source": [
    "class DynamicAttributes:\n",
    "    def __init__(self, attribute):\n",
    "        self.attribute = attribute\n",
    "        \n",
    "    def __getattr__(self, attr):\n",
    "        if attr.startswith(\"fallback_\"):\n",
    "            name = attr.replace(\"fallback_\", \"\")\n",
    "            return \"[fallback resolved] {}\".format(name)\n",
    "        \n",
    "        raise AttributeError(\"{}에는 {} 속성이 없음.\".format(self.__class__.__name__, attr))\n",
    "        \n",
    "dyn = DynamicAttributes(\"value\")\n",
    "print(dyn.attribute)\n",
    "print(dyn.fallback_test)\n",
    "dyn.__dict__[\"fallback_new\"] = \"new value\"\n",
    "print(dyn.fallback_new)\n",
    "print(getattr(dyn, \"something\", \"default\"))"
   ]
  },
  {
   "cell_type": "markdown",
   "metadata": {},
   "source": [
    "## String startwith() method\n",
    "- **startwith** 함수는 파라미터로 받은 String이 해당 문자열로 시작하는지를 반환한다.\n",
    "- `beg`, `end`는 특정 인덱스 안에서 해당 String이 해당 문자열로 시작하는지 확인할 수 있다.  \n",
    "\n",
    "```python\n",
    "str.startwith(str, beg=0, end=len(string))\n",
    "```\n",
    "### Parameters\n",
    "\n",
    "- **str** − This is the string to be checked.\n",
    "\n",
    "- **beg** − This is the optional parameter to set start index of the matching boundary.\n",
    "\n",
    "- **end** − This is the optional parameter to end start index of the matching boundary.\n"
   ]
  },
  {
   "cell_type": "code",
   "execution_count": 8,
   "metadata": {},
   "outputs": [
    {
     "name": "stdout",
     "output_type": "stream",
     "text": [
      "True\n",
      "True\n",
      "False\n",
      "False\n",
      "True\n"
     ]
    }
   ],
   "source": [
    "string = \"this is string example....wow!!!\";\n",
    "print(string.startswith( 'this' ))\n",
    "print(string.startswith( 'is', 2, 4 ))\n",
    "print(string.startswith( 'this', 2, 4 ))\n",
    "print(string.startswith( 'string', 2, 4 ))\n",
    "print(string.startswith( 'string', 8, 15 ))"
   ]
  },
  {
   "cell_type": "markdown",
   "metadata": {},
   "source": [
    "# Callable object\n",
    "\n",
    "- 객체가 함수처럼 작동되면 매우 편하다.\n",
    "- 이는 데코레이터를 이용해 만들 수도 있지만, 매직 메소드를 사용해서 할 수도 있다.\n",
    "- `__call__` 매직 메소드를 이용해서 객체를 일반 함수처럼 호출한다.\n",
    "- 이렇게 사용하는 이유는 함수에는 상태를 저장할 수 없지만, 객체에서는 상태를 저장할 수 있기 때문이다.\n",
    "> 즉, 상태를 저장할 수 있는 함수로써 사용하고 싶은 것이다.\n",
    "- 파이썬은 `object(*args, **kwargs)`와 같은 구문을 `object.__call__(*args, **kwargs)`로 변환한다."
   ]
  },
  {
   "cell_type": "code",
   "execution_count": 19,
   "metadata": {},
   "outputs": [
    {
     "name": "stdout",
     "output_type": "stream",
     "text": [
      "1\n",
      "1\n",
      "2\n",
      "3\n",
      "1\n"
     ]
    }
   ],
   "source": [
    "from collections import defaultdict\n",
    "\n",
    "class CallCount:\n",
    "    \n",
    "    def __init__(self):\n",
    "        self._counts = defaultdict(int)\n",
    "        \n",
    "    def __call__(self, argument):\n",
    "        self._counts[argument] += 1\n",
    "        return self._counts[argument]\n",
    "    \n",
    "cc = CallCount()\n",
    "print(cc(1))\n",
    "print(cc(2))\n",
    "print(cc(1))\n",
    "print(cc(1))\n",
    "print(cc(\"something\"))"
   ]
  },
  {
   "cell_type": "markdown",
   "metadata": {},
   "source": [
    "# Should be becareful in Python\n",
    "\n",
    "- 방어코드를 작성하지 않으면, 오랜 시간 디버깅하는데 고생할만한 이슈들을 살펴봄\n",
    "\n",
    "## 변경 가능한(mutable) 파라미터의 기본 값\n",
    "\n",
    "- 변경 가능한 객체를 함수의 기본 인자로 사용하면 안된다.\n",
    "```python\n",
    "def wrong_user_display(user_metadata: dict = {\"name\": \"John\", \"age\": 30}):\n",
    "    name = user_metadata.pop(\"name\")\n",
    "    age = user_metadata.pop(\"age\")\n",
    "    \n",
    "    return \"{} ({})\".format(name, age)\n",
    "```\n",
    "\n",
    "- `user_metadata`는 `dict`타입으로 변경이 가능하다.\n",
    "- 함수 내에서 가변객체를 수정한다.\n",
    "- `user_metadata`의 기본인자도 문제다.\n",
    "    - default값을 이용해 함수를 호출하면, 기본데이터로 사용할 dict을 한 번만 생성한다.\n",
    "    - 함수 본체에서 해당 dict을 사용하고 수정한다.\n",
    "    - 두번째 호출에서 다른 파라미터를 사용하면, 기본데이터 대신 받은 파라미터를 사용한다.\n",
    "    - 따라서 세번째 호출에서 다른 파라미터를 사용하지 않고, 기본 값을 이용해 호출하면 실패한다.\n",
    "    - 첫번째 호출 시, key를 지웠기 때문이다.\n",
    "    \n",
    "> - 위 방법에 대한 해결책은 초기값을 `None`으로 사용한다.\n",
    "> - 함수 본문에서 기본 값을 할당해서 쓴다."
   ]
  },
  {
   "cell_type": "code",
   "execution_count": 20,
   "metadata": {},
   "outputs": [
    {
     "name": "stdout",
     "output_type": "stream",
     "text": [
      "John (30)\n",
      "Jane (25)\n"
     ]
    },
    {
     "ename": "KeyError",
     "evalue": "'name'",
     "output_type": "error",
     "traceback": [
      "\u001b[0;31m---------------------------------------------------------------------------\u001b[0m",
      "\u001b[0;31mKeyError\u001b[0m                                  Traceback (most recent call last)",
      "\u001b[0;32m<ipython-input-20-a8b0de630259>\u001b[0m in \u001b[0;36m<module>\u001b[0;34m\u001b[0m\n\u001b[1;32m      7\u001b[0m \u001b[0mprint\u001b[0m\u001b[0;34m(\u001b[0m\u001b[0mwrong_user_display\u001b[0m\u001b[0;34m(\u001b[0m\u001b[0;34m)\u001b[0m\u001b[0;34m)\u001b[0m\u001b[0;34m\u001b[0m\u001b[0m\n\u001b[1;32m      8\u001b[0m \u001b[0mprint\u001b[0m\u001b[0;34m(\u001b[0m\u001b[0mwrong_user_display\u001b[0m\u001b[0;34m(\u001b[0m\u001b[0;34m{\u001b[0m\u001b[0;34m\"name\"\u001b[0m \u001b[0;34m:\u001b[0m \u001b[0;34m\"Jane\"\u001b[0m\u001b[0;34m,\u001b[0m \u001b[0;34m\"age\"\u001b[0m \u001b[0;34m:\u001b[0m \u001b[0;36m25\u001b[0m\u001b[0;34m}\u001b[0m\u001b[0;34m)\u001b[0m\u001b[0;34m)\u001b[0m\u001b[0;34m\u001b[0m\u001b[0m\n\u001b[0;32m----> 9\u001b[0;31m \u001b[0mprint\u001b[0m\u001b[0;34m(\u001b[0m\u001b[0mwrong_user_display\u001b[0m\u001b[0;34m(\u001b[0m\u001b[0;34m)\u001b[0m\u001b[0;34m)\u001b[0m\u001b[0;34m\u001b[0m\u001b[0m\n\u001b[0m",
      "\u001b[0;32m<ipython-input-20-a8b0de630259>\u001b[0m in \u001b[0;36mwrong_user_display\u001b[0;34m(user_metadata)\u001b[0m\n\u001b[1;32m      1\u001b[0m \u001b[0;32mdef\u001b[0m \u001b[0mwrong_user_display\u001b[0m\u001b[0;34m(\u001b[0m\u001b[0muser_metadata\u001b[0m\u001b[0;34m:\u001b[0m \u001b[0mdict\u001b[0m \u001b[0;34m=\u001b[0m \u001b[0;34m{\u001b[0m\u001b[0;34m\"name\"\u001b[0m\u001b[0;34m:\u001b[0m \u001b[0;34m\"John\"\u001b[0m\u001b[0;34m,\u001b[0m \u001b[0;34m\"age\"\u001b[0m\u001b[0;34m:\u001b[0m \u001b[0;36m30\u001b[0m\u001b[0;34m}\u001b[0m\u001b[0;34m)\u001b[0m\u001b[0;34m:\u001b[0m\u001b[0;34m\u001b[0m\u001b[0m\n\u001b[0;32m----> 2\u001b[0;31m     \u001b[0mname\u001b[0m \u001b[0;34m=\u001b[0m \u001b[0muser_metadata\u001b[0m\u001b[0;34m.\u001b[0m\u001b[0mpop\u001b[0m\u001b[0;34m(\u001b[0m\u001b[0;34m\"name\"\u001b[0m\u001b[0;34m)\u001b[0m\u001b[0;34m\u001b[0m\u001b[0m\n\u001b[0m\u001b[1;32m      3\u001b[0m     \u001b[0mage\u001b[0m \u001b[0;34m=\u001b[0m \u001b[0muser_metadata\u001b[0m\u001b[0;34m.\u001b[0m\u001b[0mpop\u001b[0m\u001b[0;34m(\u001b[0m\u001b[0;34m\"age\"\u001b[0m\u001b[0;34m)\u001b[0m\u001b[0;34m\u001b[0m\u001b[0m\n\u001b[1;32m      4\u001b[0m \u001b[0;34m\u001b[0m\u001b[0m\n\u001b[1;32m      5\u001b[0m     \u001b[0;32mreturn\u001b[0m \u001b[0;34m\"{} ({})\"\u001b[0m\u001b[0;34m.\u001b[0m\u001b[0mformat\u001b[0m\u001b[0;34m(\u001b[0m\u001b[0mname\u001b[0m\u001b[0;34m,\u001b[0m \u001b[0mage\u001b[0m\u001b[0;34m)\u001b[0m\u001b[0;34m\u001b[0m\u001b[0m\n",
      "\u001b[0;31mKeyError\u001b[0m: 'name'"
     ]
    }
   ],
   "source": [
    "def wrong_user_display(user_metadata: dict = {\"name\": \"John\", \"age\": 30}):\n",
    "    name = user_metadata.pop(\"name\")\n",
    "    age = user_metadata.pop(\"age\")\n",
    "    \n",
    "    return \"{} ({})\".format(name, age)\n",
    "\n",
    "print(wrong_user_display())\n",
    "print(wrong_user_display({\"name\" : \"Jane\", \"age\" : 25}))\n",
    "print(wrong_user_display())"
   ]
  },
  {
   "cell_type": "markdown",
   "metadata": {},
   "source": [
    "## Built-in 타입 확장\n",
    "\n",
    "- python에 내장되어있는 `list`, `dict`, `str`과 같은 내장타입을 클래스로 확장(상속)할때는 **collection** 모듈을 사용한다.\n",
    "- 그 이유는 Cython, PyPy와 호환성을 위함이다."
   ]
  },
  {
   "cell_type": "code",
   "execution_count": null,
   "metadata": {},
   "outputs": [],
   "source": []
  }
 ],
 "metadata": {
  "kernelspec": {
   "display_name": "Python 3",
   "language": "python",
   "name": "python3"
  },
  "language_info": {
   "codemirror_mode": {
    "name": "ipython",
    "version": 3
   },
   "file_extension": ".py",
   "mimetype": "text/x-python",
   "name": "python",
   "nbconvert_exporter": "python",
   "pygments_lexer": "ipython3",
   "version": "3.5.2"
  }
 },
 "nbformat": 4,
 "nbformat_minor": 2
}
